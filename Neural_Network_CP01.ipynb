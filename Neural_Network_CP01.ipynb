{
  "metadata": {
    "kernelspec": {
      "display_name": "Python 3",
      "name": "python3"
    },
    "language_info": {
      "name": "python",
      "version": "3.10.12",
      "mimetype": "text/x-python",
      "codemirror_mode": {
        "name": "ipython",
        "version": 3
      },
      "pygments_lexer": "ipython3",
      "nbconvert_exporter": "python",
      "file_extension": ".py"
    },
    "colab": {
      "provenance": [],
      "include_colab_link": true
    },
    "accelerator": "TPU"
  },
  "nbformat_minor": 0,
  "nbformat": 4,
  "cells": [
    {
      "cell_type": "markdown",
      "metadata": {
        "id": "view-in-github",
        "colab_type": "text"
      },
      "source": [
        "<a href=\"https://colab.research.google.com/github/dp2292/CP01-Data-Alchemists/blob/main/Neural_Network_CP01.ipynb\" target=\"_parent\"><img src=\"https://colab.research.google.com/assets/colab-badge.svg\" alt=\"Open In Colab\"/></a>"
      ]
    },
    {
      "cell_type": "code",
      "source": [
        "!mkdir data"
      ],
      "metadata": {
        "id": "sazaXG_8HPNs"
      },
      "execution_count": 1,
      "outputs": []
    },
    {
      "cell_type": "code",
      "source": [
        "!gdown --id 1RfhNYBd7g70LdgJROvx8iPGygPhiGQLZ -O data/"
      ],
      "metadata": {
        "colab": {
          "base_uri": "https://localhost:8080/"
        },
        "id": "TPF8KVC1HRSj",
        "outputId": "8b94e093-d4ca-497d-c5b1-0c0efa8eb33d"
      },
      "execution_count": 2,
      "outputs": [
        {
          "output_type": "stream",
          "name": "stdout",
          "text": [
            "/usr/local/lib/python3.10/dist-packages/gdown/cli.py:121: FutureWarning: Option `--id` was deprecated in version 4.3.1 and will be removed in 5.0. You don't need to pass it anymore to use a file ID.\n",
            "  warnings.warn(\n",
            "Downloading...\n",
            "From: https://drive.google.com/uc?id=1RfhNYBd7g70LdgJROvx8iPGygPhiGQLZ\n",
            "To: /content/data/CP01.zip\n",
            "100% 630M/630M [00:13<00:00, 45.1MB/s]\n"
          ]
        }
      ]
    },
    {
      "cell_type": "code",
      "source": [
        "!unzip /content/data/CP01.zip -d /content/data"
      ],
      "metadata": {
        "colab": {
          "base_uri": "https://localhost:8080/"
        },
        "id": "IoCzlfIoHTdB",
        "outputId": "3d507bd2-918b-41ae-b599-fbd06ccc56e9"
      },
      "execution_count": 3,
      "outputs": [
        {
          "output_type": "stream",
          "name": "stdout",
          "text": [
            "Archive:  /content/data/CP01.zip\n",
            "  inflating: /content/data/For_modeling.csv  \n",
            "  inflating: /content/data/cleaned_seoul_bike_data.csv  \n"
          ]
        }
      ]
    },
    {
      "cell_type": "code",
      "source": [
        "import math\n",
        "import numpy as np\n",
        "import pandas as pd\n",
        "import matplotlib.pyplot as plt\n",
        "import seaborn as sns\n",
        "\n",
        "data = pd.read_csv('data/For_modeling.csv',index_col=0)\n",
        "data = data.reset_index().drop(columns=['index'])\n",
        "data.head(5)"
      ],
      "metadata": {
        "_uuid": "8f2839f25d086af736a60e9eeb907d3b93b6e0e5",
        "_cell_guid": "b1076dfc-b9ad-4769-8c92-a6c4dae69d19",
        "execution": {
          "iopub.status.busy": "2023-09-17T16:47:08.241063Z",
          "iopub.execute_input": "2023-09-17T16:47:08.242146Z",
          "iopub.status.idle": "2023-09-17T16:47:48.401787Z",
          "shell.execute_reply.started": "2023-09-17T16:47:08.242102Z",
          "shell.execute_reply": "2023-09-17T16:47:48.400377Z"
        },
        "trusted": true,
        "colab": {
          "base_uri": "https://localhost:8080/",
          "height": 255
        },
        "id": "6A5TVhJmG-dZ",
        "outputId": "ca573e52-63b4-456c-b2a0-60bb30134048"
      },
      "execution_count": 4,
      "outputs": [
        {
          "output_type": "execute_result",
          "data": {
            "text/plain": [
              "   Duration  Distance      PLong       PLatd      DLong       DLatd  \\\n",
              "0         3        50  37.544666  126.888359  37.544666  126.888359   \n",
              "1        24      7670  37.506199  127.003944  37.551250  127.035103   \n",
              "2         8      1390  37.544590  127.057083  37.537014  127.061096   \n",
              "3         8      1820  37.571102  127.023560  37.561447  127.034920   \n",
              "4         4       850  37.573242  127.015907  37.565849  127.016403   \n",
              "\n",
              "   Haversine  Pmonth  Pday  Phour  ...  Dmin  DDweek  Temp  Precip  Wind  \\\n",
              "0   0.000000       1     1      0  ...     4       0  -3.2     0.0   0.5   \n",
              "1   5.713529       1     1      0  ...    25       0  -3.2     0.0   0.5   \n",
              "2   0.913702       1     1      0  ...     9       0  -3.2     0.0   0.5   \n",
              "3   1.468027       1     1      0  ...    10       0  -3.2     0.0   0.5   \n",
              "4   0.823227       1     1      0  ...     6       0  -3.2     0.0   0.5   \n",
              "\n",
              "   Humid  Solar  Snow  GroundTemp  Dust  \n",
              "0   40.0    0.0   0.0        -2.2  25.0  \n",
              "1   40.0    0.0   0.0        -2.2  25.0  \n",
              "2   40.0    0.0   0.0        -2.2  25.0  \n",
              "3   40.0    0.0   0.0        -2.2  25.0  \n",
              "4   40.0    0.0   0.0        -2.2  25.0  \n",
              "\n",
              "[5 rows x 25 columns]"
            ],
            "text/html": [
              "\n",
              "  <div id=\"df-8a2ea4ce-0d78-4f58-9e13-f007ae584c67\" class=\"colab-df-container\">\n",
              "    <div>\n",
              "<style scoped>\n",
              "    .dataframe tbody tr th:only-of-type {\n",
              "        vertical-align: middle;\n",
              "    }\n",
              "\n",
              "    .dataframe tbody tr th {\n",
              "        vertical-align: top;\n",
              "    }\n",
              "\n",
              "    .dataframe thead th {\n",
              "        text-align: right;\n",
              "    }\n",
              "</style>\n",
              "<table border=\"1\" class=\"dataframe\">\n",
              "  <thead>\n",
              "    <tr style=\"text-align: right;\">\n",
              "      <th></th>\n",
              "      <th>Duration</th>\n",
              "      <th>Distance</th>\n",
              "      <th>PLong</th>\n",
              "      <th>PLatd</th>\n",
              "      <th>DLong</th>\n",
              "      <th>DLatd</th>\n",
              "      <th>Haversine</th>\n",
              "      <th>Pmonth</th>\n",
              "      <th>Pday</th>\n",
              "      <th>Phour</th>\n",
              "      <th>...</th>\n",
              "      <th>Dmin</th>\n",
              "      <th>DDweek</th>\n",
              "      <th>Temp</th>\n",
              "      <th>Precip</th>\n",
              "      <th>Wind</th>\n",
              "      <th>Humid</th>\n",
              "      <th>Solar</th>\n",
              "      <th>Snow</th>\n",
              "      <th>GroundTemp</th>\n",
              "      <th>Dust</th>\n",
              "    </tr>\n",
              "  </thead>\n",
              "  <tbody>\n",
              "    <tr>\n",
              "      <th>0</th>\n",
              "      <td>3</td>\n",
              "      <td>50</td>\n",
              "      <td>37.544666</td>\n",
              "      <td>126.888359</td>\n",
              "      <td>37.544666</td>\n",
              "      <td>126.888359</td>\n",
              "      <td>0.000000</td>\n",
              "      <td>1</td>\n",
              "      <td>1</td>\n",
              "      <td>0</td>\n",
              "      <td>...</td>\n",
              "      <td>4</td>\n",
              "      <td>0</td>\n",
              "      <td>-3.2</td>\n",
              "      <td>0.0</td>\n",
              "      <td>0.5</td>\n",
              "      <td>40.0</td>\n",
              "      <td>0.0</td>\n",
              "      <td>0.0</td>\n",
              "      <td>-2.2</td>\n",
              "      <td>25.0</td>\n",
              "    </tr>\n",
              "    <tr>\n",
              "      <th>1</th>\n",
              "      <td>24</td>\n",
              "      <td>7670</td>\n",
              "      <td>37.506199</td>\n",
              "      <td>127.003944</td>\n",
              "      <td>37.551250</td>\n",
              "      <td>127.035103</td>\n",
              "      <td>5.713529</td>\n",
              "      <td>1</td>\n",
              "      <td>1</td>\n",
              "      <td>0</td>\n",
              "      <td>...</td>\n",
              "      <td>25</td>\n",
              "      <td>0</td>\n",
              "      <td>-3.2</td>\n",
              "      <td>0.0</td>\n",
              "      <td>0.5</td>\n",
              "      <td>40.0</td>\n",
              "      <td>0.0</td>\n",
              "      <td>0.0</td>\n",
              "      <td>-2.2</td>\n",
              "      <td>25.0</td>\n",
              "    </tr>\n",
              "    <tr>\n",
              "      <th>2</th>\n",
              "      <td>8</td>\n",
              "      <td>1390</td>\n",
              "      <td>37.544590</td>\n",
              "      <td>127.057083</td>\n",
              "      <td>37.537014</td>\n",
              "      <td>127.061096</td>\n",
              "      <td>0.913702</td>\n",
              "      <td>1</td>\n",
              "      <td>1</td>\n",
              "      <td>0</td>\n",
              "      <td>...</td>\n",
              "      <td>9</td>\n",
              "      <td>0</td>\n",
              "      <td>-3.2</td>\n",
              "      <td>0.0</td>\n",
              "      <td>0.5</td>\n",
              "      <td>40.0</td>\n",
              "      <td>0.0</td>\n",
              "      <td>0.0</td>\n",
              "      <td>-2.2</td>\n",
              "      <td>25.0</td>\n",
              "    </tr>\n",
              "    <tr>\n",
              "      <th>3</th>\n",
              "      <td>8</td>\n",
              "      <td>1820</td>\n",
              "      <td>37.571102</td>\n",
              "      <td>127.023560</td>\n",
              "      <td>37.561447</td>\n",
              "      <td>127.034920</td>\n",
              "      <td>1.468027</td>\n",
              "      <td>1</td>\n",
              "      <td>1</td>\n",
              "      <td>0</td>\n",
              "      <td>...</td>\n",
              "      <td>10</td>\n",
              "      <td>0</td>\n",
              "      <td>-3.2</td>\n",
              "      <td>0.0</td>\n",
              "      <td>0.5</td>\n",
              "      <td>40.0</td>\n",
              "      <td>0.0</td>\n",
              "      <td>0.0</td>\n",
              "      <td>-2.2</td>\n",
              "      <td>25.0</td>\n",
              "    </tr>\n",
              "    <tr>\n",
              "      <th>4</th>\n",
              "      <td>4</td>\n",
              "      <td>850</td>\n",
              "      <td>37.573242</td>\n",
              "      <td>127.015907</td>\n",
              "      <td>37.565849</td>\n",
              "      <td>127.016403</td>\n",
              "      <td>0.823227</td>\n",
              "      <td>1</td>\n",
              "      <td>1</td>\n",
              "      <td>0</td>\n",
              "      <td>...</td>\n",
              "      <td>6</td>\n",
              "      <td>0</td>\n",
              "      <td>-3.2</td>\n",
              "      <td>0.0</td>\n",
              "      <td>0.5</td>\n",
              "      <td>40.0</td>\n",
              "      <td>0.0</td>\n",
              "      <td>0.0</td>\n",
              "      <td>-2.2</td>\n",
              "      <td>25.0</td>\n",
              "    </tr>\n",
              "  </tbody>\n",
              "</table>\n",
              "<p>5 rows × 25 columns</p>\n",
              "</div>\n",
              "    <div class=\"colab-df-buttons\">\n",
              "\n",
              "  <div class=\"colab-df-container\">\n",
              "    <button class=\"colab-df-convert\" onclick=\"convertToInteractive('df-8a2ea4ce-0d78-4f58-9e13-f007ae584c67')\"\n",
              "            title=\"Convert this dataframe to an interactive table.\"\n",
              "            style=\"display:none;\">\n",
              "\n",
              "  <svg xmlns=\"http://www.w3.org/2000/svg\" height=\"24px\" viewBox=\"0 -960 960 960\">\n",
              "    <path d=\"M120-120v-720h720v720H120Zm60-500h600v-160H180v160Zm220 220h160v-160H400v160Zm0 220h160v-160H400v160ZM180-400h160v-160H180v160Zm440 0h160v-160H620v160ZM180-180h160v-160H180v160Zm440 0h160v-160H620v160Z\"/>\n",
              "  </svg>\n",
              "    </button>\n",
              "\n",
              "  <style>\n",
              "    .colab-df-container {\n",
              "      display:flex;\n",
              "      gap: 12px;\n",
              "    }\n",
              "\n",
              "    .colab-df-convert {\n",
              "      background-color: #E8F0FE;\n",
              "      border: none;\n",
              "      border-radius: 50%;\n",
              "      cursor: pointer;\n",
              "      display: none;\n",
              "      fill: #1967D2;\n",
              "      height: 32px;\n",
              "      padding: 0 0 0 0;\n",
              "      width: 32px;\n",
              "    }\n",
              "\n",
              "    .colab-df-convert:hover {\n",
              "      background-color: #E2EBFA;\n",
              "      box-shadow: 0px 1px 2px rgba(60, 64, 67, 0.3), 0px 1px 3px 1px rgba(60, 64, 67, 0.15);\n",
              "      fill: #174EA6;\n",
              "    }\n",
              "\n",
              "    .colab-df-buttons div {\n",
              "      margin-bottom: 4px;\n",
              "    }\n",
              "\n",
              "    [theme=dark] .colab-df-convert {\n",
              "      background-color: #3B4455;\n",
              "      fill: #D2E3FC;\n",
              "    }\n",
              "\n",
              "    [theme=dark] .colab-df-convert:hover {\n",
              "      background-color: #434B5C;\n",
              "      box-shadow: 0px 1px 3px 1px rgba(0, 0, 0, 0.15);\n",
              "      filter: drop-shadow(0px 1px 2px rgba(0, 0, 0, 0.3));\n",
              "      fill: #FFFFFF;\n",
              "    }\n",
              "  </style>\n",
              "\n",
              "    <script>\n",
              "      const buttonEl =\n",
              "        document.querySelector('#df-8a2ea4ce-0d78-4f58-9e13-f007ae584c67 button.colab-df-convert');\n",
              "      buttonEl.style.display =\n",
              "        google.colab.kernel.accessAllowed ? 'block' : 'none';\n",
              "\n",
              "      async function convertToInteractive(key) {\n",
              "        const element = document.querySelector('#df-8a2ea4ce-0d78-4f58-9e13-f007ae584c67');\n",
              "        const dataTable =\n",
              "          await google.colab.kernel.invokeFunction('convertToInteractive',\n",
              "                                                    [key], {});\n",
              "        if (!dataTable) return;\n",
              "\n",
              "        const docLinkHtml = 'Like what you see? Visit the ' +\n",
              "          '<a target=\"_blank\" href=https://colab.research.google.com/notebooks/data_table.ipynb>data table notebook</a>'\n",
              "          + ' to learn more about interactive tables.';\n",
              "        element.innerHTML = '';\n",
              "        dataTable['output_type'] = 'display_data';\n",
              "        await google.colab.output.renderOutput(dataTable, element);\n",
              "        const docLink = document.createElement('div');\n",
              "        docLink.innerHTML = docLinkHtml;\n",
              "        element.appendChild(docLink);\n",
              "      }\n",
              "    </script>\n",
              "  </div>\n",
              "\n",
              "\n",
              "<div id=\"df-4ae8a743-e23f-4c10-b447-42198a1de229\">\n",
              "  <button class=\"colab-df-quickchart\" onclick=\"quickchart('df-4ae8a743-e23f-4c10-b447-42198a1de229')\"\n",
              "            title=\"Suggest charts.\"\n",
              "            style=\"display:none;\">\n",
              "\n",
              "<svg xmlns=\"http://www.w3.org/2000/svg\" height=\"24px\"viewBox=\"0 0 24 24\"\n",
              "     width=\"24px\">\n",
              "    <g>\n",
              "        <path d=\"M19 3H5c-1.1 0-2 .9-2 2v14c0 1.1.9 2 2 2h14c1.1 0 2-.9 2-2V5c0-1.1-.9-2-2-2zM9 17H7v-7h2v7zm4 0h-2V7h2v10zm4 0h-2v-4h2v4z\"/>\n",
              "    </g>\n",
              "</svg>\n",
              "  </button>\n",
              "\n",
              "<style>\n",
              "  .colab-df-quickchart {\n",
              "      --bg-color: #E8F0FE;\n",
              "      --fill-color: #1967D2;\n",
              "      --hover-bg-color: #E2EBFA;\n",
              "      --hover-fill-color: #174EA6;\n",
              "      --disabled-fill-color: #AAA;\n",
              "      --disabled-bg-color: #DDD;\n",
              "  }\n",
              "\n",
              "  [theme=dark] .colab-df-quickchart {\n",
              "      --bg-color: #3B4455;\n",
              "      --fill-color: #D2E3FC;\n",
              "      --hover-bg-color: #434B5C;\n",
              "      --hover-fill-color: #FFFFFF;\n",
              "      --disabled-bg-color: #3B4455;\n",
              "      --disabled-fill-color: #666;\n",
              "  }\n",
              "\n",
              "  .colab-df-quickchart {\n",
              "    background-color: var(--bg-color);\n",
              "    border: none;\n",
              "    border-radius: 50%;\n",
              "    cursor: pointer;\n",
              "    display: none;\n",
              "    fill: var(--fill-color);\n",
              "    height: 32px;\n",
              "    padding: 0;\n",
              "    width: 32px;\n",
              "  }\n",
              "\n",
              "  .colab-df-quickchart:hover {\n",
              "    background-color: var(--hover-bg-color);\n",
              "    box-shadow: 0 1px 2px rgba(60, 64, 67, 0.3), 0 1px 3px 1px rgba(60, 64, 67, 0.15);\n",
              "    fill: var(--button-hover-fill-color);\n",
              "  }\n",
              "\n",
              "  .colab-df-quickchart-complete:disabled,\n",
              "  .colab-df-quickchart-complete:disabled:hover {\n",
              "    background-color: var(--disabled-bg-color);\n",
              "    fill: var(--disabled-fill-color);\n",
              "    box-shadow: none;\n",
              "  }\n",
              "\n",
              "  .colab-df-spinner {\n",
              "    border: 2px solid var(--fill-color);\n",
              "    border-color: transparent;\n",
              "    border-bottom-color: var(--fill-color);\n",
              "    animation:\n",
              "      spin 1s steps(1) infinite;\n",
              "  }\n",
              "\n",
              "  @keyframes spin {\n",
              "    0% {\n",
              "      border-color: transparent;\n",
              "      border-bottom-color: var(--fill-color);\n",
              "      border-left-color: var(--fill-color);\n",
              "    }\n",
              "    20% {\n",
              "      border-color: transparent;\n",
              "      border-left-color: var(--fill-color);\n",
              "      border-top-color: var(--fill-color);\n",
              "    }\n",
              "    30% {\n",
              "      border-color: transparent;\n",
              "      border-left-color: var(--fill-color);\n",
              "      border-top-color: var(--fill-color);\n",
              "      border-right-color: var(--fill-color);\n",
              "    }\n",
              "    40% {\n",
              "      border-color: transparent;\n",
              "      border-right-color: var(--fill-color);\n",
              "      border-top-color: var(--fill-color);\n",
              "    }\n",
              "    60% {\n",
              "      border-color: transparent;\n",
              "      border-right-color: var(--fill-color);\n",
              "    }\n",
              "    80% {\n",
              "      border-color: transparent;\n",
              "      border-right-color: var(--fill-color);\n",
              "      border-bottom-color: var(--fill-color);\n",
              "    }\n",
              "    90% {\n",
              "      border-color: transparent;\n",
              "      border-bottom-color: var(--fill-color);\n",
              "    }\n",
              "  }\n",
              "</style>\n",
              "\n",
              "  <script>\n",
              "    async function quickchart(key) {\n",
              "      const quickchartButtonEl =\n",
              "        document.querySelector('#' + key + ' button');\n",
              "      quickchartButtonEl.disabled = true;  // To prevent multiple clicks.\n",
              "      quickchartButtonEl.classList.add('colab-df-spinner');\n",
              "      try {\n",
              "        const charts = await google.colab.kernel.invokeFunction(\n",
              "            'suggestCharts', [key], {});\n",
              "      } catch (error) {\n",
              "        console.error('Error during call to suggestCharts:', error);\n",
              "      }\n",
              "      quickchartButtonEl.classList.remove('colab-df-spinner');\n",
              "      quickchartButtonEl.classList.add('colab-df-quickchart-complete');\n",
              "    }\n",
              "    (() => {\n",
              "      let quickchartButtonEl =\n",
              "        document.querySelector('#df-4ae8a743-e23f-4c10-b447-42198a1de229 button');\n",
              "      quickchartButtonEl.style.display =\n",
              "        google.colab.kernel.accessAllowed ? 'block' : 'none';\n",
              "    })();\n",
              "  </script>\n",
              "</div>\n",
              "    </div>\n",
              "  </div>\n"
            ]
          },
          "metadata": {},
          "execution_count": 4
        }
      ]
    },
    {
      "cell_type": "code",
      "source": [
        "filtered_data = data[data['Haversine'] != 0]"
      ],
      "metadata": {
        "execution": {
          "iopub.status.busy": "2023-09-17T16:47:48.404568Z",
          "iopub.execute_input": "2023-09-17T16:47:48.405010Z",
          "iopub.status.idle": "2023-09-17T16:47:49.093807Z",
          "shell.execute_reply.started": "2023-09-17T16:47:48.404970Z",
          "shell.execute_reply": "2023-09-17T16:47:49.092706Z"
        },
        "trusted": true,
        "id": "q5gDB10eG-di"
      },
      "execution_count": 5,
      "outputs": []
    },
    {
      "cell_type": "code",
      "source": [
        "#Remove all duplicates\n",
        "filtered_data.drop_duplicates(inplace=True)\n",
        "print(\"Dataset size after removing duplicates:\", filtered_data.shape)"
      ],
      "metadata": {
        "execution": {
          "iopub.status.busy": "2023-09-17T16:47:49.095797Z",
          "iopub.execute_input": "2023-09-17T16:47:49.096845Z",
          "iopub.status.idle": "2023-09-17T16:48:02.549974Z",
          "shell.execute_reply.started": "2023-09-17T16:47:49.096807Z",
          "shell.execute_reply": "2023-09-17T16:48:02.548777Z"
        },
        "trusted": true,
        "colab": {
          "base_uri": "https://localhost:8080/"
        },
        "id": "n85orS54G-dj",
        "outputId": "bf1d1800-b2fd-45c7-e481-3e072d4a354b"
      },
      "execution_count": 6,
      "outputs": [
        {
          "output_type": "stream",
          "name": "stdout",
          "text": [
            "Dataset size after removing duplicates: (8636811, 25)\n"
          ]
        },
        {
          "output_type": "stream",
          "name": "stderr",
          "text": [
            "<ipython-input-6-ca0abfc58edb>:2: SettingWithCopyWarning: \n",
            "A value is trying to be set on a copy of a slice from a DataFrame\n",
            "\n",
            "See the caveats in the documentation: https://pandas.pydata.org/pandas-docs/stable/user_guide/indexing.html#returning-a-view-versus-a-copy\n",
            "  filtered_data.drop_duplicates(inplace=True)\n"
          ]
        }
      ]
    },
    {
      "cell_type": "code",
      "source": [
        "columns_to_check = ['Distance', 'Haversine', 'Dhour', 'Phour', 'Temp']\n",
        "\n",
        "# Calculate the quartiles and IQR for the specified columns\n",
        "Q1 = filtered_data[columns_to_check].quantile(0.25)\n",
        "Q3 = filtered_data[columns_to_check].quantile(0.75)\n",
        "IQR = Q3 - Q1\n",
        "\n",
        "# Define the lower and upper bounds for outlier detection\n",
        "lower_bound = Q1 - 1.5 * IQR\n",
        "upper_bound = Q3 + 1.5 * IQR\n",
        "\n",
        "# Create a boolean mask for outliers in each column\n",
        "outliers_mask = ((filtered_data[columns_to_check] < lower_bound) | (filtered_data[columns_to_check] > upper_bound)).any(axis=1)\n",
        "\n",
        "# Apply the mask to remove rows with outliers\n",
        "filtered_data = filtered_data[~outliers_mask]"
      ],
      "metadata": {
        "execution": {
          "iopub.status.busy": "2023-09-17T16:48:02.553088Z",
          "iopub.execute_input": "2023-09-17T16:48:02.553544Z",
          "iopub.status.idle": "2023-09-17T16:48:05.277485Z",
          "shell.execute_reply.started": "2023-09-17T16:48:02.553503Z",
          "shell.execute_reply": "2023-09-17T16:48:05.276345Z"
        },
        "trusted": true,
        "id": "DzOeNKZUG-dk"
      },
      "execution_count": 8,
      "outputs": []
    },
    {
      "cell_type": "code",
      "source": [
        "print(filtered_data.shape)"
      ],
      "metadata": {
        "execution": {
          "iopub.status.busy": "2023-09-17T16:48:05.279021Z",
          "iopub.execute_input": "2023-09-17T16:48:05.279738Z",
          "iopub.status.idle": "2023-09-17T16:48:05.286199Z",
          "shell.execute_reply.started": "2023-09-17T16:48:05.279697Z",
          "shell.execute_reply": "2023-09-17T16:48:05.285132Z"
        },
        "trusted": true,
        "colab": {
          "base_uri": "https://localhost:8080/"
        },
        "id": "uFyI-MEUG-dm",
        "outputId": "436aaa41-2035-4d48-a6ff-7e3536b821ec"
      },
      "execution_count": 9,
      "outputs": [
        {
          "output_type": "stream",
          "name": "stdout",
          "text": [
            "(7652385, 25)\n"
          ]
        }
      ]
    },
    {
      "cell_type": "code",
      "source": [
        "from sklearn.model_selection import train_test_split, cross_validate, cross_val_score, GridSearchCV\n",
        "from sklearn import preprocessing\n",
        "from sklearn.model_selection import train_test_split\n",
        "from sklearn.model_selection import train_test_split\n",
        "from sklearn.preprocessing import StandardScaler\n",
        "from tensorflow.keras.models import Sequential\n",
        "from tensorflow.keras.layers import Dense\n",
        "from tensorflow.keras.optimizers import Adam\n",
        "from tensorflow.keras.callbacks import EarlyStopping\n",
        "from tensorflow.keras.losses import MeanSquaredError\n",
        "import pandas as pd\n",
        "import numpy as np"
      ],
      "metadata": {
        "execution": {
          "iopub.status.busy": "2023-09-17T16:48:05.287587Z",
          "iopub.execute_input": "2023-09-17T16:48:05.288375Z",
          "iopub.status.idle": "2023-09-17T16:48:05.632413Z",
          "shell.execute_reply.started": "2023-09-17T16:48:05.288330Z",
          "shell.execute_reply": "2023-09-17T16:48:05.631259Z"
        },
        "trusted": true,
        "id": "bHd6mDpaG-dn"
      },
      "execution_count": 7,
      "outputs": []
    },
    {
      "cell_type": "code",
      "source": [
        "columns = ['Distance','Duration','Haversine','Phour','GroundTemp']\n",
        "df = filtered_data[columns]\n",
        "df.describe()\n",
        "df = df.iloc[0:300000]\n",
        "df.shape"
      ],
      "metadata": {
        "execution": {
          "iopub.status.busy": "2023-09-17T16:48:05.634339Z",
          "iopub.execute_input": "2023-09-17T16:48:05.634758Z",
          "iopub.status.idle": "2023-09-17T16:48:06.853365Z",
          "shell.execute_reply.started": "2023-09-17T16:48:05.634718Z",
          "shell.execute_reply": "2023-09-17T16:48:06.852158Z"
        },
        "trusted": true,
        "id": "m988trmTG-dn",
        "outputId": "bcc2e0df-51bf-406d-89b5-d20c92798b90"
      },
      "execution_count": null,
      "outputs": [
        {
          "execution_count": 7,
          "output_type": "execute_result",
          "data": {
            "text/plain": "(300000, 5)"
          },
          "metadata": {}
        }
      ]
    },
    {
      "cell_type": "code",
      "source": [
        "X_train,X_test, Y_train, Y_test = train_test_split(df.drop(columns=['Duration']), df['Duration'], test_size=0.2, random_state=43)"
      ],
      "metadata": {
        "execution": {
          "iopub.status.busy": "2023-09-17T16:48:06.854819Z",
          "iopub.execute_input": "2023-09-17T16:48:06.855565Z",
          "iopub.status.idle": "2023-09-17T16:48:06.894260Z",
          "shell.execute_reply.started": "2023-09-17T16:48:06.855528Z",
          "shell.execute_reply": "2023-09-17T16:48:06.892976Z"
        },
        "trusted": true,
        "id": "nJz9eFFEG-do"
      },
      "execution_count": null,
      "outputs": []
    },
    {
      "cell_type": "code",
      "source": [
        "scaler = StandardScaler()\n",
        "X_train = scaler.fit_transform(X_train)\n",
        "X_test = scaler.transform(X_test)\n",
        "\n",
        "# Create a neural network model\n",
        "model = Sequential()\n",
        "model.add(Dense(32, activation='relu', input_dim=4))\n",
        "model.add(Dense(units=32, activation='relu'))\n",
        "model.add(Dense(units=32, activation='relu'))\n",
        "model.add(Dense(units=1, activation='linear'))  # Use linear activation for regression\n",
        "\n",
        "# Compile your model with the Mean Squared Error loss\n",
        "model.compile(optimizer='adam', loss=MeanSquaredError())\n",
        "\n",
        "# Define early stopping callback\n",
        "early_stopping = EarlyStopping(monitor='val_loss', patience=10, verbose=1, restore_best_weights=True)\n",
        "\n",
        "# Train the model with early stopping\n",
        "history = model.fit(X_train, Y_train, batch_size=10, epochs=100, validation_split=0.2, callbacks=[early_stopping])\n",
        "\n",
        "# Evaluate the model on the test set\n",
        "test_loss = model.evaluate(X_test, Y_test)\n",
        "\n",
        "# Calculate and print custom accuracy metric\n",
        "y_pred = model.predict(X_test)\n",
        "\n",
        "# Calculate and print training loss\n",
        "train_loss = history.history['loss'][-1]\n",
        "\n",
        "print(f\"Training Loss (MSE): {train_loss:.4f}\")\n",
        "print(f\"Test Loss (MSE): {test_loss:.4f}\")"
      ],
      "metadata": {
        "execution": {
          "iopub.status.busy": "2023-09-17T16:48:06.895638Z",
          "iopub.execute_input": "2023-09-17T16:48:06.895952Z",
          "iopub.status.idle": "2023-09-17T17:05:39.741793Z",
          "shell.execute_reply.started": "2023-09-17T16:48:06.895922Z",
          "shell.execute_reply": "2023-09-17T17:05:39.740652Z"
        },
        "trusted": true,
        "id": "SAB18-b4G-do",
        "outputId": "caa2cb21-3d16-4841-a46a-e70af3f40254"
      },
      "execution_count": null,
      "outputs": [
        {
          "name": "stdout",
          "text": "Epoch 1/100\n19200/19200 [==============================] - 73s 3ms/step - loss: 128.5794 - val_loss: 124.0492\nEpoch 2/100\n19200/19200 [==============================] - 67s 3ms/step - loss: 123.3661 - val_loss: 123.7404\nEpoch 3/100\n19200/19200 [==============================] - 67s 3ms/step - loss: 122.9846 - val_loss: 122.5465\nEpoch 4/100\n19200/19200 [==============================] - 70s 4ms/step - loss: 122.5905 - val_loss: 122.6681\nEpoch 5/100\n19200/19200 [==============================] - 70s 4ms/step - loss: 122.3910 - val_loss: 122.0466\nEpoch 6/100\n19200/19200 [==============================] - 67s 3ms/step - loss: 122.3680 - val_loss: 122.2364\nEpoch 7/100\n19200/19200 [==============================] - 70s 4ms/step - loss: 122.2884 - val_loss: 122.5774\nEpoch 8/100\n19200/19200 [==============================] - 67s 3ms/step - loss: 122.0717 - val_loss: 122.2210\nEpoch 9/100\n19200/19200 [==============================] - 67s 3ms/step - loss: 122.0751 - val_loss: 125.4857\nEpoch 10/100\n19200/19200 [==============================] - 68s 4ms/step - loss: 122.0350 - val_loss: 122.5709\nEpoch 11/100\n19200/19200 [==============================] - 67s 3ms/step - loss: 121.9767 - val_loss: 123.2547\nEpoch 12/100\n19200/19200 [==============================] - 69s 4ms/step - loss: 121.8361 - val_loss: 122.3796\nEpoch 13/100\n19200/19200 [==============================] - 70s 4ms/step - loss: 121.8766 - val_loss: 122.5735\nEpoch 14/100\n19200/19200 [==============================] - 70s 4ms/step - loss: 121.8265 - val_loss: 123.1418\nEpoch 15/100\n19191/19200 [============================>.] - ETA: 0s - loss: 121.7808Restoring model weights from the end of the best epoch: 5.\n19200/19200 [==============================] - 67s 3ms/step - loss: 121.8037 - val_loss: 125.9502\nEpoch 15: early stopping\n1875/1875 [==============================] - 5s 2ms/step - loss: 120.3288\n1875/1875 [==============================] - 3s 2ms/step\nTraining Loss (MSE): 121.8037\nTest Loss (MSE): 120.3288\n",
          "output_type": "stream"
        }
      ]
    }
  ]
}