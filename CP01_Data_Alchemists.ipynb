{
  "nbformat": 4,
  "nbformat_minor": 0,
  "metadata": {
    "colab": {
      "provenance": [],
      "authorship_tag": "ABX9TyOPge4d4Rji6PMiSG8CXWFu",
      "include_colab_link": true
    },
    "kernelspec": {
      "name": "python3",
      "display_name": "Python 3"
    },
    "language_info": {
      "name": "python"
    }
  },
  "cells": [
    {
      "cell_type": "markdown",
      "metadata": {
        "id": "view-in-github",
        "colab_type": "text"
      },
      "source": [
        "<a href=\"https://colab.research.google.com/github/dp2292/CP01-Data-Alchemists/blob/Krish/CP01_Data_Alchemists.ipynb\" target=\"_parent\"><img src=\"https://colab.research.google.com/assets/colab-badge.svg\" alt=\"Open In Colab\"/></a>"
      ]
    },
    {
      "cell_type": "code",
      "execution_count": 4,
      "metadata": {
        "colab": {
          "base_uri": "https://localhost:8080/"
        },
        "id": "l8e4blBF8o_I",
        "outputId": "600fe0a9-6e59-451a-fa4c-da6252a52664"
      },
      "outputs": [
        {
          "output_type": "stream",
          "name": "stdout",
          "text": [
            "mkdir: cannot create directory ‘data’: File exists\n",
            "/usr/local/lib/python3.10/dist-packages/gdown/cli.py:121: FutureWarning: Option `--id` was deprecated in version 4.3.1 and will be removed in 5.0. You don't need to pass it anymore to use a file ID.\n",
            "  warnings.warn(\n",
            "Downloading...\n",
            "From: https://drive.google.com/uc?id=1RfhNYBd7g70LdgJROvx8iPGygPhiGQLZ\n",
            "To: /content/data/CP01.zip\n",
            "100% 630M/630M [00:05<00:00, 110MB/s]\n"
          ]
        }
      ],
      "source": [
        "!mkdir data\n",
        "\n",
        "!gdown --id 1RfhNYBd7g70LdgJROvx8iPGygPhiGQLZ -O data/"
      ]
    },
    {
      "cell_type": "code",
      "source": [
        "!unzip /content/data/CP01.zip -d /content/data"
      ],
      "metadata": {
        "colab": {
          "base_uri": "https://localhost:8080/"
        },
        "id": "dUd8ivMN85gg",
        "outputId": "5929225b-e0d7-44a8-fae3-daf2d5422839"
      },
      "execution_count": 5,
      "outputs": [
        {
          "output_type": "stream",
          "name": "stdout",
          "text": [
            "Archive:  /content/data/CP01.zip\n",
            "  inflating: /content/data/For_modeling.csv  \n",
            "  inflating: /content/data/cleaned_seoul_bike_data.csv  \n"
          ]
        }
      ]
    }
  ]
}