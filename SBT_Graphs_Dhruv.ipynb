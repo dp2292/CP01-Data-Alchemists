{
  "cells": [
    {
      "cell_type": "markdown",
      "metadata": {
        "id": "view-in-github",
        "colab_type": "text"
      },
      "source": [
        "<a href=\"https://colab.research.google.com/github/dp2292/CP01-Data-Alchemists/blob/Dhruv/SBT_Graphs_Dhruv.ipynb\" target=\"_parent\"><img src=\"https://colab.research.google.com/assets/colab-badge.svg\" alt=\"Open In Colab\"/></a>"
      ]
    },
    {
      "cell_type": "markdown",
      "metadata": {
        "id": "_c50_lKvlVpK"
      },
      "source": [
        "# Summary\n",
        "\n",
        "## Model Results\n",
        "\n",
        "**1. Predicting the duration of the trip**\n",
        "\n",
        "LinearRegression:\\\n",
        "RidgeRegression (alpha = 1):\\\n",
        "LassoRegression (alpha = 0.1):\\\n",
        "ElasticNetRegression (alpha = 0.1, l1_ratio = 0.99):\\\n",
        "RandomForestRegression:\\\n",
        "XGBRegression:\\\n",
        "LGBMRegression:\\\n",
        "Neural Network:\n",
        "\n",
        "**2. Predicting the temperature at the pickup time**\n",
        "\n",
        "LinearRegression:\\\n",
        "RidgeRegression (alpha = 1):\\\n",
        "LassoRegression (alpha = 0.1):\\\n",
        "ElasticNetRegression (alpha = 0.1, l1_ratio = 0.99):\\\n",
        "RandomForestRegression:\\\n",
        "XGBRegression:\\\n",
        "LGBMRegression:\n",
        "\n",
        "## Flow of end-to-end pipeline:\n",
        "\n",
        "**1. Data Analysis and Pre-processing**\n",
        "  - Extracting the zip file directly from gdrive to save time using gdown.\n",
        "  - Checked for null values in any of the 25 features. (1 Feature - index dropped due to its irrelevance)\n",
        "  - Removed data objects with haversine = 0 (as its not useful in predicting the duration of the trip)\n",
        "  - Removed duplicate data objects\n",
        "  - Removed outliers from the important features for both the models\n",
        "\n",
        "**2. Data Visualization and Inferences**\n",
        "  - Features are explained in more details with its distribution and patterns.\n",
        "  - Various inferences are made with the help of Box Plots, Histograms, Bar graphs, count plots, violin plots and scatter plots.\n",
        "\n",
        "**3. Modelling and results**\n",
        "  - 2 models have been trained - For predicting the duration of trip and predicting the temperature.\n",
        "  - Various models are trained for selected highly relevant features like LinearRegression, XGBRegression, LGBMRegression, RandomForestRegression, Lasso, Ridge and ElasticNetRegression.\n",
        "\n"
      ]
    },
    {
      "cell_type": "markdown",
      "metadata": {
        "id": "24gPLpEq4JjQ"
      },
      "source": [
        "# Section 1: Data Pre-processing"
      ]
    },
    {
      "cell_type": "markdown",
      "metadata": {
        "id": "Kg0sBJTyePxQ"
      },
      "source": [
        "Data preprocessing in data mining is a crucial step that involves cleaning, transforming, and refining raw data to ensure its quality and consistency. This process addresses issues like missing values and outliers while harmonizing data from different sources. It also improves the data's suitability for analysis by selecting, extracting, and engineering features. By doing so, data preprocessing enhances the accuracy and interpretability of analytical models, leading to more reliable and actionable insights of our dataset."
      ]
    },
    {
      "cell_type": "code",
      "execution_count": null,
      "metadata": {
        "colab": {
          "base_uri": "https://localhost:8080/"
        },
        "id": "fyTCa4sU53Tr",
        "outputId": "0580988e-b05a-4ba2-c204-e885ab0bbdeb"
      },
      "outputs": [
        {
          "name": "stdout",
          "output_type": "stream",
          "text": [
            "mkdir: cannot create directory ‘data’: File exists\n"
          ]
        }
      ],
      "source": [
        "!mkdir data"
      ]
    },
    {
      "cell_type": "code",
      "execution_count": null,
      "metadata": {
        "colab": {
          "base_uri": "https://localhost:8080/"
        },
        "id": "dwH-funR3z42",
        "outputId": "98468ac9-c180-472d-fbf4-a60c6a0b78f6"
      },
      "outputs": [
        {
          "name": "stdout",
          "output_type": "stream",
          "text": [
            "/usr/local/lib/python3.10/dist-packages/gdown/cli.py:121: FutureWarning: Option `--id` was deprecated in version 4.3.1 and will be removed in 5.0. You don't need to pass it anymore to use a file ID.\n",
            "  warnings.warn(\n",
            "Downloading...\n",
            "From: https://drive.google.com/uc?id=1RfhNYBd7g70LdgJROvx8iPGygPhiGQLZ\n",
            "To: /content/data/CP01.zip\n",
            "100% 630M/630M [00:09<00:00, 66.3MB/s]\n"
          ]
        }
      ],
      "source": [
        "!gdown --id 1RfhNYBd7g70LdgJROvx8iPGygPhiGQLZ -O data/"
      ]
    },
    {
      "cell_type": "markdown",
      "metadata": {
        "id": "CZF94AcYd4PQ"
      },
      "source": [
        "We employed the above command to efficiently access and retrieve data from Google Drive due to the substantial file size, streamlining our process."
      ]
    },
    {
      "cell_type": "code",
      "execution_count": null,
      "metadata": {
        "colab": {
          "base_uri": "https://localhost:8080/"
        },
        "id": "NoLIiPbs57Y_",
        "outputId": "aa72b4a0-eff3-46c6-d4ff-6cc2af83c33a"
      },
      "outputs": [
        {
          "name": "stdout",
          "output_type": "stream",
          "text": [
            "Archive:  /content/data/CP01.zip\n",
            "replace /content/data/For_modeling.csv? [y]es, [n]o, [A]ll, [N]one, [r]ename: n\n",
            "replace /content/data/cleaned_seoul_bike_data.csv? [y]es, [n]o, [A]ll, [N]one, [r]ename: n\n"
          ]
        }
      ],
      "source": [
        "!unzip /content/data/CP01.zip -d /content/data"
      ]
    },
    {
      "cell_type": "code",
      "execution_count": null,
      "metadata": {
        "id": "mbyzi2c27anH"
      },
      "outputs": [],
      "source": [
        "import math\n",
        "import numpy as np\n",
        "import pandas as pd\n",
        "import matplotlib.pyplot as plt\n",
        "import seaborn as sns"
      ]
    },
    {
      "cell_type": "code",
      "execution_count": null,
      "metadata": {
        "colab": {
          "background_save": true
        },
        "id": "DaaXSXEy7ijr",
        "outputId": "24621be7-67c1-48e2-ffe8-c2ccd2f5db8d"
      },
      "outputs": [
        {
          "data": {
            "text/html": [
              "\n",
              "  <div id=\"df-bf3e907b-1525-429e-b238-348fc643c9fb\" class=\"colab-df-container\">\n",
              "    <div>\n",
              "<style scoped>\n",
              "    .dataframe tbody tr th:only-of-type {\n",
              "        vertical-align: middle;\n",
              "    }\n",
              "\n",
              "    .dataframe tbody tr th {\n",
              "        vertical-align: top;\n",
              "    }\n",
              "\n",
              "    .dataframe thead th {\n",
              "        text-align: right;\n",
              "    }\n",
              "</style>\n",
              "<table border=\"1\" class=\"dataframe\">\n",
              "  <thead>\n",
              "    <tr style=\"text-align: right;\">\n",
              "      <th></th>\n",
              "      <th>Duration</th>\n",
              "      <th>Distance</th>\n",
              "      <th>PLong</th>\n",
              "      <th>PLatd</th>\n",
              "      <th>DLong</th>\n",
              "      <th>DLatd</th>\n",
              "      <th>Haversine</th>\n",
              "      <th>Pmonth</th>\n",
              "      <th>Pday</th>\n",
              "      <th>Phour</th>\n",
              "      <th>...</th>\n",
              "      <th>Dmin</th>\n",
              "      <th>DDweek</th>\n",
              "      <th>Temp</th>\n",
              "      <th>Precip</th>\n",
              "      <th>Wind</th>\n",
              "      <th>Humid</th>\n",
              "      <th>Solar</th>\n",
              "      <th>Snow</th>\n",
              "      <th>GroundTemp</th>\n",
              "      <th>Dust</th>\n",
              "    </tr>\n",
              "  </thead>\n",
              "  <tbody>\n",
              "    <tr>\n",
              "      <th>0</th>\n",
              "      <td>3</td>\n",
              "      <td>50</td>\n",
              "      <td>37.544666</td>\n",
              "      <td>126.888359</td>\n",
              "      <td>37.544666</td>\n",
              "      <td>126.888359</td>\n",
              "      <td>0.000000</td>\n",
              "      <td>1</td>\n",
              "      <td>1</td>\n",
              "      <td>0</td>\n",
              "      <td>...</td>\n",
              "      <td>4</td>\n",
              "      <td>0</td>\n",
              "      <td>-3.2</td>\n",
              "      <td>0.0</td>\n",
              "      <td>0.5</td>\n",
              "      <td>40.0</td>\n",
              "      <td>0.0</td>\n",
              "      <td>0.0</td>\n",
              "      <td>-2.2</td>\n",
              "      <td>25.0</td>\n",
              "    </tr>\n",
              "    <tr>\n",
              "      <th>1</th>\n",
              "      <td>24</td>\n",
              "      <td>7670</td>\n",
              "      <td>37.506199</td>\n",
              "      <td>127.003944</td>\n",
              "      <td>37.551250</td>\n",
              "      <td>127.035103</td>\n",
              "      <td>5.713529</td>\n",
              "      <td>1</td>\n",
              "      <td>1</td>\n",
              "      <td>0</td>\n",
              "      <td>...</td>\n",
              "      <td>25</td>\n",
              "      <td>0</td>\n",
              "      <td>-3.2</td>\n",
              "      <td>0.0</td>\n",
              "      <td>0.5</td>\n",
              "      <td>40.0</td>\n",
              "      <td>0.0</td>\n",
              "      <td>0.0</td>\n",
              "      <td>-2.2</td>\n",
              "      <td>25.0</td>\n",
              "    </tr>\n",
              "    <tr>\n",
              "      <th>2</th>\n",
              "      <td>8</td>\n",
              "      <td>1390</td>\n",
              "      <td>37.544590</td>\n",
              "      <td>127.057083</td>\n",
              "      <td>37.537014</td>\n",
              "      <td>127.061096</td>\n",
              "      <td>0.913702</td>\n",
              "      <td>1</td>\n",
              "      <td>1</td>\n",
              "      <td>0</td>\n",
              "      <td>...</td>\n",
              "      <td>9</td>\n",
              "      <td>0</td>\n",
              "      <td>-3.2</td>\n",
              "      <td>0.0</td>\n",
              "      <td>0.5</td>\n",
              "      <td>40.0</td>\n",
              "      <td>0.0</td>\n",
              "      <td>0.0</td>\n",
              "      <td>-2.2</td>\n",
              "      <td>25.0</td>\n",
              "    </tr>\n",
              "    <tr>\n",
              "      <th>3</th>\n",
              "      <td>8</td>\n",
              "      <td>1820</td>\n",
              "      <td>37.571102</td>\n",
              "      <td>127.023560</td>\n",
              "      <td>37.561447</td>\n",
              "      <td>127.034920</td>\n",
              "      <td>1.468027</td>\n",
              "      <td>1</td>\n",
              "      <td>1</td>\n",
              "      <td>0</td>\n",
              "      <td>...</td>\n",
              "      <td>10</td>\n",
              "      <td>0</td>\n",
              "      <td>-3.2</td>\n",
              "      <td>0.0</td>\n",
              "      <td>0.5</td>\n",
              "      <td>40.0</td>\n",
              "      <td>0.0</td>\n",
              "      <td>0.0</td>\n",
              "      <td>-2.2</td>\n",
              "      <td>25.0</td>\n",
              "    </tr>\n",
              "    <tr>\n",
              "      <th>4</th>\n",
              "      <td>4</td>\n",
              "      <td>850</td>\n",
              "      <td>37.573242</td>\n",
              "      <td>127.015907</td>\n",
              "      <td>37.565849</td>\n",
              "      <td>127.016403</td>\n",
              "      <td>0.823227</td>\n",
              "      <td>1</td>\n",
              "      <td>1</td>\n",
              "      <td>0</td>\n",
              "      <td>...</td>\n",
              "      <td>6</td>\n",
              "      <td>0</td>\n",
              "      <td>-3.2</td>\n",
              "      <td>0.0</td>\n",
              "      <td>0.5</td>\n",
              "      <td>40.0</td>\n",
              "      <td>0.0</td>\n",
              "      <td>0.0</td>\n",
              "      <td>-2.2</td>\n",
              "      <td>25.0</td>\n",
              "    </tr>\n",
              "  </tbody>\n",
              "</table>\n",
              "<p>5 rows × 25 columns</p>\n",
              "</div>\n",
              "    <div class=\"colab-df-buttons\">\n",
              "\n",
              "  <div class=\"colab-df-container\">\n",
              "    <button class=\"colab-df-convert\" onclick=\"convertToInteractive('df-bf3e907b-1525-429e-b238-348fc643c9fb')\"\n",
              "            title=\"Convert this dataframe to an interactive table.\"\n",
              "            style=\"display:none;\">\n",
              "\n",
              "  <svg xmlns=\"http://www.w3.org/2000/svg\" height=\"24px\" viewBox=\"0 -960 960 960\">\n",
              "    <path d=\"M120-120v-720h720v720H120Zm60-500h600v-160H180v160Zm220 220h160v-160H400v160Zm0 220h160v-160H400v160ZM180-400h160v-160H180v160Zm440 0h160v-160H620v160ZM180-180h160v-160H180v160Zm440 0h160v-160H620v160Z\"/>\n",
              "  </svg>\n",
              "    </button>\n",
              "\n",
              "  <style>\n",
              "    .colab-df-container {\n",
              "      display:flex;\n",
              "      gap: 12px;\n",
              "    }\n",
              "\n",
              "    .colab-df-convert {\n",
              "      background-color: #E8F0FE;\n",
              "      border: none;\n",
              "      border-radius: 50%;\n",
              "      cursor: pointer;\n",
              "      display: none;\n",
              "      fill: #1967D2;\n",
              "      height: 32px;\n",
              "      padding: 0 0 0 0;\n",
              "      width: 32px;\n",
              "    }\n",
              "\n",
              "    .colab-df-convert:hover {\n",
              "      background-color: #E2EBFA;\n",
              "      box-shadow: 0px 1px 2px rgba(60, 64, 67, 0.3), 0px 1px 3px 1px rgba(60, 64, 67, 0.15);\n",
              "      fill: #174EA6;\n",
              "    }\n",
              "\n",
              "    .colab-df-buttons div {\n",
              "      margin-bottom: 4px;\n",
              "    }\n",
              "\n",
              "    [theme=dark] .colab-df-convert {\n",
              "      background-color: #3B4455;\n",
              "      fill: #D2E3FC;\n",
              "    }\n",
              "\n",
              "    [theme=dark] .colab-df-convert:hover {\n",
              "      background-color: #434B5C;\n",
              "      box-shadow: 0px 1px 3px 1px rgba(0, 0, 0, 0.15);\n",
              "      filter: drop-shadow(0px 1px 2px rgba(0, 0, 0, 0.3));\n",
              "      fill: #FFFFFF;\n",
              "    }\n",
              "  </style>\n",
              "\n",
              "    <script>\n",
              "      const buttonEl =\n",
              "        document.querySelector('#df-bf3e907b-1525-429e-b238-348fc643c9fb button.colab-df-convert');\n",
              "      buttonEl.style.display =\n",
              "        google.colab.kernel.accessAllowed ? 'block' : 'none';\n",
              "\n",
              "      async function convertToInteractive(key) {\n",
              "        const element = document.querySelector('#df-bf3e907b-1525-429e-b238-348fc643c9fb');\n",
              "        const dataTable =\n",
              "          await google.colab.kernel.invokeFunction('convertToInteractive',\n",
              "                                                    [key], {});\n",
              "        if (!dataTable) return;\n",
              "\n",
              "        const docLinkHtml = 'Like what you see? Visit the ' +\n",
              "          '<a target=\"_blank\" href=https://colab.research.google.com/notebooks/data_table.ipynb>data table notebook</a>'\n",
              "          + ' to learn more about interactive tables.';\n",
              "        element.innerHTML = '';\n",
              "        dataTable['output_type'] = 'display_data';\n",
              "        await google.colab.output.renderOutput(dataTable, element);\n",
              "        const docLink = document.createElement('div');\n",
              "        docLink.innerHTML = docLinkHtml;\n",
              "        element.appendChild(docLink);\n",
              "      }\n",
              "    </script>\n",
              "  </div>\n",
              "\n",
              "\n",
              "<div id=\"df-14b8e14c-b528-4234-ae83-0cb546a7ea02\">\n",
              "  <button class=\"colab-df-quickchart\" onclick=\"quickchart('df-14b8e14c-b528-4234-ae83-0cb546a7ea02')\"\n",
              "            title=\"Suggest charts.\"\n",
              "            style=\"display:none;\">\n",
              "\n",
              "<svg xmlns=\"http://www.w3.org/2000/svg\" height=\"24px\"viewBox=\"0 0 24 24\"\n",
              "     width=\"24px\">\n",
              "    <g>\n",
              "        <path d=\"M19 3H5c-1.1 0-2 .9-2 2v14c0 1.1.9 2 2 2h14c1.1 0 2-.9 2-2V5c0-1.1-.9-2-2-2zM9 17H7v-7h2v7zm4 0h-2V7h2v10zm4 0h-2v-4h2v4z\"/>\n",
              "    </g>\n",
              "</svg>\n",
              "  </button>\n",
              "\n",
              "<style>\n",
              "  .colab-df-quickchart {\n",
              "      --bg-color: #E8F0FE;\n",
              "      --fill-color: #1967D2;\n",
              "      --hover-bg-color: #E2EBFA;\n",
              "      --hover-fill-color: #174EA6;\n",
              "      --disabled-fill-color: #AAA;\n",
              "      --disabled-bg-color: #DDD;\n",
              "  }\n",
              "\n",
              "  [theme=dark] .colab-df-quickchart {\n",
              "      --bg-color: #3B4455;\n",
              "      --fill-color: #D2E3FC;\n",
              "      --hover-bg-color: #434B5C;\n",
              "      --hover-fill-color: #FFFFFF;\n",
              "      --disabled-bg-color: #3B4455;\n",
              "      --disabled-fill-color: #666;\n",
              "  }\n",
              "\n",
              "  .colab-df-quickchart {\n",
              "    background-color: var(--bg-color);\n",
              "    border: none;\n",
              "    border-radius: 50%;\n",
              "    cursor: pointer;\n",
              "    display: none;\n",
              "    fill: var(--fill-color);\n",
              "    height: 32px;\n",
              "    padding: 0;\n",
              "    width: 32px;\n",
              "  }\n",
              "\n",
              "  .colab-df-quickchart:hover {\n",
              "    background-color: var(--hover-bg-color);\n",
              "    box-shadow: 0 1px 2px rgba(60, 64, 67, 0.3), 0 1px 3px 1px rgba(60, 64, 67, 0.15);\n",
              "    fill: var(--button-hover-fill-color);\n",
              "  }\n",
              "\n",
              "  .colab-df-quickchart-complete:disabled,\n",
              "  .colab-df-quickchart-complete:disabled:hover {\n",
              "    background-color: var(--disabled-bg-color);\n",
              "    fill: var(--disabled-fill-color);\n",
              "    box-shadow: none;\n",
              "  }\n",
              "\n",
              "  .colab-df-spinner {\n",
              "    border: 2px solid var(--fill-color);\n",
              "    border-color: transparent;\n",
              "    border-bottom-color: var(--fill-color);\n",
              "    animation:\n",
              "      spin 1s steps(1) infinite;\n",
              "  }\n",
              "\n",
              "  @keyframes spin {\n",
              "    0% {\n",
              "      border-color: transparent;\n",
              "      border-bottom-color: var(--fill-color);\n",
              "      border-left-color: var(--fill-color);\n",
              "    }\n",
              "    20% {\n",
              "      border-color: transparent;\n",
              "      border-left-color: var(--fill-color);\n",
              "      border-top-color: var(--fill-color);\n",
              "    }\n",
              "    30% {\n",
              "      border-color: transparent;\n",
              "      border-left-color: var(--fill-color);\n",
              "      border-top-color: var(--fill-color);\n",
              "      border-right-color: var(--fill-color);\n",
              "    }\n",
              "    40% {\n",
              "      border-color: transparent;\n",
              "      border-right-color: var(--fill-color);\n",
              "      border-top-color: var(--fill-color);\n",
              "    }\n",
              "    60% {\n",
              "      border-color: transparent;\n",
              "      border-right-color: var(--fill-color);\n",
              "    }\n",
              "    80% {\n",
              "      border-color: transparent;\n",
              "      border-right-color: var(--fill-color);\n",
              "      border-bottom-color: var(--fill-color);\n",
              "    }\n",
              "    90% {\n",
              "      border-color: transparent;\n",
              "      border-bottom-color: var(--fill-color);\n",
              "    }\n",
              "  }\n",
              "</style>\n",
              "\n",
              "  <script>\n",
              "    async function quickchart(key) {\n",
              "      const quickchartButtonEl =\n",
              "        document.querySelector('#' + key + ' button');\n",
              "      quickchartButtonEl.disabled = true;  // To prevent multiple clicks.\n",
              "      quickchartButtonEl.classList.add('colab-df-spinner');\n",
              "      try {\n",
              "        const charts = await google.colab.kernel.invokeFunction(\n",
              "            'suggestCharts', [key], {});\n",
              "      } catch (error) {\n",
              "        console.error('Error during call to suggestCharts:', error);\n",
              "      }\n",
              "      quickchartButtonEl.classList.remove('colab-df-spinner');\n",
              "      quickchartButtonEl.classList.add('colab-df-quickchart-complete');\n",
              "    }\n",
              "    (() => {\n",
              "      let quickchartButtonEl =\n",
              "        document.querySelector('#df-14b8e14c-b528-4234-ae83-0cb546a7ea02 button');\n",
              "      quickchartButtonEl.style.display =\n",
              "        google.colab.kernel.accessAllowed ? 'block' : 'none';\n",
              "    })();\n",
              "  </script>\n",
              "</div>\n",
              "    </div>\n",
              "  </div>\n"
            ],
            "text/plain": [
              "   Duration  Distance      PLong       PLatd      DLong       DLatd  \\\n",
              "0         3        50  37.544666  126.888359  37.544666  126.888359   \n",
              "1        24      7670  37.506199  127.003944  37.551250  127.035103   \n",
              "2         8      1390  37.544590  127.057083  37.537014  127.061096   \n",
              "3         8      1820  37.571102  127.023560  37.561447  127.034920   \n",
              "4         4       850  37.573242  127.015907  37.565849  127.016403   \n",
              "\n",
              "   Haversine  Pmonth  Pday  Phour  ...  Dmin  DDweek  Temp  Precip  Wind  \\\n",
              "0   0.000000       1     1      0  ...     4       0  -3.2     0.0   0.5   \n",
              "1   5.713529       1     1      0  ...    25       0  -3.2     0.0   0.5   \n",
              "2   0.913702       1     1      0  ...     9       0  -3.2     0.0   0.5   \n",
              "3   1.468027       1     1      0  ...    10       0  -3.2     0.0   0.5   \n",
              "4   0.823227       1     1      0  ...     6       0  -3.2     0.0   0.5   \n",
              "\n",
              "   Humid  Solar  Snow  GroundTemp  Dust  \n",
              "0   40.0    0.0   0.0        -2.2  25.0  \n",
              "1   40.0    0.0   0.0        -2.2  25.0  \n",
              "2   40.0    0.0   0.0        -2.2  25.0  \n",
              "3   40.0    0.0   0.0        -2.2  25.0  \n",
              "4   40.0    0.0   0.0        -2.2  25.0  \n",
              "\n",
              "[5 rows x 25 columns]"
            ]
          },
          "execution_count": 2,
          "metadata": {},
          "output_type": "execute_result"
        }
      ],
      "source": [
        "data_compressed = pd.read_csv('/content/data/For_modeling.csv',\n",
        "                  dtype={\n",
        "                      'Duration': 'int32',\n",
        "                      'Distance': 'int32',\n",
        "                      'PLong': 'float32',\n",
        "                      'PLatd': 'float32',\n",
        "                      'DLong': 'float32',\n",
        "                      'Haversine':'float32',\n",
        "                      'Pmonth':'int8',\n",
        "                      'Pday':'int8',\n",
        "                      'Phour':'int8',\n",
        "                      'Pmin':'int8',\n",
        "                      'PDweek':'int8',\n",
        "                      'Dmonth':'int8',\n",
        "                      'Dday':'int8',\n",
        "                      'Dhour':'int8',\n",
        "                      'Dmin':'int8',\n",
        "                      'DDweek':'int8',\n",
        "                      'Temp':'float32',\n",
        "                      'Precip':'float32',\n",
        "                      'Wind':'float32',\n",
        "                      'Solar':'float32',\n",
        "                      'Snow':'float32',\n",
        "                      'GroundTemp':'float32',\n",
        "                      'Dust':'float32'\n",
        "                  },index_col=0\n",
        "                  )\n",
        "data = pd.read_csv('data/For_modeling.csv',index_col=0)\n",
        "data = data.reset_index().drop(columns=['index'])\n",
        "data.head(5)"
      ]
    },
    {
      "cell_type": "code",
      "execution_count": null,
      "metadata": {
        "colab": {
          "base_uri": "https://localhost:8080/"
        },
        "id": "p_iWHKEG87OT",
        "outputId": "b086705d-03ab-4fdf-88b7-326ce93478e0"
      },
      "outputs": [
        {
          "name": "stdout",
          "output_type": "stream",
          "text": [
            "<class 'pandas.core.frame.DataFrame'>\n",
            "RangeIndex: 9601139 entries, 0 to 9601138\n",
            "Data columns (total 25 columns):\n",
            " #   Column      Dtype  \n",
            "---  ------      -----  \n",
            " 0   Duration    int64  \n",
            " 1   Distance    int64  \n",
            " 2   PLong       float64\n",
            " 3   PLatd       float64\n",
            " 4   DLong       float64\n",
            " 5   DLatd       float64\n",
            " 6   Haversine   float64\n",
            " 7   Pmonth      int64  \n",
            " 8   Pday        int64  \n",
            " 9   Phour       int64  \n",
            " 10  Pmin        int64  \n",
            " 11  PDweek      int64  \n",
            " 12  Dmonth      int64  \n",
            " 13  Dday        int64  \n",
            " 14  Dhour       int64  \n",
            " 15  Dmin        int64  \n",
            " 16  DDweek      int64  \n",
            " 17  Temp        float64\n",
            " 18  Precip      float64\n",
            " 19  Wind        float64\n",
            " 20  Humid       float64\n",
            " 21  Solar       float64\n",
            " 22  Snow        float64\n",
            " 23  GroundTemp  float64\n",
            " 24  Dust        float64\n",
            "dtypes: float64(13), int64(12)\n",
            "memory usage: 1.8 GB\n"
          ]
        }
      ],
      "source": [
        "data.info()"
      ]
    },
    {
      "cell_type": "markdown",
      "metadata": {
        "id": "IPPaDj0I-irj"
      },
      "source": [
        "# Seoul Trip Data Features\n"
      ]
    },
    {
      "cell_type": "markdown",
      "metadata": {
        "id": "U5hOdybFQWjX"
      },
      "source": [
        "## Statistics of Data"
      ]
    },
    {
      "cell_type": "markdown",
      "metadata": {
        "id": "1qYzzPnRSsuH"
      },
      "source": [
        "\n",
        "\n",
        "Here is an overview of the parameters and characteristics present in the Seoul trip dataset for consideration:\n",
        "\n",
        "\n",
        "| Abbreviation | Parameters/Features         | Type        | Measurement                  |\n",
        "|--------------|-----------------------------|-------------|------------------------------|\n",
        "| Duration     | Trip duration               | Continuous  | |\n",
        "| Distance     | Trip distance               | Continuous  | |\n",
        "| PLong        | Pickup longitude            | Continuous  | Radians                      |\n",
        "| PLatd        | Pickup latitude             | Continuous  | Radians                      |\n",
        "| DLong        | Dropoff longitude           | Continuous  | Radians                      |\n",
        "| DLatd        | Dropoff latitude            | Continuous  | Radians                      |\n",
        "| Haversine    | Haversine distance          | Continuous  | Kilometres                   |\n",
        "| Pmonth       | Pickup month                | Categorical | January, February, March, … December |\n",
        "| Pday         | Pickup day                  | Categorical | 1, 2, 3, … 31               |\n",
        "| Phour        | Pickup hour                 | Categorical | 0, 1, 2, … 23               |\n",
        "| Pmin         | Pickup minute               | Continuous  | 1, 2, 3, … 60               |\n",
        "| PDweek       | Pickup day of the week      | Categorical | Sunday, Monday, Tuesday, Wednesday, Thursday, Friday, Saturday |\n",
        "| Dmonth       | Dropoff month               | Categorical | January, February, March, … December |\n",
        "| Dday         | Dropoff day                 | Categorical | 1, 2, 3, … 31               |\n",
        "| Dhour        | Dropoff hour                | Categorical | 0, 1, 2, … 23               |\n",
        "| Dmin         | Dropoff minute              | Continuous  | 1, 2, 3, … 60               |\n",
        "| DDweek       | Dropoff day of the week     | Categorical | Sunday, Monday, Tuesday, Wednesday, Thursday, Friday, Saturday |\n",
        "| Temp         | Temperature                 | Continuous  | °C                           |\n",
        "| Precip       | Precipitation               | Continuous  | Mm                           |\n",
        "| Wind         | Wind speed                  | Continuous  | m/s                          |\n",
        "| Humd         | Humidity                    | Continuous  | %                            |\n",
        "| Solar        | Solar radiation             | Continuous  | MJ/m2                        |\n",
        "| Snow         | Snowfall                    | Continuous  | cm                           |\n",
        "| GroundTemp   | Ground temperature          | Continuous  | °C                           |\n",
        "| Dust         | 1-hour average fine dust concentration | Continuous | ㎍/㎥             |\n"
      ]
    },
    {
      "cell_type": "code",
      "execution_count": null,
      "metadata": {
        "colab": {
          "base_uri": "https://localhost:8080/"
        },
        "id": "KTenIYOc88j1",
        "outputId": "82a5d67a-409a-403f-babf-e4b71b827850"
      },
      "outputs": [
        {
          "name": "stdout",
          "output_type": "stream",
          "text": [
            "Duration      0\n",
            "Dday          0\n",
            "GroundTemp    0\n",
            "Snow          0\n",
            "Solar         0\n",
            "Humid         0\n",
            "Wind          0\n",
            "Precip        0\n",
            "Temp          0\n",
            "DDweek        0\n",
            "Dmin          0\n",
            "Dhour         0\n",
            "Dmonth        0\n",
            "Distance      0\n",
            "PDweek        0\n",
            "Pmin          0\n",
            "Phour         0\n",
            "Pday          0\n",
            "Pmonth        0\n",
            "Haversine     0\n",
            "DLatd         0\n",
            "DLong         0\n",
            "PLatd         0\n",
            "PLong         0\n",
            "Dust          0\n",
            "dtype: int64\n"
          ]
        }
      ],
      "source": [
        "print(data.isna().sum().sort_values(ascending=False))"
      ]
    },
    {
      "cell_type": "code",
      "execution_count": null,
      "metadata": {
        "colab": {
          "base_uri": "https://localhost:8080/",
          "height": 349
        },
        "id": "SNvhAGPx9CWS",
        "outputId": "04a01f37-8807-47be-e947-3bc446539a3f"
      },
      "outputs": [
        {
          "data": {
            "text/html": [
              "\n",
              "  <div id=\"df-964cac58-dc1a-4fcf-ab8c-e6f992e98dd5\" class=\"colab-df-container\">\n",
              "    <div>\n",
              "<style scoped>\n",
              "    .dataframe tbody tr th:only-of-type {\n",
              "        vertical-align: middle;\n",
              "    }\n",
              "\n",
              "    .dataframe tbody tr th {\n",
              "        vertical-align: top;\n",
              "    }\n",
              "\n",
              "    .dataframe thead th {\n",
              "        text-align: right;\n",
              "    }\n",
              "</style>\n",
              "<table border=\"1\" class=\"dataframe\">\n",
              "  <thead>\n",
              "    <tr style=\"text-align: right;\">\n",
              "      <th></th>\n",
              "      <th>Duration</th>\n",
              "      <th>Distance</th>\n",
              "      <th>PLong</th>\n",
              "      <th>PLatd</th>\n",
              "      <th>DLong</th>\n",
              "      <th>DLatd</th>\n",
              "      <th>Haversine</th>\n",
              "      <th>Pmonth</th>\n",
              "      <th>Pday</th>\n",
              "      <th>Phour</th>\n",
              "      <th>...</th>\n",
              "      <th>Dmin</th>\n",
              "      <th>DDweek</th>\n",
              "      <th>Temp</th>\n",
              "      <th>Precip</th>\n",
              "      <th>Wind</th>\n",
              "      <th>Humid</th>\n",
              "      <th>Solar</th>\n",
              "      <th>Snow</th>\n",
              "      <th>GroundTemp</th>\n",
              "      <th>Dust</th>\n",
              "    </tr>\n",
              "  </thead>\n",
              "  <tbody>\n",
              "    <tr>\n",
              "      <th>count</th>\n",
              "      <td>9.601139e+06</td>\n",
              "      <td>9.601139e+06</td>\n",
              "      <td>9.601139e+06</td>\n",
              "      <td>9.601139e+06</td>\n",
              "      <td>9.601139e+06</td>\n",
              "      <td>9.601139e+06</td>\n",
              "      <td>9.601139e+06</td>\n",
              "      <td>9.601139e+06</td>\n",
              "      <td>9.601139e+06</td>\n",
              "      <td>9.601139e+06</td>\n",
              "      <td>...</td>\n",
              "      <td>9.601139e+06</td>\n",
              "      <td>9.601139e+06</td>\n",
              "      <td>9.601139e+06</td>\n",
              "      <td>9.601139e+06</td>\n",
              "      <td>9.601139e+06</td>\n",
              "      <td>9.601139e+06</td>\n",
              "      <td>9.601139e+06</td>\n",
              "      <td>9.601139e+06</td>\n",
              "      <td>9.601139e+06</td>\n",
              "      <td>9.601139e+06</td>\n",
              "    </tr>\n",
              "    <tr>\n",
              "      <th>mean</th>\n",
              "      <td>2.580294e+01</td>\n",
              "      <td>3.713519e+03</td>\n",
              "      <td>3.754761e+01</td>\n",
              "      <td>1.269908e+02</td>\n",
              "      <td>3.754770e+01</td>\n",
              "      <td>1.269907e+02</td>\n",
              "      <td>1.870315e+00</td>\n",
              "      <td>7.578754e+00</td>\n",
              "      <td>1.576714e+01</td>\n",
              "      <td>1.437801e+01</td>\n",
              "      <td>...</td>\n",
              "      <td>2.999278e+01</td>\n",
              "      <td>2.945771e+00</td>\n",
              "      <td>1.856201e+01</td>\n",
              "      <td>1.784856e-02</td>\n",
              "      <td>1.819274e+00</td>\n",
              "      <td>5.397565e+01</td>\n",
              "      <td>7.300679e-01</td>\n",
              "      <td>9.948924e-03</td>\n",
              "      <td>2.072376e+01</td>\n",
              "      <td>3.245798e+01</td>\n",
              "    </tr>\n",
              "    <tr>\n",
              "      <th>std</th>\n",
              "      <td>2.504333e+01</td>\n",
              "      <td>3.956611e+03</td>\n",
              "      <td>4.441376e-02</td>\n",
              "      <td>8.257065e-02</td>\n",
              "      <td>4.445305e-02</td>\n",
              "      <td>8.323726e-02</td>\n",
              "      <td>1.995361e+00</td>\n",
              "      <td>2.696797e+00</td>\n",
              "      <td>8.748012e+00</td>\n",
              "      <td>6.249244e+00</td>\n",
              "      <td>...</td>\n",
              "      <td>1.730960e+01</td>\n",
              "      <td>1.977624e+00</td>\n",
              "      <td>9.498075e+00</td>\n",
              "      <td>3.736282e-01</td>\n",
              "      <td>9.710258e-01</td>\n",
              "      <td>1.742159e+01</td>\n",
              "      <td>9.175004e-01</td>\n",
              "      <td>1.628091e-01</td>\n",
              "      <td>1.265221e+01</td>\n",
              "      <td>2.407264e+01</td>\n",
              "    </tr>\n",
              "    <tr>\n",
              "      <th>min</th>\n",
              "      <td>1.000000e+00</td>\n",
              "      <td>1.000000e+00</td>\n",
              "      <td>3.743727e+01</td>\n",
              "      <td>1.267986e+02</td>\n",
              "      <td>3.743727e+01</td>\n",
              "      <td>1.267986e+02</td>\n",
              "      <td>0.000000e+00</td>\n",
              "      <td>1.000000e+00</td>\n",
              "      <td>1.000000e+00</td>\n",
              "      <td>0.000000e+00</td>\n",
              "      <td>...</td>\n",
              "      <td>0.000000e+00</td>\n",
              "      <td>0.000000e+00</td>\n",
              "      <td>-1.780000e+01</td>\n",
              "      <td>0.000000e+00</td>\n",
              "      <td>0.000000e+00</td>\n",
              "      <td>1.000000e+01</td>\n",
              "      <td>0.000000e+00</td>\n",
              "      <td>0.000000e+00</td>\n",
              "      <td>-1.360000e+01</td>\n",
              "      <td>0.000000e+00</td>\n",
              "    </tr>\n",
              "    <tr>\n",
              "      <th>25%</th>\n",
              "      <td>8.000000e+00</td>\n",
              "      <td>1.230000e+03</td>\n",
              "      <td>3.751424e+01</td>\n",
              "      <td>1.269200e+02</td>\n",
              "      <td>3.751424e+01</td>\n",
              "      <td>1.269194e+02</td>\n",
              "      <td>6.758669e-01</td>\n",
              "      <td>6.000000e+00</td>\n",
              "      <td>8.000000e+00</td>\n",
              "      <td>1.000000e+01</td>\n",
              "      <td>...</td>\n",
              "      <td>1.500000e+01</td>\n",
              "      <td>1.000000e+00</td>\n",
              "      <td>1.220000e+01</td>\n",
              "      <td>0.000000e+00</td>\n",
              "      <td>1.100000e+00</td>\n",
              "      <td>4.100000e+01</td>\n",
              "      <td>0.000000e+00</td>\n",
              "      <td>0.000000e+00</td>\n",
              "      <td>1.160000e+01</td>\n",
              "      <td>1.600000e+01</td>\n",
              "    </tr>\n",
              "    <tr>\n",
              "      <th>50%</th>\n",
              "      <td>1.600000e+01</td>\n",
              "      <td>2.280000e+03</td>\n",
              "      <td>3.754693e+01</td>\n",
              "      <td>1.269943e+02</td>\n",
              "      <td>3.754655e+01</td>\n",
              "      <td>1.269947e+02</td>\n",
              "      <td>1.257498e+00</td>\n",
              "      <td>8.000000e+00</td>\n",
              "      <td>1.600000e+01</td>\n",
              "      <td>1.600000e+01</td>\n",
              "      <td>...</td>\n",
              "      <td>3.000000e+01</td>\n",
              "      <td>3.000000e+00</td>\n",
              "      <td>2.010000e+01</td>\n",
              "      <td>0.000000e+00</td>\n",
              "      <td>1.700000e+00</td>\n",
              "      <td>5.300000e+01</td>\n",
              "      <td>2.700000e-01</td>\n",
              "      <td>0.000000e+00</td>\n",
              "      <td>2.110000e+01</td>\n",
              "      <td>2.700000e+01</td>\n",
              "    </tr>\n",
              "    <tr>\n",
              "      <th>75%</th>\n",
              "      <td>3.600000e+01</td>\n",
              "      <td>4.620000e+03</td>\n",
              "      <td>3.757324e+01</td>\n",
              "      <td>1.270618e+02</td>\n",
              "      <td>3.757324e+01</td>\n",
              "      <td>1.270624e+02</td>\n",
              "      <td>2.363812e+00</td>\n",
              "      <td>1.000000e+01</td>\n",
              "      <td>2.300000e+01</td>\n",
              "      <td>1.900000e+01</td>\n",
              "      <td>...</td>\n",
              "      <td>4.500000e+01</td>\n",
              "      <td>5.000000e+00</td>\n",
              "      <td>2.550000e+01</td>\n",
              "      <td>0.000000e+00</td>\n",
              "      <td>2.400000e+00</td>\n",
              "      <td>6.700000e+01</td>\n",
              "      <td>1.260000e+00</td>\n",
              "      <td>0.000000e+00</td>\n",
              "      <td>2.850000e+01</td>\n",
              "      <td>4.200000e+01</td>\n",
              "    </tr>\n",
              "    <tr>\n",
              "      <th>max</th>\n",
              "      <td>1.190000e+02</td>\n",
              "      <td>3.329000e+04</td>\n",
              "      <td>3.768972e+01</td>\n",
              "      <td>1.271803e+02</td>\n",
              "      <td>3.768972e+01</td>\n",
              "      <td>1.271803e+02</td>\n",
              "      <td>2.863448e+01</td>\n",
              "      <td>1.200000e+01</td>\n",
              "      <td>3.100000e+01</td>\n",
              "      <td>2.300000e+01</td>\n",
              "      <td>...</td>\n",
              "      <td>5.900000e+01</td>\n",
              "      <td>6.000000e+00</td>\n",
              "      <td>3.940000e+01</td>\n",
              "      <td>3.500000e+01</td>\n",
              "      <td>7.400000e+00</td>\n",
              "      <td>9.800000e+01</td>\n",
              "      <td>3.520000e+00</td>\n",
              "      <td>8.800000e+00</td>\n",
              "      <td>6.220000e+01</td>\n",
              "      <td>3.040000e+02</td>\n",
              "    </tr>\n",
              "  </tbody>\n",
              "</table>\n",
              "<p>8 rows × 25 columns</p>\n",
              "</div>\n",
              "    <div class=\"colab-df-buttons\">\n",
              "\n",
              "  <div class=\"colab-df-container\">\n",
              "    <button class=\"colab-df-convert\" onclick=\"convertToInteractive('df-964cac58-dc1a-4fcf-ab8c-e6f992e98dd5')\"\n",
              "            title=\"Convert this dataframe to an interactive table.\"\n",
              "            style=\"display:none;\">\n",
              "\n",
              "  <svg xmlns=\"http://www.w3.org/2000/svg\" height=\"24px\" viewBox=\"0 -960 960 960\">\n",
              "    <path d=\"M120-120v-720h720v720H120Zm60-500h600v-160H180v160Zm220 220h160v-160H400v160Zm0 220h160v-160H400v160ZM180-400h160v-160H180v160Zm440 0h160v-160H620v160ZM180-180h160v-160H180v160Zm440 0h160v-160H620v160Z\"/>\n",
              "  </svg>\n",
              "    </button>\n",
              "\n",
              "  <style>\n",
              "    .colab-df-container {\n",
              "      display:flex;\n",
              "      gap: 12px;\n",
              "    }\n",
              "\n",
              "    .colab-df-convert {\n",
              "      background-color: #E8F0FE;\n",
              "      border: none;\n",
              "      border-radius: 50%;\n",
              "      cursor: pointer;\n",
              "      display: none;\n",
              "      fill: #1967D2;\n",
              "      height: 32px;\n",
              "      padding: 0 0 0 0;\n",
              "      width: 32px;\n",
              "    }\n",
              "\n",
              "    .colab-df-convert:hover {\n",
              "      background-color: #E2EBFA;\n",
              "      box-shadow: 0px 1px 2px rgba(60, 64, 67, 0.3), 0px 1px 3px 1px rgba(60, 64, 67, 0.15);\n",
              "      fill: #174EA6;\n",
              "    }\n",
              "\n",
              "    .colab-df-buttons div {\n",
              "      margin-bottom: 4px;\n",
              "    }\n",
              "\n",
              "    [theme=dark] .colab-df-convert {\n",
              "      background-color: #3B4455;\n",
              "      fill: #D2E3FC;\n",
              "    }\n",
              "\n",
              "    [theme=dark] .colab-df-convert:hover {\n",
              "      background-color: #434B5C;\n",
              "      box-shadow: 0px 1px 3px 1px rgba(0, 0, 0, 0.15);\n",
              "      filter: drop-shadow(0px 1px 2px rgba(0, 0, 0, 0.3));\n",
              "      fill: #FFFFFF;\n",
              "    }\n",
              "  </style>\n",
              "\n",
              "    <script>\n",
              "      const buttonEl =\n",
              "        document.querySelector('#df-964cac58-dc1a-4fcf-ab8c-e6f992e98dd5 button.colab-df-convert');\n",
              "      buttonEl.style.display =\n",
              "        google.colab.kernel.accessAllowed ? 'block' : 'none';\n",
              "\n",
              "      async function convertToInteractive(key) {\n",
              "        const element = document.querySelector('#df-964cac58-dc1a-4fcf-ab8c-e6f992e98dd5');\n",
              "        const dataTable =\n",
              "          await google.colab.kernel.invokeFunction('convertToInteractive',\n",
              "                                                    [key], {});\n",
              "        if (!dataTable) return;\n",
              "\n",
              "        const docLinkHtml = 'Like what you see? Visit the ' +\n",
              "          '<a target=\"_blank\" href=https://colab.research.google.com/notebooks/data_table.ipynb>data table notebook</a>'\n",
              "          + ' to learn more about interactive tables.';\n",
              "        element.innerHTML = '';\n",
              "        dataTable['output_type'] = 'display_data';\n",
              "        await google.colab.output.renderOutput(dataTable, element);\n",
              "        const docLink = document.createElement('div');\n",
              "        docLink.innerHTML = docLinkHtml;\n",
              "        element.appendChild(docLink);\n",
              "      }\n",
              "    </script>\n",
              "  </div>\n",
              "\n",
              "\n",
              "<div id=\"df-fb746830-d9e0-4f63-8212-b92ca2194fd4\">\n",
              "  <button class=\"colab-df-quickchart\" onclick=\"quickchart('df-fb746830-d9e0-4f63-8212-b92ca2194fd4')\"\n",
              "            title=\"Suggest charts.\"\n",
              "            style=\"display:none;\">\n",
              "\n",
              "<svg xmlns=\"http://www.w3.org/2000/svg\" height=\"24px\"viewBox=\"0 0 24 24\"\n",
              "     width=\"24px\">\n",
              "    <g>\n",
              "        <path d=\"M19 3H5c-1.1 0-2 .9-2 2v14c0 1.1.9 2 2 2h14c1.1 0 2-.9 2-2V5c0-1.1-.9-2-2-2zM9 17H7v-7h2v7zm4 0h-2V7h2v10zm4 0h-2v-4h2v4z\"/>\n",
              "    </g>\n",
              "</svg>\n",
              "  </button>\n",
              "\n",
              "<style>\n",
              "  .colab-df-quickchart {\n",
              "      --bg-color: #E8F0FE;\n",
              "      --fill-color: #1967D2;\n",
              "      --hover-bg-color: #E2EBFA;\n",
              "      --hover-fill-color: #174EA6;\n",
              "      --disabled-fill-color: #AAA;\n",
              "      --disabled-bg-color: #DDD;\n",
              "  }\n",
              "\n",
              "  [theme=dark] .colab-df-quickchart {\n",
              "      --bg-color: #3B4455;\n",
              "      --fill-color: #D2E3FC;\n",
              "      --hover-bg-color: #434B5C;\n",
              "      --hover-fill-color: #FFFFFF;\n",
              "      --disabled-bg-color: #3B4455;\n",
              "      --disabled-fill-color: #666;\n",
              "  }\n",
              "\n",
              "  .colab-df-quickchart {\n",
              "    background-color: var(--bg-color);\n",
              "    border: none;\n",
              "    border-radius: 50%;\n",
              "    cursor: pointer;\n",
              "    display: none;\n",
              "    fill: var(--fill-color);\n",
              "    height: 32px;\n",
              "    padding: 0;\n",
              "    width: 32px;\n",
              "  }\n",
              "\n",
              "  .colab-df-quickchart:hover {\n",
              "    background-color: var(--hover-bg-color);\n",
              "    box-shadow: 0 1px 2px rgba(60, 64, 67, 0.3), 0 1px 3px 1px rgba(60, 64, 67, 0.15);\n",
              "    fill: var(--button-hover-fill-color);\n",
              "  }\n",
              "\n",
              "  .colab-df-quickchart-complete:disabled,\n",
              "  .colab-df-quickchart-complete:disabled:hover {\n",
              "    background-color: var(--disabled-bg-color);\n",
              "    fill: var(--disabled-fill-color);\n",
              "    box-shadow: none;\n",
              "  }\n",
              "\n",
              "  .colab-df-spinner {\n",
              "    border: 2px solid var(--fill-color);\n",
              "    border-color: transparent;\n",
              "    border-bottom-color: var(--fill-color);\n",
              "    animation:\n",
              "      spin 1s steps(1) infinite;\n",
              "  }\n",
              "\n",
              "  @keyframes spin {\n",
              "    0% {\n",
              "      border-color: transparent;\n",
              "      border-bottom-color: var(--fill-color);\n",
              "      border-left-color: var(--fill-color);\n",
              "    }\n",
              "    20% {\n",
              "      border-color: transparent;\n",
              "      border-left-color: var(--fill-color);\n",
              "      border-top-color: var(--fill-color);\n",
              "    }\n",
              "    30% {\n",
              "      border-color: transparent;\n",
              "      border-left-color: var(--fill-color);\n",
              "      border-top-color: var(--fill-color);\n",
              "      border-right-color: var(--fill-color);\n",
              "    }\n",
              "    40% {\n",
              "      border-color: transparent;\n",
              "      border-right-color: var(--fill-color);\n",
              "      border-top-color: var(--fill-color);\n",
              "    }\n",
              "    60% {\n",
              "      border-color: transparent;\n",
              "      border-right-color: var(--fill-color);\n",
              "    }\n",
              "    80% {\n",
              "      border-color: transparent;\n",
              "      border-right-color: var(--fill-color);\n",
              "      border-bottom-color: var(--fill-color);\n",
              "    }\n",
              "    90% {\n",
              "      border-color: transparent;\n",
              "      border-bottom-color: var(--fill-color);\n",
              "    }\n",
              "  }\n",
              "</style>\n",
              "\n",
              "  <script>\n",
              "    async function quickchart(key) {\n",
              "      const quickchartButtonEl =\n",
              "        document.querySelector('#' + key + ' button');\n",
              "      quickchartButtonEl.disabled = true;  // To prevent multiple clicks.\n",
              "      quickchartButtonEl.classList.add('colab-df-spinner');\n",
              "      try {\n",
              "        const charts = await google.colab.kernel.invokeFunction(\n",
              "            'suggestCharts', [key], {});\n",
              "      } catch (error) {\n",
              "        console.error('Error during call to suggestCharts:', error);\n",
              "      }\n",
              "      quickchartButtonEl.classList.remove('colab-df-spinner');\n",
              "      quickchartButtonEl.classList.add('colab-df-quickchart-complete');\n",
              "    }\n",
              "    (() => {\n",
              "      let quickchartButtonEl =\n",
              "        document.querySelector('#df-fb746830-d9e0-4f63-8212-b92ca2194fd4 button');\n",
              "      quickchartButtonEl.style.display =\n",
              "        google.colab.kernel.accessAllowed ? 'block' : 'none';\n",
              "    })();\n",
              "  </script>\n",
              "</div>\n",
              "    </div>\n",
              "  </div>\n"
            ],
            "text/plain": [
              "           Duration      Distance         PLong         PLatd         DLong  \\\n",
              "count  9.601139e+06  9.601139e+06  9.601139e+06  9.601139e+06  9.601139e+06   \n",
              "mean   2.580294e+01  3.713519e+03  3.754761e+01  1.269908e+02  3.754770e+01   \n",
              "std    2.504333e+01  3.956611e+03  4.441376e-02  8.257065e-02  4.445305e-02   \n",
              "min    1.000000e+00  1.000000e+00  3.743727e+01  1.267986e+02  3.743727e+01   \n",
              "25%    8.000000e+00  1.230000e+03  3.751424e+01  1.269200e+02  3.751424e+01   \n",
              "50%    1.600000e+01  2.280000e+03  3.754693e+01  1.269943e+02  3.754655e+01   \n",
              "75%    3.600000e+01  4.620000e+03  3.757324e+01  1.270618e+02  3.757324e+01   \n",
              "max    1.190000e+02  3.329000e+04  3.768972e+01  1.271803e+02  3.768972e+01   \n",
              "\n",
              "              DLatd     Haversine        Pmonth          Pday         Phour  \\\n",
              "count  9.601139e+06  9.601139e+06  9.601139e+06  9.601139e+06  9.601139e+06   \n",
              "mean   1.269907e+02  1.870315e+00  7.578754e+00  1.576714e+01  1.437801e+01   \n",
              "std    8.323726e-02  1.995361e+00  2.696797e+00  8.748012e+00  6.249244e+00   \n",
              "min    1.267986e+02  0.000000e+00  1.000000e+00  1.000000e+00  0.000000e+00   \n",
              "25%    1.269194e+02  6.758669e-01  6.000000e+00  8.000000e+00  1.000000e+01   \n",
              "50%    1.269947e+02  1.257498e+00  8.000000e+00  1.600000e+01  1.600000e+01   \n",
              "75%    1.270624e+02  2.363812e+00  1.000000e+01  2.300000e+01  1.900000e+01   \n",
              "max    1.271803e+02  2.863448e+01  1.200000e+01  3.100000e+01  2.300000e+01   \n",
              "\n",
              "       ...          Dmin        DDweek          Temp        Precip  \\\n",
              "count  ...  9.601139e+06  9.601139e+06  9.601139e+06  9.601139e+06   \n",
              "mean   ...  2.999278e+01  2.945771e+00  1.856201e+01  1.784856e-02   \n",
              "std    ...  1.730960e+01  1.977624e+00  9.498075e+00  3.736282e-01   \n",
              "min    ...  0.000000e+00  0.000000e+00 -1.780000e+01  0.000000e+00   \n",
              "25%    ...  1.500000e+01  1.000000e+00  1.220000e+01  0.000000e+00   \n",
              "50%    ...  3.000000e+01  3.000000e+00  2.010000e+01  0.000000e+00   \n",
              "75%    ...  4.500000e+01  5.000000e+00  2.550000e+01  0.000000e+00   \n",
              "max    ...  5.900000e+01  6.000000e+00  3.940000e+01  3.500000e+01   \n",
              "\n",
              "               Wind         Humid         Solar          Snow    GroundTemp  \\\n",
              "count  9.601139e+06  9.601139e+06  9.601139e+06  9.601139e+06  9.601139e+06   \n",
              "mean   1.819274e+00  5.397565e+01  7.300679e-01  9.948924e-03  2.072376e+01   \n",
              "std    9.710258e-01  1.742159e+01  9.175004e-01  1.628091e-01  1.265221e+01   \n",
              "min    0.000000e+00  1.000000e+01  0.000000e+00  0.000000e+00 -1.360000e+01   \n",
              "25%    1.100000e+00  4.100000e+01  0.000000e+00  0.000000e+00  1.160000e+01   \n",
              "50%    1.700000e+00  5.300000e+01  2.700000e-01  0.000000e+00  2.110000e+01   \n",
              "75%    2.400000e+00  6.700000e+01  1.260000e+00  0.000000e+00  2.850000e+01   \n",
              "max    7.400000e+00  9.800000e+01  3.520000e+00  8.800000e+00  6.220000e+01   \n",
              "\n",
              "               Dust  \n",
              "count  9.601139e+06  \n",
              "mean   3.245798e+01  \n",
              "std    2.407264e+01  \n",
              "min    0.000000e+00  \n",
              "25%    1.600000e+01  \n",
              "50%    2.700000e+01  \n",
              "75%    4.200000e+01  \n",
              "max    3.040000e+02  \n",
              "\n",
              "[8 rows x 25 columns]"
            ]
          },
          "execution_count": 8,
          "metadata": {},
          "output_type": "execute_result"
        }
      ],
      "source": [
        "data.describe()"
      ]
    },
    {
      "cell_type": "code",
      "execution_count": null,
      "metadata": {
        "colab": {
          "base_uri": "https://localhost:8080/",
          "height": 235
        },
        "id": "F4ls1uC29Fu6",
        "outputId": "b0757fd0-100c-46e9-909c-4922d866580b"
      },
      "outputs": [
        {
          "data": {
            "text/html": [
              "\n",
              "  <div id=\"df-1dcb94b0-8c2e-4667-a57b-03e214a6fba5\" class=\"colab-df-container\">\n",
              "    <div>\n",
              "<style scoped>\n",
              "    .dataframe tbody tr th:only-of-type {\n",
              "        vertical-align: middle;\n",
              "    }\n",
              "\n",
              "    .dataframe tbody tr th {\n",
              "        vertical-align: top;\n",
              "    }\n",
              "\n",
              "    .dataframe thead th {\n",
              "        text-align: right;\n",
              "    }\n",
              "</style>\n",
              "<table border=\"1\" class=\"dataframe\">\n",
              "  <thead>\n",
              "    <tr style=\"text-align: right;\">\n",
              "      <th></th>\n",
              "      <th>Duration</th>\n",
              "      <th>Distance</th>\n",
              "      <th>PLong</th>\n",
              "      <th>PLatd</th>\n",
              "      <th>DLong</th>\n",
              "      <th>DLatd</th>\n",
              "      <th>Haversine</th>\n",
              "      <th>Pmonth</th>\n",
              "      <th>Pday</th>\n",
              "      <th>Phour</th>\n",
              "      <th>...</th>\n",
              "      <th>Dmin</th>\n",
              "      <th>DDweek</th>\n",
              "      <th>Temp</th>\n",
              "      <th>Precip</th>\n",
              "      <th>Wind</th>\n",
              "      <th>Humid</th>\n",
              "      <th>Solar</th>\n",
              "      <th>Snow</th>\n",
              "      <th>GroundTemp</th>\n",
              "      <th>Dust</th>\n",
              "    </tr>\n",
              "  </thead>\n",
              "  <tbody>\n",
              "    <tr>\n",
              "      <th>0</th>\n",
              "      <td>3</td>\n",
              "      <td>50</td>\n",
              "      <td>37.544666</td>\n",
              "      <td>126.888359</td>\n",
              "      <td>37.544666</td>\n",
              "      <td>126.888359</td>\n",
              "      <td>0.0</td>\n",
              "      <td>1</td>\n",
              "      <td>1</td>\n",
              "      <td>0</td>\n",
              "      <td>...</td>\n",
              "      <td>4</td>\n",
              "      <td>0</td>\n",
              "      <td>-3.2</td>\n",
              "      <td>0.0</td>\n",
              "      <td>0.5</td>\n",
              "      <td>40.0</td>\n",
              "      <td>0.0</td>\n",
              "      <td>0.0</td>\n",
              "      <td>-2.2</td>\n",
              "      <td>25.0</td>\n",
              "    </tr>\n",
              "    <tr>\n",
              "      <th>26</th>\n",
              "      <td>18</td>\n",
              "      <td>1600</td>\n",
              "      <td>37.556610</td>\n",
              "      <td>126.898018</td>\n",
              "      <td>37.556610</td>\n",
              "      <td>126.898018</td>\n",
              "      <td>0.0</td>\n",
              "      <td>1</td>\n",
              "      <td>1</td>\n",
              "      <td>0</td>\n",
              "      <td>...</td>\n",
              "      <td>27</td>\n",
              "      <td>0</td>\n",
              "      <td>-3.2</td>\n",
              "      <td>0.0</td>\n",
              "      <td>0.5</td>\n",
              "      <td>40.0</td>\n",
              "      <td>0.0</td>\n",
              "      <td>0.0</td>\n",
              "      <td>-2.2</td>\n",
              "      <td>25.0</td>\n",
              "    </tr>\n",
              "    <tr>\n",
              "      <th>139</th>\n",
              "      <td>2</td>\n",
              "      <td>10</td>\n",
              "      <td>37.575970</td>\n",
              "      <td>126.983063</td>\n",
              "      <td>37.575970</td>\n",
              "      <td>126.983063</td>\n",
              "      <td>0.0</td>\n",
              "      <td>1</td>\n",
              "      <td>1</td>\n",
              "      <td>0</td>\n",
              "      <td>...</td>\n",
              "      <td>40</td>\n",
              "      <td>0</td>\n",
              "      <td>-3.2</td>\n",
              "      <td>0.0</td>\n",
              "      <td>0.5</td>\n",
              "      <td>40.0</td>\n",
              "      <td>0.0</td>\n",
              "      <td>0.0</td>\n",
              "      <td>-2.2</td>\n",
              "      <td>25.0</td>\n",
              "    </tr>\n",
              "    <tr>\n",
              "      <th>159</th>\n",
              "      <td>43</td>\n",
              "      <td>1940</td>\n",
              "      <td>37.548222</td>\n",
              "      <td>127.067879</td>\n",
              "      <td>37.548222</td>\n",
              "      <td>127.067879</td>\n",
              "      <td>0.0</td>\n",
              "      <td>1</td>\n",
              "      <td>1</td>\n",
              "      <td>0</td>\n",
              "      <td>...</td>\n",
              "      <td>26</td>\n",
              "      <td>0</td>\n",
              "      <td>-3.2</td>\n",
              "      <td>0.0</td>\n",
              "      <td>0.5</td>\n",
              "      <td>40.0</td>\n",
              "      <td>0.0</td>\n",
              "      <td>0.0</td>\n",
              "      <td>-2.2</td>\n",
              "      <td>25.0</td>\n",
              "    </tr>\n",
              "    <tr>\n",
              "      <th>206</th>\n",
              "      <td>13</td>\n",
              "      <td>490</td>\n",
              "      <td>37.609566</td>\n",
              "      <td>126.930977</td>\n",
              "      <td>37.609566</td>\n",
              "      <td>126.930977</td>\n",
              "      <td>0.0</td>\n",
              "      <td>1</td>\n",
              "      <td>1</td>\n",
              "      <td>0</td>\n",
              "      <td>...</td>\n",
              "      <td>5</td>\n",
              "      <td>0</td>\n",
              "      <td>-3.2</td>\n",
              "      <td>0.0</td>\n",
              "      <td>0.5</td>\n",
              "      <td>40.0</td>\n",
              "      <td>0.0</td>\n",
              "      <td>0.0</td>\n",
              "      <td>-2.2</td>\n",
              "      <td>25.0</td>\n",
              "    </tr>\n",
              "  </tbody>\n",
              "</table>\n",
              "<p>5 rows × 25 columns</p>\n",
              "</div>\n",
              "    <div class=\"colab-df-buttons\">\n",
              "\n",
              "  <div class=\"colab-df-container\">\n",
              "    <button class=\"colab-df-convert\" onclick=\"convertToInteractive('df-1dcb94b0-8c2e-4667-a57b-03e214a6fba5')\"\n",
              "            title=\"Convert this dataframe to an interactive table.\"\n",
              "            style=\"display:none;\">\n",
              "\n",
              "  <svg xmlns=\"http://www.w3.org/2000/svg\" height=\"24px\" viewBox=\"0 -960 960 960\">\n",
              "    <path d=\"M120-120v-720h720v720H120Zm60-500h600v-160H180v160Zm220 220h160v-160H400v160Zm0 220h160v-160H400v160ZM180-400h160v-160H180v160Zm440 0h160v-160H620v160ZM180-180h160v-160H180v160Zm440 0h160v-160H620v160Z\"/>\n",
              "  </svg>\n",
              "    </button>\n",
              "\n",
              "  <style>\n",
              "    .colab-df-container {\n",
              "      display:flex;\n",
              "      gap: 12px;\n",
              "    }\n",
              "\n",
              "    .colab-df-convert {\n",
              "      background-color: #E8F0FE;\n",
              "      border: none;\n",
              "      border-radius: 50%;\n",
              "      cursor: pointer;\n",
              "      display: none;\n",
              "      fill: #1967D2;\n",
              "      height: 32px;\n",
              "      padding: 0 0 0 0;\n",
              "      width: 32px;\n",
              "    }\n",
              "\n",
              "    .colab-df-convert:hover {\n",
              "      background-color: #E2EBFA;\n",
              "      box-shadow: 0px 1px 2px rgba(60, 64, 67, 0.3), 0px 1px 3px 1px rgba(60, 64, 67, 0.15);\n",
              "      fill: #174EA6;\n",
              "    }\n",
              "\n",
              "    .colab-df-buttons div {\n",
              "      margin-bottom: 4px;\n",
              "    }\n",
              "\n",
              "    [theme=dark] .colab-df-convert {\n",
              "      background-color: #3B4455;\n",
              "      fill: #D2E3FC;\n",
              "    }\n",
              "\n",
              "    [theme=dark] .colab-df-convert:hover {\n",
              "      background-color: #434B5C;\n",
              "      box-shadow: 0px 1px 3px 1px rgba(0, 0, 0, 0.15);\n",
              "      filter: drop-shadow(0px 1px 2px rgba(0, 0, 0, 0.3));\n",
              "      fill: #FFFFFF;\n",
              "    }\n",
              "  </style>\n",
              "\n",
              "    <script>\n",
              "      const buttonEl =\n",
              "        document.querySelector('#df-1dcb94b0-8c2e-4667-a57b-03e214a6fba5 button.colab-df-convert');\n",
              "      buttonEl.style.display =\n",
              "        google.colab.kernel.accessAllowed ? 'block' : 'none';\n",
              "\n",
              "      async function convertToInteractive(key) {\n",
              "        const element = document.querySelector('#df-1dcb94b0-8c2e-4667-a57b-03e214a6fba5');\n",
              "        const dataTable =\n",
              "          await google.colab.kernel.invokeFunction('convertToInteractive',\n",
              "                                                    [key], {});\n",
              "        if (!dataTable) return;\n",
              "\n",
              "        const docLinkHtml = 'Like what you see? Visit the ' +\n",
              "          '<a target=\"_blank\" href=https://colab.research.google.com/notebooks/data_table.ipynb>data table notebook</a>'\n",
              "          + ' to learn more about interactive tables.';\n",
              "        element.innerHTML = '';\n",
              "        dataTable['output_type'] = 'display_data';\n",
              "        await google.colab.output.renderOutput(dataTable, element);\n",
              "        const docLink = document.createElement('div');\n",
              "        docLink.innerHTML = docLinkHtml;\n",
              "        element.appendChild(docLink);\n",
              "      }\n",
              "    </script>\n",
              "  </div>\n",
              "\n",
              "\n",
              "<div id=\"df-5d22ebed-2445-4a5c-bea8-b8b1f1877246\">\n",
              "  <button class=\"colab-df-quickchart\" onclick=\"quickchart('df-5d22ebed-2445-4a5c-bea8-b8b1f1877246')\"\n",
              "            title=\"Suggest charts.\"\n",
              "            style=\"display:none;\">\n",
              "\n",
              "<svg xmlns=\"http://www.w3.org/2000/svg\" height=\"24px\"viewBox=\"0 0 24 24\"\n",
              "     width=\"24px\">\n",
              "    <g>\n",
              "        <path d=\"M19 3H5c-1.1 0-2 .9-2 2v14c0 1.1.9 2 2 2h14c1.1 0 2-.9 2-2V5c0-1.1-.9-2-2-2zM9 17H7v-7h2v7zm4 0h-2V7h2v10zm4 0h-2v-4h2v4z\"/>\n",
              "    </g>\n",
              "</svg>\n",
              "  </button>\n",
              "\n",
              "<style>\n",
              "  .colab-df-quickchart {\n",
              "      --bg-color: #E8F0FE;\n",
              "      --fill-color: #1967D2;\n",
              "      --hover-bg-color: #E2EBFA;\n",
              "      --hover-fill-color: #174EA6;\n",
              "      --disabled-fill-color: #AAA;\n",
              "      --disabled-bg-color: #DDD;\n",
              "  }\n",
              "\n",
              "  [theme=dark] .colab-df-quickchart {\n",
              "      --bg-color: #3B4455;\n",
              "      --fill-color: #D2E3FC;\n",
              "      --hover-bg-color: #434B5C;\n",
              "      --hover-fill-color: #FFFFFF;\n",
              "      --disabled-bg-color: #3B4455;\n",
              "      --disabled-fill-color: #666;\n",
              "  }\n",
              "\n",
              "  .colab-df-quickchart {\n",
              "    background-color: var(--bg-color);\n",
              "    border: none;\n",
              "    border-radius: 50%;\n",
              "    cursor: pointer;\n",
              "    display: none;\n",
              "    fill: var(--fill-color);\n",
              "    height: 32px;\n",
              "    padding: 0;\n",
              "    width: 32px;\n",
              "  }\n",
              "\n",
              "  .colab-df-quickchart:hover {\n",
              "    background-color: var(--hover-bg-color);\n",
              "    box-shadow: 0 1px 2px rgba(60, 64, 67, 0.3), 0 1px 3px 1px rgba(60, 64, 67, 0.15);\n",
              "    fill: var(--button-hover-fill-color);\n",
              "  }\n",
              "\n",
              "  .colab-df-quickchart-complete:disabled,\n",
              "  .colab-df-quickchart-complete:disabled:hover {\n",
              "    background-color: var(--disabled-bg-color);\n",
              "    fill: var(--disabled-fill-color);\n",
              "    box-shadow: none;\n",
              "  }\n",
              "\n",
              "  .colab-df-spinner {\n",
              "    border: 2px solid var(--fill-color);\n",
              "    border-color: transparent;\n",
              "    border-bottom-color: var(--fill-color);\n",
              "    animation:\n",
              "      spin 1s steps(1) infinite;\n",
              "  }\n",
              "\n",
              "  @keyframes spin {\n",
              "    0% {\n",
              "      border-color: transparent;\n",
              "      border-bottom-color: var(--fill-color);\n",
              "      border-left-color: var(--fill-color);\n",
              "    }\n",
              "    20% {\n",
              "      border-color: transparent;\n",
              "      border-left-color: var(--fill-color);\n",
              "      border-top-color: var(--fill-color);\n",
              "    }\n",
              "    30% {\n",
              "      border-color: transparent;\n",
              "      border-left-color: var(--fill-color);\n",
              "      border-top-color: var(--fill-color);\n",
              "      border-right-color: var(--fill-color);\n",
              "    }\n",
              "    40% {\n",
              "      border-color: transparent;\n",
              "      border-right-color: var(--fill-color);\n",
              "      border-top-color: var(--fill-color);\n",
              "    }\n",
              "    60% {\n",
              "      border-color: transparent;\n",
              "      border-right-color: var(--fill-color);\n",
              "    }\n",
              "    80% {\n",
              "      border-color: transparent;\n",
              "      border-right-color: var(--fill-color);\n",
              "      border-bottom-color: var(--fill-color);\n",
              "    }\n",
              "    90% {\n",
              "      border-color: transparent;\n",
              "      border-bottom-color: var(--fill-color);\n",
              "    }\n",
              "  }\n",
              "</style>\n",
              "\n",
              "  <script>\n",
              "    async function quickchart(key) {\n",
              "      const quickchartButtonEl =\n",
              "        document.querySelector('#' + key + ' button');\n",
              "      quickchartButtonEl.disabled = true;  // To prevent multiple clicks.\n",
              "      quickchartButtonEl.classList.add('colab-df-spinner');\n",
              "      try {\n",
              "        const charts = await google.colab.kernel.invokeFunction(\n",
              "            'suggestCharts', [key], {});\n",
              "      } catch (error) {\n",
              "        console.error('Error during call to suggestCharts:', error);\n",
              "      }\n",
              "      quickchartButtonEl.classList.remove('colab-df-spinner');\n",
              "      quickchartButtonEl.classList.add('colab-df-quickchart-complete');\n",
              "    }\n",
              "    (() => {\n",
              "      let quickchartButtonEl =\n",
              "        document.querySelector('#df-5d22ebed-2445-4a5c-bea8-b8b1f1877246 button');\n",
              "      quickchartButtonEl.style.display =\n",
              "        google.colab.kernel.accessAllowed ? 'block' : 'none';\n",
              "    })();\n",
              "  </script>\n",
              "</div>\n",
              "    </div>\n",
              "  </div>\n"
            ],
            "text/plain": [
              "     Duration  Distance      PLong       PLatd      DLong       DLatd  \\\n",
              "0           3        50  37.544666  126.888359  37.544666  126.888359   \n",
              "26         18      1600  37.556610  126.898018  37.556610  126.898018   \n",
              "139         2        10  37.575970  126.983063  37.575970  126.983063   \n",
              "159        43      1940  37.548222  127.067879  37.548222  127.067879   \n",
              "206        13       490  37.609566  126.930977  37.609566  126.930977   \n",
              "\n",
              "     Haversine  Pmonth  Pday  Phour  ...  Dmin  DDweek  Temp  Precip  Wind  \\\n",
              "0          0.0       1     1      0  ...     4       0  -3.2     0.0   0.5   \n",
              "26         0.0       1     1      0  ...    27       0  -3.2     0.0   0.5   \n",
              "139        0.0       1     1      0  ...    40       0  -3.2     0.0   0.5   \n",
              "159        0.0       1     1      0  ...    26       0  -3.2     0.0   0.5   \n",
              "206        0.0       1     1      0  ...     5       0  -3.2     0.0   0.5   \n",
              "\n",
              "     Humid  Solar  Snow  GroundTemp  Dust  \n",
              "0     40.0    0.0   0.0        -2.2  25.0  \n",
              "26    40.0    0.0   0.0        -2.2  25.0  \n",
              "139   40.0    0.0   0.0        -2.2  25.0  \n",
              "159   40.0    0.0   0.0        -2.2  25.0  \n",
              "206   40.0    0.0   0.0        -2.2  25.0  \n",
              "\n",
              "[5 rows x 25 columns]"
            ]
          },
          "execution_count": 6,
          "metadata": {},
          "output_type": "execute_result"
        }
      ],
      "source": [
        "data_with_zero_displacement = data[data['Haversine']==0]\n",
        "data_with_zero_displacement.head(5)"
      ]
    },
    {
      "cell_type": "code",
      "execution_count": null,
      "metadata": {
        "colab": {
          "base_uri": "https://localhost:8080/"
        },
        "id": "SPu0cIAkKH_Q",
        "outputId": "42880f05-d060-441d-bd54-9808ff41491f"
      },
      "outputs": [
        {
          "data": {
            "text/plain": [
              "(955083, 25)"
            ]
          },
          "execution_count": 10,
          "metadata": {},
          "output_type": "execute_result"
        }
      ],
      "source": [
        "data_with_zero_displacement.shape"
      ]
    },
    {
      "cell_type": "code",
      "execution_count": null,
      "metadata": {
        "colab": {
          "base_uri": "https://localhost:8080/"
        },
        "id": "oyDTVynQyprj",
        "outputId": "44508a8d-cbd1-467f-fc74-fa2230234853"
      },
      "outputs": [
        {
          "data": {
            "text/plain": [
              "(9601139, 25)"
            ]
          },
          "execution_count": 11,
          "metadata": {},
          "output_type": "execute_result"
        }
      ],
      "source": [
        "data.shape"
      ]
    },
    {
      "cell_type": "markdown",
      "metadata": {
        "id": "xMghip6x4Vql"
      },
      "source": [
        "Out of a total of 9,601,139 recorded trips, 955,083 of them are classified as round-trips, where the rider initiates and concludes the journey at the same location. From a logical standpoint, the inclusion of such data in predictive modeling for future bike trip durations between distinct points seems unwarranted. This is due to the fact that round-trip data offers limited value for inferring the rider's travel patterns and behavior during the course of the journey, as the origin and destination points are identical. Consequently, this subset of data lacks the necessary variability and insights to contribute meaningfully to the prediction of bike trip durations between distinct points."
      ]
    },
    {
      "cell_type": "code",
      "execution_count": null,
      "metadata": {
        "id": "ZjB3xgZl_1Dx"
      },
      "outputs": [],
      "source": [
        "# Check if pickup and dropoff coordinates are the same\n",
        "same_coordinates_mask = np.logical_and(data['PLong'] == data['DLong'], data['PLatd'] == data['DLatd'])\n",
        "\n",
        "# Filter the data based on both conditions\n",
        "filtered_data = data[~(same_coordinates_mask & (data['Haversine'] == 0))]"
      ]
    },
    {
      "cell_type": "code",
      "execution_count": null,
      "metadata": {
        "colab": {
          "base_uri": "https://localhost:8080/"
        },
        "id": "DgF6RwyL_2vN",
        "outputId": "10a3d3d6-3c2e-4cab-83b5-9f6ab847b7a0"
      },
      "outputs": [
        {
          "data": {
            "text/plain": [
              "(8646056, 25)"
            ]
          },
          "execution_count": 13,
          "metadata": {},
          "output_type": "execute_result"
        }
      ],
      "source": [
        "filtered_data.shape"
      ]
    },
    {
      "cell_type": "code",
      "execution_count": null,
      "metadata": {
        "id": "-J-AjQ8L-3Xv"
      },
      "outputs": [],
      "source": [
        "# removing the tuples for which haversine == 0\n",
        "filtered_data = data[data['Haversine'] != 0]"
      ]
    },
    {
      "cell_type": "code",
      "execution_count": null,
      "metadata": {
        "colab": {
          "base_uri": "https://localhost:8080/"
        },
        "id": "7HqCFJ7H_Ccc",
        "outputId": "539d8a77-df50-4f93-f4e8-c900ed439e25"
      },
      "outputs": [
        {
          "data": {
            "text/plain": [
              "(8646056, 25)"
            ]
          },
          "execution_count": 15,
          "metadata": {},
          "output_type": "execute_result"
        }
      ],
      "source": [
        "filtered_data.shape"
      ]
    },
    {
      "cell_type": "markdown",
      "metadata": {
        "id": "z_V9Nyfc5PDK"
      },
      "source": [
        "## Verifying all of the features' values"
      ]
    },
    {
      "cell_type": "code",
      "execution_count": null,
      "metadata": {
        "colab": {
          "base_uri": "https://localhost:8080/",
          "height": 320
        },
        "id": "qDwLpwsW4UJK",
        "outputId": "2209b88b-d9da-4dc1-a758-46793d681575"
      },
      "outputs": [
        {
          "data": {
            "text/html": [
              "\n",
              "  <div id=\"df-93371d1c-7258-4924-b6d3-173e98249743\" class=\"colab-df-container\">\n",
              "    <div>\n",
              "<style scoped>\n",
              "    .dataframe tbody tr th:only-of-type {\n",
              "        vertical-align: middle;\n",
              "    }\n",
              "\n",
              "    .dataframe tbody tr th {\n",
              "        vertical-align: top;\n",
              "    }\n",
              "\n",
              "    .dataframe thead th {\n",
              "        text-align: right;\n",
              "    }\n",
              "</style>\n",
              "<table border=\"1\" class=\"dataframe\">\n",
              "  <thead>\n",
              "    <tr style=\"text-align: right;\">\n",
              "      <th></th>\n",
              "      <th>Duration</th>\n",
              "      <th>Distance</th>\n",
              "      <th>PLong</th>\n",
              "      <th>PLatd</th>\n",
              "      <th>DLong</th>\n",
              "      <th>DLatd</th>\n",
              "      <th>Haversine</th>\n",
              "      <th>Pmonth</th>\n",
              "      <th>Pday</th>\n",
              "      <th>Phour</th>\n",
              "      <th>Pmin</th>\n",
              "      <th>PDweek</th>\n",
              "      <th>Dmonth</th>\n",
              "      <th>Dday</th>\n",
              "      <th>Dhour</th>\n",
              "      <th>Dmin</th>\n",
              "      <th>DDweek</th>\n",
              "      <th>Temp</th>\n",
              "      <th>Precip</th>\n",
              "      <th>Wind</th>\n",
              "      <th>Humid</th>\n",
              "      <th>Solar</th>\n",
              "      <th>Snow</th>\n",
              "      <th>GroundTemp</th>\n",
              "      <th>Dust</th>\n",
              "    </tr>\n",
              "  </thead>\n",
              "  <tbody>\n",
              "    <tr>\n",
              "      <th>count</th>\n",
              "      <td>8.646056e+06</td>\n",
              "      <td>8.646056e+06</td>\n",
              "      <td>8.646056e+06</td>\n",
              "      <td>8.646056e+06</td>\n",
              "      <td>8.646056e+06</td>\n",
              "      <td>8.646056e+06</td>\n",
              "      <td>8.646056e+06</td>\n",
              "      <td>8.646056e+06</td>\n",
              "      <td>8.646056e+06</td>\n",
              "      <td>8.646056e+06</td>\n",
              "      <td>8.646056e+06</td>\n",
              "      <td>8.646056e+06</td>\n",
              "      <td>8.646056e+06</td>\n",
              "      <td>8.646056e+06</td>\n",
              "      <td>8.646056e+06</td>\n",
              "      <td>8.646056e+06</td>\n",
              "      <td>8.646056e+06</td>\n",
              "      <td>8.646056e+06</td>\n",
              "      <td>8.646056e+06</td>\n",
              "      <td>8.646056e+06</td>\n",
              "      <td>8.646056e+06</td>\n",
              "      <td>8.646056e+06</td>\n",
              "      <td>8.646056e+06</td>\n",
              "      <td>8.646056e+06</td>\n",
              "      <td>8.646056e+06</td>\n",
              "    </tr>\n",
              "    <tr>\n",
              "      <th>mean</th>\n",
              "      <td>2.314345e+01</td>\n",
              "      <td>3.489543e+03</td>\n",
              "      <td>3.754772e+01</td>\n",
              "      <td>1.269909e+02</td>\n",
              "      <td>3.754782e+01</td>\n",
              "      <td>1.269908e+02</td>\n",
              "      <td>2.076918e+00</td>\n",
              "      <td>7.602102e+00</td>\n",
              "      <td>1.578030e+01</td>\n",
              "      <td>1.423248e+01</td>\n",
              "      <td>2.912769e+01</td>\n",
              "      <td>2.916600e+00</td>\n",
              "      <td>7.602499e+00</td>\n",
              "      <td>1.577990e+01</td>\n",
              "      <td>1.427496e+01</td>\n",
              "      <td>3.003549e+01</td>\n",
              "      <td>2.918615e+00</td>\n",
              "      <td>1.837109e+01</td>\n",
              "      <td>1.814095e-02</td>\n",
              "      <td>1.806268e+00</td>\n",
              "      <td>5.428914e+01</td>\n",
              "      <td>7.116840e-01</td>\n",
              "      <td>1.020934e-02</td>\n",
              "      <td>2.044014e+01</td>\n",
              "      <td>3.247510e+01</td>\n",
              "    </tr>\n",
              "    <tr>\n",
              "      <th>std</th>\n",
              "      <td>2.286414e+01</td>\n",
              "      <td>3.703603e+03</td>\n",
              "      <td>4.430949e-02</td>\n",
              "      <td>8.236528e-02</td>\n",
              "      <td>4.435297e-02</td>\n",
              "      <td>8.310713e-02</td>\n",
              "      <td>1.998044e+00</td>\n",
              "      <td>2.710842e+00</td>\n",
              "      <td>8.746445e+00</td>\n",
              "      <td>6.334764e+00</td>\n",
              "      <td>1.725796e+01</td>\n",
              "      <td>1.963908e+00</td>\n",
              "      <td>2.710829e+00</td>\n",
              "      <td>8.746214e+00</td>\n",
              "      <td>6.535078e+00</td>\n",
              "      <td>1.730486e+01</td>\n",
              "      <td>1.965282e+00</td>\n",
              "      <td>9.588562e+00</td>\n",
              "      <td>3.800871e-01</td>\n",
              "      <td>9.711955e-01</td>\n",
              "      <td>1.743514e+01</td>\n",
              "      <td>9.070460e-01</td>\n",
              "      <td>1.648211e-01</td>\n",
              "      <td>1.270838e+01</td>\n",
              "      <td>2.412606e+01</td>\n",
              "    </tr>\n",
              "    <tr>\n",
              "      <th>min</th>\n",
              "      <td>1.000000e+00</td>\n",
              "      <td>1.000000e+00</td>\n",
              "      <td>3.743727e+01</td>\n",
              "      <td>1.267986e+02</td>\n",
              "      <td>3.743727e+01</td>\n",
              "      <td>1.267986e+02</td>\n",
              "      <td>2.088959e-02</td>\n",
              "      <td>1.000000e+00</td>\n",
              "      <td>1.000000e+00</td>\n",
              "      <td>0.000000e+00</td>\n",
              "      <td>0.000000e+00</td>\n",
              "      <td>0.000000e+00</td>\n",
              "      <td>1.000000e+00</td>\n",
              "      <td>1.000000e+00</td>\n",
              "      <td>0.000000e+00</td>\n",
              "      <td>0.000000e+00</td>\n",
              "      <td>0.000000e+00</td>\n",
              "      <td>-1.780000e+01</td>\n",
              "      <td>0.000000e+00</td>\n",
              "      <td>0.000000e+00</td>\n",
              "      <td>1.000000e+01</td>\n",
              "      <td>0.000000e+00</td>\n",
              "      <td>0.000000e+00</td>\n",
              "      <td>-1.360000e+01</td>\n",
              "      <td>0.000000e+00</td>\n",
              "    </tr>\n",
              "    <tr>\n",
              "      <th>25%</th>\n",
              "      <td>7.000000e+00</td>\n",
              "      <td>1.200000e+03</td>\n",
              "      <td>3.751424e+01</td>\n",
              "      <td>1.269201e+02</td>\n",
              "      <td>3.751424e+01</td>\n",
              "      <td>1.269196e+02</td>\n",
              "      <td>8.277592e-01</td>\n",
              "      <td>6.000000e+00</td>\n",
              "      <td>8.000000e+00</td>\n",
              "      <td>9.000000e+00</td>\n",
              "      <td>1.400000e+01</td>\n",
              "      <td>1.000000e+00</td>\n",
              "      <td>6.000000e+00</td>\n",
              "      <td>8.000000e+00</td>\n",
              "      <td>9.000000e+00</td>\n",
              "      <td>1.500000e+01</td>\n",
              "      <td>1.000000e+00</td>\n",
              "      <td>1.200000e+01</td>\n",
              "      <td>0.000000e+00</td>\n",
              "      <td>1.100000e+00</td>\n",
              "      <td>4.100000e+01</td>\n",
              "      <td>0.000000e+00</td>\n",
              "      <td>0.000000e+00</td>\n",
              "      <td>1.120000e+01</td>\n",
              "      <td>1.600000e+01</td>\n",
              "    </tr>\n",
              "    <tr>\n",
              "      <th>50%</th>\n",
              "      <td>1.500000e+01</td>\n",
              "      <td>2.180000e+03</td>\n",
              "      <td>3.754769e+01</td>\n",
              "      <td>1.269943e+02</td>\n",
              "      <td>3.754707e+01</td>\n",
              "      <td>1.269943e+02</td>\n",
              "      <td>1.404650e+00</td>\n",
              "      <td>8.000000e+00</td>\n",
              "      <td>1.600000e+01</td>\n",
              "      <td>1.600000e+01</td>\n",
              "      <td>2.900000e+01</td>\n",
              "      <td>3.000000e+00</td>\n",
              "      <td>8.000000e+00</td>\n",
              "      <td>1.600000e+01</td>\n",
              "      <td>1.600000e+01</td>\n",
              "      <td>3.000000e+01</td>\n",
              "      <td>3.000000e+00</td>\n",
              "      <td>1.990000e+01</td>\n",
              "      <td>0.000000e+00</td>\n",
              "      <td>1.700000e+00</td>\n",
              "      <td>5.300000e+01</td>\n",
              "      <td>2.500000e-01</td>\n",
              "      <td>0.000000e+00</td>\n",
              "      <td>2.090000e+01</td>\n",
              "      <td>2.700000e+01</td>\n",
              "    </tr>\n",
              "    <tr>\n",
              "      <th>75%</th>\n",
              "      <td>3.100000e+01</td>\n",
              "      <td>4.280000e+03</td>\n",
              "      <td>3.757324e+01</td>\n",
              "      <td>1.270618e+02</td>\n",
              "      <td>3.757328e+01</td>\n",
              "      <td>1.270624e+02</td>\n",
              "      <td>2.556391e+00</td>\n",
              "      <td>1.000000e+01</td>\n",
              "      <td>2.300000e+01</td>\n",
              "      <td>1.900000e+01</td>\n",
              "      <td>4.400000e+01</td>\n",
              "      <td>5.000000e+00</td>\n",
              "      <td>1.000000e+01</td>\n",
              "      <td>2.300000e+01</td>\n",
              "      <td>1.900000e+01</td>\n",
              "      <td>4.500000e+01</td>\n",
              "      <td>5.000000e+00</td>\n",
              "      <td>2.540000e+01</td>\n",
              "      <td>0.000000e+00</td>\n",
              "      <td>2.400000e+00</td>\n",
              "      <td>6.700000e+01</td>\n",
              "      <td>1.230000e+00</td>\n",
              "      <td>0.000000e+00</td>\n",
              "      <td>2.840000e+01</td>\n",
              "      <td>4.200000e+01</td>\n",
              "    </tr>\n",
              "    <tr>\n",
              "      <th>max</th>\n",
              "      <td>1.190000e+02</td>\n",
              "      <td>3.329000e+04</td>\n",
              "      <td>3.768972e+01</td>\n",
              "      <td>1.271803e+02</td>\n",
              "      <td>3.768972e+01</td>\n",
              "      <td>1.271803e+02</td>\n",
              "      <td>2.863448e+01</td>\n",
              "      <td>1.200000e+01</td>\n",
              "      <td>3.100000e+01</td>\n",
              "      <td>2.300000e+01</td>\n",
              "      <td>5.900000e+01</td>\n",
              "      <td>6.000000e+00</td>\n",
              "      <td>1.200000e+01</td>\n",
              "      <td>3.100000e+01</td>\n",
              "      <td>2.300000e+01</td>\n",
              "      <td>5.900000e+01</td>\n",
              "      <td>6.000000e+00</td>\n",
              "      <td>3.940000e+01</td>\n",
              "      <td>3.500000e+01</td>\n",
              "      <td>7.400000e+00</td>\n",
              "      <td>9.800000e+01</td>\n",
              "      <td>3.520000e+00</td>\n",
              "      <td>8.800000e+00</td>\n",
              "      <td>6.220000e+01</td>\n",
              "      <td>3.040000e+02</td>\n",
              "    </tr>\n",
              "  </tbody>\n",
              "</table>\n",
              "</div>\n",
              "    <div class=\"colab-df-buttons\">\n",
              "\n",
              "  <div class=\"colab-df-container\">\n",
              "    <button class=\"colab-df-convert\" onclick=\"convertToInteractive('df-93371d1c-7258-4924-b6d3-173e98249743')\"\n",
              "            title=\"Convert this dataframe to an interactive table.\"\n",
              "            style=\"display:none;\">\n",
              "\n",
              "  <svg xmlns=\"http://www.w3.org/2000/svg\" height=\"24px\" viewBox=\"0 -960 960 960\">\n",
              "    <path d=\"M120-120v-720h720v720H120Zm60-500h600v-160H180v160Zm220 220h160v-160H400v160Zm0 220h160v-160H400v160ZM180-400h160v-160H180v160Zm440 0h160v-160H620v160ZM180-180h160v-160H180v160Zm440 0h160v-160H620v160Z\"/>\n",
              "  </svg>\n",
              "    </button>\n",
              "\n",
              "  <style>\n",
              "    .colab-df-container {\n",
              "      display:flex;\n",
              "      gap: 12px;\n",
              "    }\n",
              "\n",
              "    .colab-df-convert {\n",
              "      background-color: #E8F0FE;\n",
              "      border: none;\n",
              "      border-radius: 50%;\n",
              "      cursor: pointer;\n",
              "      display: none;\n",
              "      fill: #1967D2;\n",
              "      height: 32px;\n",
              "      padding: 0 0 0 0;\n",
              "      width: 32px;\n",
              "    }\n",
              "\n",
              "    .colab-df-convert:hover {\n",
              "      background-color: #E2EBFA;\n",
              "      box-shadow: 0px 1px 2px rgba(60, 64, 67, 0.3), 0px 1px 3px 1px rgba(60, 64, 67, 0.15);\n",
              "      fill: #174EA6;\n",
              "    }\n",
              "\n",
              "    .colab-df-buttons div {\n",
              "      margin-bottom: 4px;\n",
              "    }\n",
              "\n",
              "    [theme=dark] .colab-df-convert {\n",
              "      background-color: #3B4455;\n",
              "      fill: #D2E3FC;\n",
              "    }\n",
              "\n",
              "    [theme=dark] .colab-df-convert:hover {\n",
              "      background-color: #434B5C;\n",
              "      box-shadow: 0px 1px 3px 1px rgba(0, 0, 0, 0.15);\n",
              "      filter: drop-shadow(0px 1px 2px rgba(0, 0, 0, 0.3));\n",
              "      fill: #FFFFFF;\n",
              "    }\n",
              "  </style>\n",
              "\n",
              "    <script>\n",
              "      const buttonEl =\n",
              "        document.querySelector('#df-93371d1c-7258-4924-b6d3-173e98249743 button.colab-df-convert');\n",
              "      buttonEl.style.display =\n",
              "        google.colab.kernel.accessAllowed ? 'block' : 'none';\n",
              "\n",
              "      async function convertToInteractive(key) {\n",
              "        const element = document.querySelector('#df-93371d1c-7258-4924-b6d3-173e98249743');\n",
              "        const dataTable =\n",
              "          await google.colab.kernel.invokeFunction('convertToInteractive',\n",
              "                                                    [key], {});\n",
              "        if (!dataTable) return;\n",
              "\n",
              "        const docLinkHtml = 'Like what you see? Visit the ' +\n",
              "          '<a target=\"_blank\" href=https://colab.research.google.com/notebooks/data_table.ipynb>data table notebook</a>'\n",
              "          + ' to learn more about interactive tables.';\n",
              "        element.innerHTML = '';\n",
              "        dataTable['output_type'] = 'display_data';\n",
              "        await google.colab.output.renderOutput(dataTable, element);\n",
              "        const docLink = document.createElement('div');\n",
              "        docLink.innerHTML = docLinkHtml;\n",
              "        element.appendChild(docLink);\n",
              "      }\n",
              "    </script>\n",
              "  </div>\n",
              "\n",
              "\n",
              "<div id=\"df-672484a0-543f-45b8-97af-f7aef72b229d\">\n",
              "  <button class=\"colab-df-quickchart\" onclick=\"quickchart('df-672484a0-543f-45b8-97af-f7aef72b229d')\"\n",
              "            title=\"Suggest charts.\"\n",
              "            style=\"display:none;\">\n",
              "\n",
              "<svg xmlns=\"http://www.w3.org/2000/svg\" height=\"24px\"viewBox=\"0 0 24 24\"\n",
              "     width=\"24px\">\n",
              "    <g>\n",
              "        <path d=\"M19 3H5c-1.1 0-2 .9-2 2v14c0 1.1.9 2 2 2h14c1.1 0 2-.9 2-2V5c0-1.1-.9-2-2-2zM9 17H7v-7h2v7zm4 0h-2V7h2v10zm4 0h-2v-4h2v4z\"/>\n",
              "    </g>\n",
              "</svg>\n",
              "  </button>\n",
              "\n",
              "<style>\n",
              "  .colab-df-quickchart {\n",
              "      --bg-color: #E8F0FE;\n",
              "      --fill-color: #1967D2;\n",
              "      --hover-bg-color: #E2EBFA;\n",
              "      --hover-fill-color: #174EA6;\n",
              "      --disabled-fill-color: #AAA;\n",
              "      --disabled-bg-color: #DDD;\n",
              "  }\n",
              "\n",
              "  [theme=dark] .colab-df-quickchart {\n",
              "      --bg-color: #3B4455;\n",
              "      --fill-color: #D2E3FC;\n",
              "      --hover-bg-color: #434B5C;\n",
              "      --hover-fill-color: #FFFFFF;\n",
              "      --disabled-bg-color: #3B4455;\n",
              "      --disabled-fill-color: #666;\n",
              "  }\n",
              "\n",
              "  .colab-df-quickchart {\n",
              "    background-color: var(--bg-color);\n",
              "    border: none;\n",
              "    border-radius: 50%;\n",
              "    cursor: pointer;\n",
              "    display: none;\n",
              "    fill: var(--fill-color);\n",
              "    height: 32px;\n",
              "    padding: 0;\n",
              "    width: 32px;\n",
              "  }\n",
              "\n",
              "  .colab-df-quickchart:hover {\n",
              "    background-color: var(--hover-bg-color);\n",
              "    box-shadow: 0 1px 2px rgba(60, 64, 67, 0.3), 0 1px 3px 1px rgba(60, 64, 67, 0.15);\n",
              "    fill: var(--button-hover-fill-color);\n",
              "  }\n",
              "\n",
              "  .colab-df-quickchart-complete:disabled,\n",
              "  .colab-df-quickchart-complete:disabled:hover {\n",
              "    background-color: var(--disabled-bg-color);\n",
              "    fill: var(--disabled-fill-color);\n",
              "    box-shadow: none;\n",
              "  }\n",
              "\n",
              "  .colab-df-spinner {\n",
              "    border: 2px solid var(--fill-color);\n",
              "    border-color: transparent;\n",
              "    border-bottom-color: var(--fill-color);\n",
              "    animation:\n",
              "      spin 1s steps(1) infinite;\n",
              "  }\n",
              "\n",
              "  @keyframes spin {\n",
              "    0% {\n",
              "      border-color: transparent;\n",
              "      border-bottom-color: var(--fill-color);\n",
              "      border-left-color: var(--fill-color);\n",
              "    }\n",
              "    20% {\n",
              "      border-color: transparent;\n",
              "      border-left-color: var(--fill-color);\n",
              "      border-top-color: var(--fill-color);\n",
              "    }\n",
              "    30% {\n",
              "      border-color: transparent;\n",
              "      border-left-color: var(--fill-color);\n",
              "      border-top-color: var(--fill-color);\n",
              "      border-right-color: var(--fill-color);\n",
              "    }\n",
              "    40% {\n",
              "      border-color: transparent;\n",
              "      border-right-color: var(--fill-color);\n",
              "      border-top-color: var(--fill-color);\n",
              "    }\n",
              "    60% {\n",
              "      border-color: transparent;\n",
              "      border-right-color: var(--fill-color);\n",
              "    }\n",
              "    80% {\n",
              "      border-color: transparent;\n",
              "      border-right-color: var(--fill-color);\n",
              "      border-bottom-color: var(--fill-color);\n",
              "    }\n",
              "    90% {\n",
              "      border-color: transparent;\n",
              "      border-bottom-color: var(--fill-color);\n",
              "    }\n",
              "  }\n",
              "</style>\n",
              "\n",
              "  <script>\n",
              "    async function quickchart(key) {\n",
              "      const quickchartButtonEl =\n",
              "        document.querySelector('#' + key + ' button');\n",
              "      quickchartButtonEl.disabled = true;  // To prevent multiple clicks.\n",
              "      quickchartButtonEl.classList.add('colab-df-spinner');\n",
              "      try {\n",
              "        const charts = await google.colab.kernel.invokeFunction(\n",
              "            'suggestCharts', [key], {});\n",
              "      } catch (error) {\n",
              "        console.error('Error during call to suggestCharts:', error);\n",
              "      }\n",
              "      quickchartButtonEl.classList.remove('colab-df-spinner');\n",
              "      quickchartButtonEl.classList.add('colab-df-quickchart-complete');\n",
              "    }\n",
              "    (() => {\n",
              "      let quickchartButtonEl =\n",
              "        document.querySelector('#df-672484a0-543f-45b8-97af-f7aef72b229d button');\n",
              "      quickchartButtonEl.style.display =\n",
              "        google.colab.kernel.accessAllowed ? 'block' : 'none';\n",
              "    })();\n",
              "  </script>\n",
              "</div>\n",
              "    </div>\n",
              "  </div>\n"
            ],
            "text/plain": [
              "           Duration      Distance         PLong         PLatd         DLong  \\\n",
              "count  8.646056e+06  8.646056e+06  8.646056e+06  8.646056e+06  8.646056e+06   \n",
              "mean   2.314345e+01  3.489543e+03  3.754772e+01  1.269909e+02  3.754782e+01   \n",
              "std    2.286414e+01  3.703603e+03  4.430949e-02  8.236528e-02  4.435297e-02   \n",
              "min    1.000000e+00  1.000000e+00  3.743727e+01  1.267986e+02  3.743727e+01   \n",
              "25%    7.000000e+00  1.200000e+03  3.751424e+01  1.269201e+02  3.751424e+01   \n",
              "50%    1.500000e+01  2.180000e+03  3.754769e+01  1.269943e+02  3.754707e+01   \n",
              "75%    3.100000e+01  4.280000e+03  3.757324e+01  1.270618e+02  3.757328e+01   \n",
              "max    1.190000e+02  3.329000e+04  3.768972e+01  1.271803e+02  3.768972e+01   \n",
              "\n",
              "              DLatd     Haversine        Pmonth          Pday         Phour  \\\n",
              "count  8.646056e+06  8.646056e+06  8.646056e+06  8.646056e+06  8.646056e+06   \n",
              "mean   1.269908e+02  2.076918e+00  7.602102e+00  1.578030e+01  1.423248e+01   \n",
              "std    8.310713e-02  1.998044e+00  2.710842e+00  8.746445e+00  6.334764e+00   \n",
              "min    1.267986e+02  2.088959e-02  1.000000e+00  1.000000e+00  0.000000e+00   \n",
              "25%    1.269196e+02  8.277592e-01  6.000000e+00  8.000000e+00  9.000000e+00   \n",
              "50%    1.269943e+02  1.404650e+00  8.000000e+00  1.600000e+01  1.600000e+01   \n",
              "75%    1.270624e+02  2.556391e+00  1.000000e+01  2.300000e+01  1.900000e+01   \n",
              "max    1.271803e+02  2.863448e+01  1.200000e+01  3.100000e+01  2.300000e+01   \n",
              "\n",
              "               Pmin        PDweek        Dmonth          Dday         Dhour  \\\n",
              "count  8.646056e+06  8.646056e+06  8.646056e+06  8.646056e+06  8.646056e+06   \n",
              "mean   2.912769e+01  2.916600e+00  7.602499e+00  1.577990e+01  1.427496e+01   \n",
              "std    1.725796e+01  1.963908e+00  2.710829e+00  8.746214e+00  6.535078e+00   \n",
              "min    0.000000e+00  0.000000e+00  1.000000e+00  1.000000e+00  0.000000e+00   \n",
              "25%    1.400000e+01  1.000000e+00  6.000000e+00  8.000000e+00  9.000000e+00   \n",
              "50%    2.900000e+01  3.000000e+00  8.000000e+00  1.600000e+01  1.600000e+01   \n",
              "75%    4.400000e+01  5.000000e+00  1.000000e+01  2.300000e+01  1.900000e+01   \n",
              "max    5.900000e+01  6.000000e+00  1.200000e+01  3.100000e+01  2.300000e+01   \n",
              "\n",
              "               Dmin        DDweek          Temp        Precip          Wind  \\\n",
              "count  8.646056e+06  8.646056e+06  8.646056e+06  8.646056e+06  8.646056e+06   \n",
              "mean   3.003549e+01  2.918615e+00  1.837109e+01  1.814095e-02  1.806268e+00   \n",
              "std    1.730486e+01  1.965282e+00  9.588562e+00  3.800871e-01  9.711955e-01   \n",
              "min    0.000000e+00  0.000000e+00 -1.780000e+01  0.000000e+00  0.000000e+00   \n",
              "25%    1.500000e+01  1.000000e+00  1.200000e+01  0.000000e+00  1.100000e+00   \n",
              "50%    3.000000e+01  3.000000e+00  1.990000e+01  0.000000e+00  1.700000e+00   \n",
              "75%    4.500000e+01  5.000000e+00  2.540000e+01  0.000000e+00  2.400000e+00   \n",
              "max    5.900000e+01  6.000000e+00  3.940000e+01  3.500000e+01  7.400000e+00   \n",
              "\n",
              "              Humid         Solar          Snow    GroundTemp          Dust  \n",
              "count  8.646056e+06  8.646056e+06  8.646056e+06  8.646056e+06  8.646056e+06  \n",
              "mean   5.428914e+01  7.116840e-01  1.020934e-02  2.044014e+01  3.247510e+01  \n",
              "std    1.743514e+01  9.070460e-01  1.648211e-01  1.270838e+01  2.412606e+01  \n",
              "min    1.000000e+01  0.000000e+00  0.000000e+00 -1.360000e+01  0.000000e+00  \n",
              "25%    4.100000e+01  0.000000e+00  0.000000e+00  1.120000e+01  1.600000e+01  \n",
              "50%    5.300000e+01  2.500000e-01  0.000000e+00  2.090000e+01  2.700000e+01  \n",
              "75%    6.700000e+01  1.230000e+00  0.000000e+00  2.840000e+01  4.200000e+01  \n",
              "max    9.800000e+01  3.520000e+00  8.800000e+00  6.220000e+01  3.040000e+02  "
            ]
          },
          "execution_count": 16,
          "metadata": {},
          "output_type": "execute_result"
        }
      ],
      "source": [
        "pd.set_option('display.max_columns', None)\n",
        "filtered_data.describe()"
      ]
    },
    {
      "cell_type": "markdown",
      "metadata": {
        "id": "hiWuBJAq5pcj"
      },
      "source": [
        "### Checks:\n",
        "1. `Duration`: check for values that aren't too big or negative.\n",
        "There are no trips found with such values of duration.\n",
        "2. `Distance`: check for no negative distances or extreme outliers. None found.\n",
        "3. `PLong` and `DLong`: Check that longitude values are within the valid range of -180 to 180 degrees. None found.\n",
        "4. `PLatd` and `DLatd`: Check that latitude values are within the valid range of -90 to 90 degrees. None found.\n",
        "5. `Haversine`: computed from PLong, DLong, PLatd and DLatd.\n",
        "6. `Pmonth, Pday, Phour, Pmin, PDweek, Dmonth, Dday, Dhour, Dmin, DDweek`: Check for months (1-12), days (1-31), hours (0-23), minutes (0-59), and days of the week (0-6). Everything is in check.\n",
        "7. `Temp, Precip, Wind, Humid, Solar, Snow, GroundTemp, Dust`: Check for unrealistic values and outliers based on current known range for these weather parameters."
      ]
    },
    {
      "cell_type": "markdown",
      "metadata": {
        "id": "hKFn-0ygeyBT"
      },
      "source": [
        "**Check for duplicate values**\n"
      ]
    },
    {
      "cell_type": "code",
      "execution_count": null,
      "metadata": {
        "colab": {
          "base_uri": "https://localhost:8080/"
        },
        "id": "buXQcvpDe2te",
        "outputId": "f3ff9448-d131-4447-fa36-f0aadcc3dbba"
      },
      "outputs": [
        {
          "data": {
            "text/plain": [
              "False    8636811\n",
              "True        9245\n",
              "dtype: int64"
            ]
          },
          "execution_count": 17,
          "metadata": {},
          "output_type": "execute_result"
        }
      ],
      "source": [
        "filtered_data.duplicated().value_counts()"
      ]
    },
    {
      "cell_type": "markdown",
      "metadata": {
        "id": "MmindJ8GflCg"
      },
      "source": [
        "This gives an indication that out of 8646056 tupples, 9245 tupples are duplicates."
      ]
    },
    {
      "cell_type": "code",
      "execution_count": null,
      "metadata": {
        "colab": {
          "base_uri": "https://localhost:8080/"
        },
        "id": "paKe0I4CfZJz",
        "outputId": "630784d0-eb67-4c0d-babb-e7affce92e35"
      },
      "outputs": [
        {
          "name": "stdout",
          "output_type": "stream",
          "text": [
            "Dataset size after removing duplicates: (8636811, 25)\n"
          ]
        },
        {
          "name": "stderr",
          "output_type": "stream",
          "text": [
            "<ipython-input-9-ca0abfc58edb>:2: SettingWithCopyWarning: \n",
            "A value is trying to be set on a copy of a slice from a DataFrame\n",
            "\n",
            "See the caveats in the documentation: https://pandas.pydata.org/pandas-docs/stable/user_guide/indexing.html#returning-a-view-versus-a-copy\n",
            "  filtered_data.drop_duplicates(inplace=True)\n"
          ]
        }
      ],
      "source": [
        "#Remove all duplicates\n",
        "filtered_data.drop_duplicates(inplace=True)\n",
        "print(\"Dataset size after removing duplicates:\", filtered_data.shape)"
      ]
    },
    {
      "cell_type": "markdown",
      "metadata": {
        "id": "fO8Hz2qxTCED"
      },
      "source": [
        "Removing outlier data from filtered_data"
      ]
    },
    {
      "cell_type": "code",
      "execution_count": null,
      "metadata": {
        "id": "CiqsjKvWJNmB"
      },
      "outputs": [],
      "source": [
        "columns_to_check = ['Distance', 'Haversine', 'Dhour', 'Phour', 'Temp']\n",
        "\n",
        "# Calculate the quartiles and IQR for the specified columns\n",
        "Q1 = filtered_data[columns_to_check].quantile(0.25)\n",
        "Q3 = filtered_data[columns_to_check].quantile(0.75)\n",
        "IQR = Q3 - Q1\n",
        "\n",
        "# Define the lower and upper bounds for outlier detection\n",
        "lower_bound = Q1 - 1.5 * IQR\n",
        "upper_bound = Q3 + 1.5 * IQR\n",
        "\n",
        "# Create a boolean mask for outliers in each column\n",
        "outliers_mask = ((filtered_data[columns_to_check] < lower_bound) | (filtered_data[columns_to_check] > upper_bound)).any(axis=1)\n",
        "\n",
        "# Apply the mask to remove rows with outliers\n",
        "filtered_data = filtered_data[~outliers_mask]\n"
      ]
    },
    {
      "cell_type": "code",
      "execution_count": null,
      "metadata": {
        "colab": {
          "base_uri": "https://localhost:8080/"
        },
        "id": "PHMN7ep1MGE_",
        "outputId": "c19249f3-383c-4b4a-87b3-8133bd3a41fe"
      },
      "outputs": [
        {
          "data": {
            "text/plain": [
              "(7652385, 25)"
            ]
          },
          "execution_count": 20,
          "metadata": {},
          "output_type": "execute_result"
        }
      ],
      "source": [
        "filtered_data.shape"
      ]
    },
    {
      "cell_type": "markdown",
      "metadata": {
        "id": "7Xs6MCmqglF1"
      },
      "source": [
        "# Section 2: Exploratory Data Analysis (EDA)"
      ]
    },
    {
      "cell_type": "markdown",
      "metadata": {
        "id": "7t4n7zT8crFV"
      },
      "source": [
        "Exploratory Data Analysis (EDA) serves as a fundamental and indispensable preliminary step in the realm of data mining for several compelling reasons.\n",
        "\n",
        "*   EDA facilitates a comprehensive understanding of the inherent structure and characteristics of the dataset, allowing us to identify patterns, anomalies, and potential data quality issues. This critical insight guides subsequent data preprocessing and feature engineering efforts, ensuring the dataset's readiness for modeling.\n",
        "*   EDA aids in the selection of relevant variables by revealing their correlations, distributions, and statistical properties, helping us make informed decisions about feature inclusion or exclusion in predictive models.\n",
        "*  Additionally, EDA plays a pivotal role in hypothesis generation, enabling us to formulate meaningful research questions and hypotheses based on initial observations.\n",
        "*  EDA assists in the identification of outliers and extreme values, which can significantly impact model performance and decision-making processes.\n",
        "\n",
        "Overall, EDA acts as the cornerstone of the data mining process, providing the necessary foundation for robust and accurate model development and ultimately enhancing the model's data-driven decision-making capabilities."
      ]
    },
    {
      "cell_type": "code",
      "execution_count": null,
      "metadata": {
        "colab": {
          "base_uri": "https://localhost:8080/",
          "height": 1000
        },
        "id": "x8gCxkS6h0l6",
        "outputId": "deb84692-a10e-4617-fe3b-513c407230a6"
      },
      "outputs": [
        {
          "data": {
            "image/png": "[encoded data removed]",
            "text/plain": [
              "<Figure size 1000x2400 with 6 Axes>"
            ]
          },
          "metadata": {},
          "output_type": "display_data"
        }
      ],
      "source": [
        "columns_to_plot = ['Duration', 'Distance', 'Temp', 'Wind', 'Haversine', 'GroundTemp']\n",
        "\n",
        "num_plots = len(columns_to_plot)\n",
        "fig, axes = plt.subplots(num_plots, 1, figsize=(10, 4 * num_plots))\n",
        "\n",
        "color_palette = sns.color_palette(\"Blues\")\n",
        "\n",
        "for i, column in enumerate(columns_to_plot):\n",
        "    ax = axes[i]\n",
        "    sns.boxplot(x=filtered_data[column], ax=ax, color=color_palette[0], width=0.5, linewidth=1.5)\n",
        "    ax.set_title(f'Box Plot of {column}', fontsize=14, fontweight='bold')\n",
        "    ax.set_xlabel(f'{column} Values', fontsize=12)\n",
        "    ax.set_ylabel('')\n",
        "    ax.grid(axis='y', linestyle='--', alpha=0.7)\n",
        "plt.tight_layout()\n",
        "plt.show()\n"
      ]
    },
    {
      "cell_type": "markdown",
      "metadata": {
        "id": "liyQtdaGhXW2"
      },
      "source": [
        "\n",
        "\n",
        "1.  Duration Boxplot:\n",
        "      *   The box plot for the 'Duration' column shows that the distribution is right-skewed, with a longer tail on the right side.\n",
        "      *   Most trip durations fall within a relatively short range, as indicated by the size of the box.\n",
        "      *   There are some outliers on the longer duration side, suggesting that there are occasional significantly longer trips.\n",
        "\n",
        "2.   Distance Boxplot:\n",
        "      *   The 'Distance' box plot demonstrates a similar right-skewed distribution, with a longer tail on the right side.\n",
        "      *   The majority of bike trips cover relatively short distances, as indicated by the box size.\n",
        "      *   There are some outliers on the longer distance side, indicating a few bike trips that cover a significantly greater distance.\n",
        "\n",
        "3.   Temperature Boxplot:\n",
        "      *   The box plot for 'Temp' reveals the distribution of temperature values during the recorded bike trips.\n",
        "      *   The data appears to be relatively evenly distributed, with no significant skewness.\n",
        "      *   There are no apparent outliers, suggesting that the temperature values are within a reasonable range for bike trips.\n",
        "4.   Wind Boxplot:\n",
        "      *  The 'Wind' box plot illustrates the distribution of wind speed or related metrics during bike trips.\n",
        "      *   The distribution seems to be relatively symmetrical, with no strong skewness in either direction.\n",
        "      *   There are a few outliers on the higher wind speed side, indicating instances of potentially windy conditions during some trips.\n",
        "\n",
        "5.   Haversine Boxplot:\n",
        "      *  The 'Haversine' box plot represents the calculated Haversine distances, which are commonly used to measure distances between two points on Earth's surface.\n",
        "      *   The distribution is right-skewed, with a longer tail on the right side.\n",
        "      *   Most trips have relatively short Haversine distances, suggesting that they are local or within a moderate radius.\n",
        "      *   Some outliers on the longer distance side indicate a few trips covering substantial geographical distances.\n",
        "\n",
        "6.   Ground Temperature Boxplot:\n",
        "      *  The box plot for 'GroundTemp' provides insights into the distribution of ground temperature values.\n",
        "      *   The data appears to be relatively evenly distributed, with no significant skewness.\n",
        "      *   There are no apparent outliers, indicating that ground temperature values are within a reasonable range for bike trips.\n",
        "\n",
        "\n",
        "\n",
        "\n",
        "\n",
        "\n",
        "\n"
      ]
    },
    {
      "cell_type": "code",
      "execution_count": null,
      "metadata": {
        "colab": {
          "base_uri": "https://localhost:8080/",
          "height": 1000
        },
        "id": "sq7a26545_ca",
        "outputId": "b14f60af-3d2c-4c63-b432-bd6b3bb9c9c9"
      },
      "outputs": [
        {
          "data": {
            "image/png": "[encoded data removed]",
            "text/plain": [
              "<Figure size 1800x1500 with 9 Axes>"
            ]
          },
          "metadata": {},
          "output_type": "display_data"
        }
      ],
      "source": [
        "col_names = ['Phour', 'Dhour','Dmonth', 'PDweek', 'Dhour', 'DDweek', 'Pmin', 'Dmin','Pmonth']\n",
        "\n",
        "# Set up subplots with adjusted plot size\n",
        "fig, axes = plt.subplots(3,3, figsize=(18, 15))\n",
        "axes = axes.ravel()\n",
        "\n",
        "for i, col in enumerate(col_names):\n",
        "    sns.countplot(x=filtered_data[col], ax=axes[i])\n",
        "    axes[i].set_title(f'Distribution of {col}')\n",
        "\n",
        "plt.tight_layout()\n",
        "plt.show()"
      ]
    },
    {
      "cell_type": "markdown",
      "metadata": {
        "id": "uY1iVAbpftDN"
      },
      "source": [
        "1.   Pickup hours(Phour) Distribution:\n",
        "        \n",
        "        This plot shows the frequency of bike pickups during different hours of the day. It helps us understand when most bike trips are initiated, which provides insights into peak usage times. It shows that the major pickup and drops are during the office going hours in the morning and evening.\n",
        "2.   Drop-off hours(Dhour) Distribution:\n",
        "\n",
        "        This plot illustrates the frequency of bike drop-offs at different hours. Understanding drop-off patterns can be valuable for analyzing when riders typically complete their journeys. We can see that the plots for Phour and Dhour are almost identical which states that very less trips were left unfinished.\n",
        "3.   Drop-off Month Distribution:\n",
        "\n",
        "        This plot reveals the distribution of bike drop-offs across different months. It can helps to identify the seasonality in bike usage throughout the year. We can see that there are very less number of trips in Jannuary and Februrary as compared to other months.\n",
        "4.   Pickup Week Distribution:\n",
        "\n",
        "        This plot provides insights into the days of the week when bike pickups are most frequent. It is useful for understanding weekly usage patterns.It shows that there is almost uniform distribution throughout the week.\n",
        "\n",
        "5.   Drop-off Week Distribution:\n",
        "\n",
        "        It has similar graph to PDweek.\n",
        "6.   Pickup Minute Distribution:\n",
        "\n",
        "        This plot reveals the frequency of bike pickups at different minutes past the hour.\n",
        "\n",
        "7.   Drop-off Minute Distribution:\n",
        "\n",
        "      It has similar graph to Pickup Minute Distribution.\n",
        "8.   Pickup Month Distribution:\n",
        "\n",
        "        It has similar graph to Drop-off Month Distribution.\n",
        "\n"
      ]
    },
    {
      "cell_type": "code",
      "execution_count": null,
      "metadata": {
        "colab": {
          "base_uri": "https://localhost:8080/",
          "height": 675
        },
        "id": "FOgWKKjIJ8xt",
        "outputId": "ec3dab1d-3bf9-4c43-9816-0e54ca0a50d2"
      },
      "outputs": [
        {
          "data": {
            "image/png": "[encoded data removed]",
            "text/plain": [
              "<Figure size 800x800 with 1 Axes>"
            ]
          },
          "metadata": {},
          "output_type": "display_data"
        }
      ],
      "source": [
        "pmonth_counts = filtered_data['Pmonth'].value_counts()\n",
        "colors = ['#ff9999', '#66b3ff', '#99ff99', '#ffcc99']\n",
        "plt.figure(figsize=(8, 8))\n",
        "plt.pie(pmonth_counts, labels=pmonth_counts.index, autopct='%1.1f%%', colors=colors, startangle=90)\n",
        "plt.title('Distribution of Pmonth')\n",
        "plt.axis('equal')\n",
        "plt.show()\n"
      ]
    },
    {
      "cell_type": "markdown",
      "metadata": {
        "id": "p6TwhP0LlNuL"
      },
      "source": [
        "The above pie chart serves as a valuable visualization tool for depicting the distribution of values within the 'Pmonth' column of our dataset. By utilizing this graphical representation, we can readily discern the proportional representation of each category within the column. We can see except for the cold months the statastics are almost similar for the rest months."
      ]
    },
    {
      "cell_type": "code",
      "execution_count": null,
      "metadata": {
        "id": "dGb7o3SQk0Rp"
      },
      "outputs": [],
      "source": [
        "columns_for_histograms = [\n",
        "    'Duration', 'Distance', 'Dhour', 'Phour', 'PLong',\n",
        "    'PLatd', 'DLong', 'DLatd', 'Snow', 'GroundTemp', 'Dust', 'Pmonth'\n",
        "]"
      ]
    },
    {
      "cell_type": "code",
      "execution_count": null,
      "metadata": {
        "id": "KVrfTn7KyfuY"
      },
      "outputs": [],
      "source": [
        "col_names = ['Duration', 'Distance', 'Wind', 'Temp', 'GroundTemp', 'Humid', 'Precip', 'Snow', 'Dust']\n",
        "\n",
        "fig, axes = plt.subplots(3, 3, figsize=(18, 15))\n",
        "axes = axes.ravel()\n",
        "\n",
        "for i, col in enumerate(col_names):\n",
        "    sns.histplot(filtered_data[col], ax=axes[i], kde=True, bins=20)\n",
        "    axes[i].set_title(f'Distribution of {col}')\n",
        "\n",
        "plt.tight_layout()\n",
        "plt.show()"
      ]
    },
    {
      "cell_type": "markdown",
      "metadata": {
        "id": "CowgqeHXu1ll"
      },
      "source": [
        "\n",
        "\n",
        "1.   Duration Histogram:\n",
        "        \n",
        "        The histogram for \"Duration\" reveals that most bike trips have relatively short durations. The distribution is right-skewed, indicating that a significant number of trips are of shorter duration, while fewer trips have longer durations. This suggests that the majority of bike rides are quick and likely involve short distances.\n",
        "2.   Distance Histogram:\n",
        "\n",
        "        The \"Distance\" histogram demonstrates that bike trips vary in distance. The distribution appears to be slightly right-skewed, suggesting that a considerable number of rides cover shorter distances, while a smaller proportion of trips involve longer distances. This may indicate a mix of short commutes and longer recreational rides.\n",
        "3.   Wind Histogram:\n",
        "\n",
        "        The \"Wind\" histogram illustrates the distribution of wind speeds during bike trips. It appears to be approximately normally distributed, with a peak around the mean wind speed. This suggests that bike rides generally occur under moderate wind conditions, but there is some variability in wind speed.\n",
        "4.   Temperature Histogram:\n",
        "\n",
        "        The \"Temp\" histogram displays the distribution of temperatures during bike trips. It appears to be approximately normally distributed, with a central peak around the mean temperature. This indicates that bike rides typically take place in conditions that are neither too hot nor too cold.\n",
        "\n",
        "\n",
        "5.   Ground Temperature Histogram:\n",
        "\n",
        "        The \"GroundTemp\" histogram represents the distribution of ground temperatures during bike trips. Similar to the temperature distribution, it appears to be approximately normally distributed. This implies that the ground temperature during bike rides is generally within a moderate and comfortable range.\n",
        "6.   Humidity Histogram:\n",
        "\n",
        "        The \"Humid\" histogram shows the distribution of humidity levels during bike trips. It appears to be relatively normally distributed with a central peak, indicating that humidity levels during bike rides tend to cluster around a certain range. This suggests some consistency in humidity conditions.\n",
        "\n",
        "7.   Precipitation Histogram:\n",
        "\n",
        "        The \"Precip\" histogram is a skewed distribution with a peak at lower precipitation levels, indicating that most bike rides occur in dry or lightly rainy conditions.\n",
        "8.   Snow Histogram:\n",
        "\n",
        "        The \"Snow\" histogram shows the distribution of snowfall during bike trips. It appears that the vast majority of trips occur in conditions with no snowfall (or negligible amounts). This suggests that biking is less common in snowy conditions.\n",
        "9. Dust Histogram:\n",
        "\n",
        "     The \"Dust\" histogram represents the distribution of dust levels during bike trips. Similar to precipitation, it is a skewed distribution with a peak at lower dust levels, indicating that most bike rides take place in conditions with minimal dust or particulate matter in the air.\n",
        "\n",
        "\n",
        "\n",
        "\n"
      ]
    },
    {
      "cell_type": "code",
      "execution_count": null,
      "metadata": {
        "id": "AmAw1U9w7wIn"
      },
      "outputs": [],
      "source": [
        "col_names = ['Duration', 'Duration', 'Distance', 'Phour', 'Phour', 'Dhour', 'Dhour', 'Temp', 'Temp', 'Temp', 'Wind', 'Wind', 'Humid', 'Solar']\n",
        "col_names1 = ['Distance', 'Haversine', 'Haversine', 'Wind', 'Humid', 'Wind', 'Humid', 'Solar', 'GroundTemp', 'Dust', 'Humid', 'Solar', 'Solar', 'GroundTemp']\n",
        "\n",
        "if len(col_names) != len(col_names1):\n",
        "    raise ValueError(\"col_names and col_names1 must have the same length\")\n",
        "\n",
        "fig, axes = plt.subplots(3, 5, figsize=(18, 15))\n",
        "axes = axes.ravel()\n",
        "\n",
        "for i in range(len(col_names)):\n",
        "    col = col_names[i]\n",
        "    col2 = col_names1[i]\n",
        "    sns.scatterplot(x=filtered_data[col], y=filtered_data[col2], ax=axes[i], palette=custom_palette)\n",
        "    axes[i].set_title(f'Scatter Plot: {col} vs {col2}')\n",
        "    axes[i].set_xlabel(col)\n",
        "    axes[i].set_ylabel(col2)\n",
        "\n",
        "    axes[i].grid(True, linestyle='--', alpha=0.7)\n",
        "\n",
        "plt.tight_layout()\n",
        "plt.show()"
      ]
    },
    {
      "cell_type": "markdown",
      "metadata": {
        "id": "Tu-0WyyiZcRC"
      },
      "source": [
        "\n",
        "1.  Duration vs. Distance: There seems to be a spread of data points, with no clear linear relationship between these two variables.\n",
        "\n",
        "2.  Duration vs. Phour: There appears to be a wide distribution of data points, indicating that the duration varies across different values of Phour.\n",
        "\n",
        "3.  Duration vs. Dhour: Similar to the Phour scatter plot, there is a variation in duration with different values of Dhour.\n",
        "\n",
        "4.  Duration vs. Temp: It seems that there is no strong linear correlation between duration and temperature.\n",
        "\n",
        "5.   Distance vs. Haversine: These two variables may have some correlation, as there is a somewhat linear trend among the data points.\n",
        "6.  Wind vs. Humid: There doesn't appear to be a strong linear relationship between wind and humidity.\n",
        "7.   Wind vs. Solar: The scatter plot suggests that wind and solar radiation may not have a strong linear correlation.\n",
        "8.   Temp vs. GroundTemp: There appears to be a positive linear relationship between temperature and ground temperature.\n",
        "9.   Temp vs. Dust: There doesn't seem to be a strong linear correlation between temperature and dust levels.\n",
        "10.   Humid vs. Solar: There doesn't appear to be a strong linear correlation between humidity and solar radiation.\n",
        "11.   Solar vs. GroundTemp: The scatter plot suggests a positive linear correlation between solar radiation and ground temperature.\n",
        "\n",
        "\n",
        "\n",
        "\n",
        "\n"
      ]
    },
    {
      "cell_type": "code",
      "execution_count": null,
      "metadata": {
        "id": "MhAVLKUXApVk"
      },
      "outputs": [],
      "source": [
        "sns.set_style(\"whitegrid\")\n",
        "\n",
        "fig, axes = plt.subplots(1, 2, figsize=(12, 6))\n",
        "\n",
        "# Scatter plot for PLong and PLatd\n",
        "axes[0].scatter(filtered_data['PLong'], filtered_data['PLatd'], s=20, alpha=0.7, c='blue', marker='o', edgecolors='k')\n",
        "axes[0].set_xlabel('PLongitude')\n",
        "axes[0].set_ylabel('PLatitude')\n",
        "axes[0].set_title('Pickup Locations')\n",
        "axes[0].grid(True, linestyle='--', alpha=0.5)\n",
        "\n",
        "axes[1].scatter(filtered_data['DLong'], filtered_data['DLatd'], s=20, alpha=0.7, c='green', marker='o', edgecolors='k')\n",
        "axes[1].set_xlabel('DLongitude')\n",
        "axes[1].set_ylabel('DLatitude')\n",
        "axes[1].set_title('Dropoff Locations')\n",
        "axes[1].grid(True, linestyle='--', alpha=0.5)\n",
        "\n",
        "plt.tight_layout()\n",
        "plt.show()"
      ]
    },
    {
      "cell_type": "markdown",
      "metadata": {
        "id": "mYjAhw83BXrG"
      },
      "source": [
        "These scatter plots offer a visual representation of the geographic distribution of pickup and dropoff locations. We can see that the graph is more dense towards the right side. This clusters suggest popular pickup and drop-off points."
      ]
    },
    {
      "cell_type": "markdown",
      "metadata": {
        "id": "zM68vZJyB-r6"
      },
      "source": [
        "\n",
        "*   The heatmap itself will display values within each cell, indicating the strength and direction of the correlation between the corresponding variables. Positive values closer to 1 signify a strong positive correlation, negative values closer to -1 signify a strong negative correlation, and values close to 0 suggest a weak or no correlation between the variables. The visual representation of these correlations helps in identifying patterns and relationships within the dataset\n",
        "*   From this heatmap we can conclude that the duration depends more on distance and haversine than any other factor.\n",
        "\n",
        "*   The temperature, ground temperature and solar variables have higher dependence.\n",
        "\n",
        "\n",
        "\n"
      ]
    },
    {
      "cell_type": "code",
      "execution_count": null,
      "metadata": {
        "id": "gjMIH6S_C6rT"
      },
      "outputs": [],
      "source": [
        "plt.figure(figsize=(18,6))\n",
        "sns.pointplot(x=\"Phour\", y=\"Duration\", data=filtered_data, palette= sns.color_palette(\"Set2\")).set(\n",
        "    title=\"Duration v/s Pickup Hours\");\n"
      ]
    },
    {
      "cell_type": "markdown",
      "metadata": {
        "id": "FPMnrMQqEr2U"
      },
      "source": [
        "Based on the depicted graph, we can discern that the primary period of travel activity occurs between 8:00 AM and 8:00 PM, characterized by an increasing duration trend after 8:00 AM and a subsequent decline after 8:00 PM."
      ]
    },
    {
      "cell_type": "code",
      "execution_count": null,
      "metadata": {
        "id": "LcwQmprLEsQy"
      },
      "outputs": [],
      "source": [
        "plt.figure(figsize=(18,6))\n",
        "sns.pointplot(x = \"Duration\", y = \"Distance\",data=filtered_data, palette= sns.color_palette(\"Set2\")).set(\n",
        "    title=\"Duration v/s Distance\");"
      ]
    },
    {
      "cell_type": "markdown",
      "metadata": {
        "id": "K_FP4IWXFPkm"
      },
      "source": [
        "The graphical representation suggests a positive correlation between duration and distance, indicating that as the duration of travel increases, so does the distance covered. Afterwards it becomes almost constant."
      ]
    },
    {
      "cell_type": "code",
      "execution_count": null,
      "metadata": {
        "colab": {
          "background_save": true
        },
        "id": "7emp0ZxAFP2l",
        "outputId": "fca43d95-a075-4d61-8a06-370a00d4c12c"
      },
      "outputs": [
        {
          "data": {
            "image/png": "[encoded data removed]",
            "text/plain": [
              "<Figure size 1800x600 with 1 Axes>"
            ]
          },
          "metadata": {},
          "output_type": "display_data"
        }
      ],
      "source": [
        "plt.figure(figsize=(18,6))\n",
        "sns.pointplot(x=\"Duration\", y=\"Humid\", data=filtered_data, palette=sns.color_palette(\"Set2\")).set(\n",
        "    title=\"Duration v/s Humidity\");"
      ]
    },
    {
      "cell_type": "markdown",
      "metadata": {
        "id": "VRQ3OVhGFXSn"
      },
      "source": [
        "Based on the depicted graph, it can be deduced that there exists a negative correlation between humidity levels and the duration parameter. Specifically, as the humidity in the atmosphere increases, there is a decrease in the duration variable."
      ]
    },
    {
      "cell_type": "code",
      "execution_count": null,
      "metadata": {
        "id": "scjsjLdFFXfV"
      },
      "outputs": [],
      "source": [
        "plt.figure(figsize=(16,6))\n",
        "sns.pointplot(x=\"Duration\", y=\"Temp\", data=filtered_data, palette=sns.color_palette(\"Set2\")).set(\n",
        "    title=\"Duration v/s Temprature\");"
      ]
    },
    {
      "cell_type": "markdown",
      "metadata": {
        "id": "4HKowQTBGGVS"
      },
      "source": [
        "Based on the data presented in the graph, we can discern a positive correlation between temperature and duration. Specifically, as temperature levels rise, there is a corresponding increase in the duration of the observed phenomenon.\n"
      ]
    },
    {
      "cell_type": "code",
      "execution_count": null,
      "metadata": {
        "id": "6bmu5viSIC4N"
      },
      "outputs": [],
      "source": [
        "plt.figure(figsize=(16,6))\n",
        "sns.pointplot(x=\"Duration\", y=\"Wind\", data=filtered_data, palette=sns.color_palette(\"Set2\")).set(\n",
        "    title=\"Duration v/s Wind\");"
      ]
    },
    {
      "cell_type": "markdown",
      "metadata": {
        "id": "IUb9qtj1INbN"
      },
      "source": [
        "Based on the data depicted in the graph, it can be deduced that there exists a positive correlation between wind conditions and the duration of the observed phenomenon. Specifically, as the wind intensity increases, there is a corresponding rise in the duration of the event being studied."
      ]
    },
    {
      "cell_type": "code",
      "execution_count": null,
      "metadata": {
        "id": "cOddV3V1IYE9"
      },
      "outputs": [],
      "source": [
        "plt.figure(figsize=(26,6))\n",
        "sns.set(style=\"whitegrid\")\n",
        "\n",
        "ax = sns.pointplot(x=\"Duration\", y=\"Precip\", data=filtered_data, palette=sns.color_palette(\"Set2\"))\n",
        "\n",
        "ax.set_title(\"Duration v/s Precipitation (Rain)\")\n",
        "\n",
        "ax.set_ylim(0.005, 0.030)\n",
        "\n",
        "plt.show()"
      ]
    },
    {
      "cell_type": "markdown",
      "metadata": {
        "id": "7-11uLQ-InG8"
      },
      "source": [
        "The graphical analysis suggests a predominantly positive correlation between Duration and Precipitation across the dataset."
      ]
    },
    {
      "cell_type": "code",
      "execution_count": null,
      "metadata": {
        "id": "q2-KZNXyI1YY"
      },
      "outputs": [],
      "source": [
        "plt.figure(figsize=(26,6))\n",
        "sns.set(style=\"whitegrid\")\n",
        "\n",
        "ax = sns.pointplot(x=\"Duration\", y=\"Snow\", data=filtered_data, palette=sns.color_palette(\"Set2\"))\n",
        "\n",
        "ax.set_title(\"Duration v/s Snow\")\n",
        "\n",
        "ax.set_ylim(0.005, 0.020)\n",
        "\n",
        "plt.show()"
      ]
    },
    {
      "cell_type": "markdown",
      "metadata": {
        "id": "uwPHOgaLI7kb"
      },
      "source": [
        "Based on the provided graph, it can be discerned that there exists a negative correlation between snowfall and duration. Specifically, as snowfall increases, the duration decreases."
      ]
    },
    {
      "cell_type": "code",
      "execution_count": null,
      "metadata": {
        "id": "Av16a4pHJCcR"
      },
      "outputs": [],
      "source": [
        "plt.figure(figsize=(16,6))\n",
        "sns.pointplot(x=\"Duration\", y=\"Dust\", data=filtered_data, palette=sns.color_palette(\"Set2\")).set(\n",
        "    title=\"Duration v/s Dust\");"
      ]
    },
    {
      "cell_type": "markdown",
      "metadata": {
        "id": "vhMPvSeYJK6d"
      },
      "source": [
        "Based on the graphical representation provided, it can be inferred that there exists a correlation between dust levels and the duration.\n",
        "\n",
        "Furthermore, the point-graphs illustrate that the duration is notably influenced by various meteorological factors viz Dust, Snow, Precipitation, Wind, Temperature, etc."
      ]
    },
    {
      "cell_type": "code",
      "execution_count": null,
      "metadata": {
        "id": "_UHjWvfxNDRI"
      },
      "outputs": [],
      "source": [
        "plt.figure(figsize=(15,6))\n",
        "sns.barplot(x = 'Pmonth',\n",
        "            y = 'Temp',\n",
        "            data = filtered_data,\n",
        "           palette=sns.color_palette(\"Set2\")).set(\n",
        "    title=\"Pmonth v/s Temperature\");"
      ]
    },
    {
      "cell_type": "markdown",
      "metadata": {
        "id": "V2yTL_A8UOje"
      },
      "source": [
        "The graph tells us about the temperature during the pickup month which will play a key factor in analysing the relationship between temperature with various factors like duration, frequency of trips, etc."
      ]
    },
    {
      "cell_type": "code",
      "execution_count": null,
      "metadata": {
        "id": "Li2NqUlsU-7J"
      },
      "outputs": [],
      "source": [
        "fig, axes = plt.subplots(nrows=1, ncols=2, figsize=(16, 12))\n",
        "\n",
        "# Violin plot of temperature by pickup month\n",
        "sns.violinplot(data=filtered_data, x='Pmonth', y='Temp', ax=axes[0])\n",
        "axes[0].set_xlabel('Pickup Month')\n",
        "axes[0].set_ylabel('Temperature (°F)')\n",
        "axes[0].set_title('Temperature by Pickup Month')\n",
        "\n",
        "\n",
        "mean_temp_by_month = filtered_data.groupby('Pmonth')['Temp'].mean()\n",
        "medians_temp_by_month = filtered_data.groupby('Pmonth')['Temp'].median()\n",
        "for i, (mean, median) in enumerate(zip(mean_temp_by_month, medians_temp_by_month)):\n",
        "    axes[0].text(i, mean-10, f'Mean: {mean:.2f}\\nMedian: {median:.2f}', ha='center', va='top', fontsize=8, color='b')\n",
        "\n",
        "sns.violinplot(data=filtered_data, x='PDweek', y='Humid', ax=axes[1])\n",
        "axes[1].set_xlabel('Pickup Day of the Week')\n",
        "axes[1].set_ylabel('Humidity (%)')\n",
        "axes[1].set_title('Humidity by Pickup Day of the Week')\n",
        "\n",
        "mean_humidity_by_day = filtered_data.groupby('PDweek')['Humid'].mean()\n",
        "medians_humidity_by_day = filtered_data.groupby('PDweek')['Humid'].median()\n",
        "for i, (mean, median) in enumerate(zip(mean_humidity_by_day, medians_humidity_by_day)):\n",
        "    axes[1].text(i, 30, f'Mean: {mean:.2f}\\nMedian: {median:.2f}', ha='center', va='top', fontsize=8, color='b')\n",
        "\n",
        "plt.tight_layout()\n",
        "\n",
        "plt.show()"
      ]
    },
    {
      "cell_type": "markdown",
      "metadata": {
        "id": "kZAuF3OTVKQO"
      },
      "source": [
        "\n",
        "\n",
        "1.   Temperature by Pickup Month:\n",
        "\n",
        "  *   Temperature varies across months, with some months having wider temperature distributions (more variation) than others.\n",
        "  *   The text annotations above the violins provide mean and median temperature values for each month.\n",
        "  *  Some months have a bimodal distribution, indicating distinct temperature patterns within those months.\n",
        "  *   The graph shows the central tendency (mean and median) of temperature along with the distribution shape.\n",
        "\n",
        "2.   Humidity by Pickup Day of the Week:\n",
        "  *   Humidity levels vary across different days of the week, with some days having wider humidity distributions than others.\n",
        "  *   The text annotations above the violins provide mean and median humidity values for each day of the week.\n",
        "  *  Some days exhibit multimodal distributions, indicating different humidity patterns within those days.\n",
        "  *   The graph shows central tendency (mean and median) of humidity for each day, along with the distribution shape.\n",
        "\n",
        "\n"
      ]
    },
    {
      "cell_type": "code",
      "execution_count": null,
      "metadata": {
        "id": "fzGhYpinWVAY"
      },
      "outputs": [],
      "source": [
        "plt.figure(figsize=(12, 6))\n",
        "sns.boxplot(data=filtered_data, x='Pmonth', y='Duration', hue='PDweek')\n",
        "plt.xlabel('Pickup Month')\n",
        "plt.ylabel('Trip Duration (minutes)')\n",
        "plt.title('Box Plot of Trip Duration by Pickup Month and Day of the Week')\n",
        "plt.legend(title='Pickup Day of the Week', loc='upper right')\n",
        "plt.xticks(rotation=45)\n",
        "plt.show()\n"
      ]
    },
    {
      "cell_type": "markdown",
      "metadata": {
        "id": "TE3Xwv-GWhuj"
      },
      "source": [
        "The box plot provides a visual summary of how trip durations are distributed across different months and days of the week, highlighting patterns, variations, and potential factors influencing trip duration.\n",
        "\n",
        "\n",
        "*   The plot suggests that there may be seasonal trends in trip duration. Longer durations during summer months and shorter durations during winter months might be indicative of seasonal travel patterns.\n",
        "*   The spread (interquartile range) within each box and the presence of outliers (individual data points outside the whiskers) indicate the variability in trip durations for both months and days of the week.\n",
        "*   In certain months, like July and August (assuming these are summer months), there are generally longer trip durations, as indicated by the taller upper quartile (top of the box).\n",
        "Other months, such as December, January, and February (assuming these are winter months), tend to have shorter trip durations, as indicated by the shorter boxes.\n",
        "The median trip duration for each month is represented by the horizontal line inside each box.\n",
        "*  Different days of the week have varying trip duration distributions. For instance, weekdays (Monday to Friday) tend to have shorter trip durations compared to weekends (Saturday and Sunday).The color-coding (hue) represents the \"Pickup Day of the Week,\" which provides insights into how trip durations vary based on different days of the week.\n",
        "\n",
        "\n",
        "\n"
      ]
    },
    {
      "cell_type": "code",
      "execution_count": null,
      "metadata": {
        "id": "eLPwRgrVKmrO"
      },
      "outputs": [],
      "source": [
        "correlation_matrix = filtered_data.corr()"
      ]
    },
    {
      "cell_type": "code",
      "execution_count": null,
      "metadata": {
        "id": "ZY5XXz0VNv-B"
      },
      "outputs": [],
      "source": [
        "# Create a heatmap\n",
        "plt.figure(figsize=(20, 10))\n",
        "sns.heatmap(correlation_matrix, cmap='coolwarm', annot=True, fmt=\".2f\")\n",
        "plt.title(\"Correlation Heatmap\")\n",
        "plt.show()"
      ]
    },
    {
      "cell_type": "markdown",
      "metadata": {
        "id": "xEyLW4uS-aa8"
      },
      "source": [
        "The heatmap displayed above illustrates the relationships between variables within the provided dataset. The intensity of color signifies the strength of correlation, with darker colors indicating higher correlation values.\n",
        "\n",
        "The following code extracts and presents the absolute correlation coefficients, allowing us to identify the most relevant variables for inclusion in our modeling process."
      ]
    },
    {
      "cell_type": "code",
      "execution_count": null,
      "metadata": {
        "id": "Uvuqg6ZtecQd"
      },
      "outputs": [],
      "source": [
        "absolute_correlations = correlation_matrix['Duration'].abs().drop('Duration')\n",
        "\n",
        "# Sort the correlations in descending order\n",
        "sorted_correlations = absolute_correlations.sort_values(ascending=False)\n",
        "\n",
        "# Display the sorted correlations\n",
        "print(sorted_correlations)"
      ]
    },
    {
      "cell_type": "code",
      "execution_count": null,
      "metadata": {
        "id": "AdrMlm6jVriE"
      },
      "outputs": [],
      "source": [
        "upper_triangular = np.triu(correlation_matrix, k=1)\n",
        "\n",
        "# Define a threshold for correlation magnitude\n",
        "threshold = 0.2 # You can adjust this threshold as needed\n",
        "\n",
        "# Get the indices of correlations above the threshold\n",
        "significant_indices = np.where(np.abs(upper_triangular) >= threshold)\n",
        "\n",
        "# Get the column names\n",
        "column_names = filtered_data.columns\n",
        "\n",
        "# Print the significant correlations and their corresponding column names\n",
        "for row, col in zip(*significant_indices):\n",
        "    if row != col:\n",
        "        column1_name = column_names[row]\n",
        "        column2_name = column_names[col]\n",
        "        correlation = correlation_matrix.iloc[row, col]\n",
        "        sign = \"Positive\" if correlation >= 0 else \"Negative\"\n",
        "        print(f\"{sign} correlation between columns '{column1_name}' and '{column2_name}': {abs(correlation):.2f}\")\n"
      ]
    },
    {
      "cell_type": "markdown",
      "metadata": {
        "id": "YDz3-YmFa9oz"
      },
      "source": [
        "# Section 3: Modelling"
      ]
    },
    {
      "cell_type": "markdown",
      "metadata": {
        "id": "6Mc1rL64RFXp"
      },
      "source": [
        "The preceding data preprocessing and outlier removal procedures have laid a solid foundation for our analytical endeavors. The next phase of our project involves the application of various predictive models to gain deeper insights into the dataset and ascertain the most suitable model for our predictive task. Our primary objective is to employ these models to forecast future trip durations based on historical data patterns, thus facilitating better decision-making. To this end, we have implemented a diverse set of regression models, each offering distinct advantages and considerations:\n",
        "\n",
        "1. **Linear Regression**: This classic model serves as a baseline, capturing linear relationships within the data.\n",
        "\n",
        "2. **Ridge Regression**: Employing L2 regularization, this model mitigates potential overfitting issues and enhances model robustness.\n",
        "\n",
        "3. **Lasso Regression**: Utilizing L1 regularization, Lasso helps with feature selection and contributes to a more interpretable model.\n",
        "\n",
        "4. **ElasticNet Regression**: Combining L1 and L2 regularization, this model strikes a balance between feature selection and model stability.\n",
        "\n",
        "5. **XGBoost Regressor**: A powerful ensemble technique, XGBoost excels at handling complex relationships and achieving high predictive accuracy.\n",
        "\n",
        "6. **Random Forest**: This ensemble model leverages decision trees to capture nonlinear relationships and enhance predictive performance.\n",
        "\n",
        "7. **LGBM Regressor**: Light Gradient Boosting Machine is known for its efficiency and speed, making it a strong contender for modeling large datasets while maintaining accuracy.\n",
        "\n",
        "Our approach encompasses a comprehensive evaluation of these models, considering their strengths and limitations, with the ultimate aim of identifying the most effective model that aligns with the data characteristics and can provide reliable trip duration predictions for future occurrences. This modeling phase represents a crucial step in harnessing the full potential of our dataset for informed decision-making.\n",
        "\n",
        "\n"
      ]
    },
    {
      "cell_type": "markdown",
      "metadata": {
        "id": "0LTuVPcIgaKT"
      },
      "source": [
        "### Problem Solved : Predicting Duration of the trip"
      ]
    },
    {
      "cell_type": "code",
      "execution_count": null,
      "metadata": {
        "colab": {
          "base_uri": "https://localhost:8080/",
          "height": 300
        },
        "id": "eAPGxeVaVoYP",
        "outputId": "8ca146ea-ae3a-4d4c-a574-e788646aae3c"
      },
      "outputs": [
        {
          "data": {
            "text/html": [
              "\n",
              "  <div id=\"df-bb3838e2-bcd1-4e5d-a10a-3f28fe36c5c1\" class=\"colab-df-container\">\n",
              "    <div>\n",
              "<style scoped>\n",
              "    .dataframe tbody tr th:only-of-type {\n",
              "        vertical-align: middle;\n",
              "    }\n",
              "\n",
              "    .dataframe tbody tr th {\n",
              "        vertical-align: top;\n",
              "    }\n",
              "\n",
              "    .dataframe thead th {\n",
              "        text-align: right;\n",
              "    }\n",
              "</style>\n",
              "<table border=\"1\" class=\"dataframe\">\n",
              "  <thead>\n",
              "    <tr style=\"text-align: right;\">\n",
              "      <th></th>\n",
              "      <th>Duration</th>\n",
              "      <th>Distance</th>\n",
              "      <th>Haversine</th>\n",
              "      <th>Phour</th>\n",
              "      <th>Temp</th>\n",
              "    </tr>\n",
              "  </thead>\n",
              "  <tbody>\n",
              "    <tr>\n",
              "      <th>count</th>\n",
              "      <td>7.652385e+06</td>\n",
              "      <td>7.652385e+06</td>\n",
              "      <td>7.652385e+06</td>\n",
              "      <td>7.652385e+06</td>\n",
              "      <td>7.652385e+06</td>\n",
              "    </tr>\n",
              "    <tr>\n",
              "      <th>mean</th>\n",
              "      <td>1.864165e+01</td>\n",
              "      <td>2.492397e+03</td>\n",
              "      <td>1.618902e+00</td>\n",
              "      <td>1.412584e+01</td>\n",
              "      <td>1.842107e+01</td>\n",
              "    </tr>\n",
              "    <tr>\n",
              "      <th>std</th>\n",
              "      <td>1.777611e+01</td>\n",
              "      <td>1.798729e+03</td>\n",
              "      <td>1.085104e+00</td>\n",
              "      <td>6.354668e+00</td>\n",
              "      <td>9.357678e+00</td>\n",
              "    </tr>\n",
              "    <tr>\n",
              "      <th>min</th>\n",
              "      <td>1.000000e+00</td>\n",
              "      <td>1.000000e+00</td>\n",
              "      <td>2.088959e-02</td>\n",
              "      <td>0.000000e+00</td>\n",
              "      <td>-8.000000e+00</td>\n",
              "    </tr>\n",
              "    <tr>\n",
              "      <th>25%</th>\n",
              "      <td>7.000000e+00</td>\n",
              "      <td>1.130000e+03</td>\n",
              "      <td>7.991687e-01</td>\n",
              "      <td>9.000000e+00</td>\n",
              "      <td>1.180000e+01</td>\n",
              "    </tr>\n",
              "    <tr>\n",
              "      <th>50%</th>\n",
              "      <td>1.300000e+01</td>\n",
              "      <td>1.930000e+03</td>\n",
              "      <td>1.300589e+00</td>\n",
              "      <td>1.600000e+01</td>\n",
              "      <td>1.980000e+01</td>\n",
              "    </tr>\n",
              "    <tr>\n",
              "      <th>75%</th>\n",
              "      <td>2.400000e+01</td>\n",
              "      <td>3.370000e+03</td>\n",
              "      <td>2.162188e+00</td>\n",
              "      <td>1.900000e+01</td>\n",
              "      <td>2.540000e+01</td>\n",
              "    </tr>\n",
              "    <tr>\n",
              "      <th>max</th>\n",
              "      <td>1.190000e+02</td>\n",
              "      <td>8.920000e+03</td>\n",
              "      <td>5.150119e+00</td>\n",
              "      <td>2.300000e+01</td>\n",
              "      <td>3.940000e+01</td>\n",
              "    </tr>\n",
              "  </tbody>\n",
              "</table>\n",
              "</div>\n",
              "    <div class=\"colab-df-buttons\">\n",
              "\n",
              "  <div class=\"colab-df-container\">\n",
              "    <button class=\"colab-df-convert\" onclick=\"convertToInteractive('df-bb3838e2-bcd1-4e5d-a10a-3f28fe36c5c1')\"\n",
              "            title=\"Convert this dataframe to an interactive table.\"\n",
              "            style=\"display:none;\">\n",
              "\n",
              "  <svg xmlns=\"http://www.w3.org/2000/svg\" height=\"24px\" viewBox=\"0 -960 960 960\">\n",
              "    <path d=\"M120-120v-720h720v720H120Zm60-500h600v-160H180v160Zm220 220h160v-160H400v160Zm0 220h160v-160H400v160ZM180-400h160v-160H180v160Zm440 0h160v-160H620v160ZM180-180h160v-160H180v160Zm440 0h160v-160H620v160Z\"/>\n",
              "  </svg>\n",
              "    </button>\n",
              "\n",
              "  <style>\n",
              "    .colab-df-container {\n",
              "      display:flex;\n",
              "      gap: 12px;\n",
              "    }\n",
              "\n",
              "    .colab-df-convert {\n",
              "      background-color: #E8F0FE;\n",
              "      border: none;\n",
              "      border-radius: 50%;\n",
              "      cursor: pointer;\n",
              "      display: none;\n",
              "      fill: #1967D2;\n",
              "      height: 32px;\n",
              "      padding: 0 0 0 0;\n",
              "      width: 32px;\n",
              "    }\n",
              "\n",
              "    .colab-df-convert:hover {\n",
              "      background-color: #E2EBFA;\n",
              "      box-shadow: 0px 1px 2px rgba(60, 64, 67, 0.3), 0px 1px 3px 1px rgba(60, 64, 67, 0.15);\n",
              "      fill: #174EA6;\n",
              "    }\n",
              "\n",
              "    .colab-df-buttons div {\n",
              "      margin-bottom: 4px;\n",
              "    }\n",
              "\n",
              "    [theme=dark] .colab-df-convert {\n",
              "      background-color: #3B4455;\n",
              "      fill: #D2E3FC;\n",
              "    }\n",
              "\n",
              "    [theme=dark] .colab-df-convert:hover {\n",
              "      background-color: #434B5C;\n",
              "      box-shadow: 0px 1px 3px 1px rgba(0, 0, 0, 0.15);\n",
              "      filter: drop-shadow(0px 1px 2px rgba(0, 0, 0, 0.3));\n",
              "      fill: #FFFFFF;\n",
              "    }\n",
              "  </style>\n",
              "\n",
              "    <script>\n",
              "      const buttonEl =\n",
              "        document.querySelector('#df-bb3838e2-bcd1-4e5d-a10a-3f28fe36c5c1 button.colab-df-convert');\n",
              "      buttonEl.style.display =\n",
              "        google.colab.kernel.accessAllowed ? 'block' : 'none';\n",
              "\n",
              "      async function convertToInteractive(key) {\n",
              "        const element = document.querySelector('#df-bb3838e2-bcd1-4e5d-a10a-3f28fe36c5c1');\n",
              "        const dataTable =\n",
              "          await google.colab.kernel.invokeFunction('convertToInteractive',\n",
              "                                                    [key], {});\n",
              "        if (!dataTable) return;\n",
              "\n",
              "        const docLinkHtml = 'Like what you see? Visit the ' +\n",
              "          '<a target=\"_blank\" href=https://colab.research.google.com/notebooks/data_table.ipynb>data table notebook</a>'\n",
              "          + ' to learn more about interactive tables.';\n",
              "        element.innerHTML = '';\n",
              "        dataTable['output_type'] = 'display_data';\n",
              "        await google.colab.output.renderOutput(dataTable, element);\n",
              "        const docLink = document.createElement('div');\n",
              "        docLink.innerHTML = docLinkHtml;\n",
              "        element.appendChild(docLink);\n",
              "      }\n",
              "    </script>\n",
              "  </div>\n",
              "\n",
              "\n",
              "<div id=\"df-2460873b-2411-42ec-b670-28e7d8ff6eca\">\n",
              "  <button class=\"colab-df-quickchart\" onclick=\"quickchart('df-2460873b-2411-42ec-b670-28e7d8ff6eca')\"\n",
              "            title=\"Suggest charts.\"\n",
              "            style=\"display:none;\">\n",
              "\n",
              "<svg xmlns=\"http://www.w3.org/2000/svg\" height=\"24px\"viewBox=\"0 0 24 24\"\n",
              "     width=\"24px\">\n",
              "    <g>\n",
              "        <path d=\"M19 3H5c-1.1 0-2 .9-2 2v14c0 1.1.9 2 2 2h14c1.1 0 2-.9 2-2V5c0-1.1-.9-2-2-2zM9 17H7v-7h2v7zm4 0h-2V7h2v10zm4 0h-2v-4h2v4z\"/>\n",
              "    </g>\n",
              "</svg>\n",
              "  </button>\n",
              "\n",
              "<style>\n",
              "  .colab-df-quickchart {\n",
              "      --bg-color: #E8F0FE;\n",
              "      --fill-color: #1967D2;\n",
              "      --hover-bg-color: #E2EBFA;\n",
              "      --hover-fill-color: #174EA6;\n",
              "      --disabled-fill-color: #AAA;\n",
              "      --disabled-bg-color: #DDD;\n",
              "  }\n",
              "\n",
              "  [theme=dark] .colab-df-quickchart {\n",
              "      --bg-color: #3B4455;\n",
              "      --fill-color: #D2E3FC;\n",
              "      --hover-bg-color: #434B5C;\n",
              "      --hover-fill-color: #FFFFFF;\n",
              "      --disabled-bg-color: #3B4455;\n",
              "      --disabled-fill-color: #666;\n",
              "  }\n",
              "\n",
              "  .colab-df-quickchart {\n",
              "    background-color: var(--bg-color);\n",
              "    border: none;\n",
              "    border-radius: 50%;\n",
              "    cursor: pointer;\n",
              "    display: none;\n",
              "    fill: var(--fill-color);\n",
              "    height: 32px;\n",
              "    padding: 0;\n",
              "    width: 32px;\n",
              "  }\n",
              "\n",
              "  .colab-df-quickchart:hover {\n",
              "    background-color: var(--hover-bg-color);\n",
              "    box-shadow: 0 1px 2px rgba(60, 64, 67, 0.3), 0 1px 3px 1px rgba(60, 64, 67, 0.15);\n",
              "    fill: var(--button-hover-fill-color);\n",
              "  }\n",
              "\n",
              "  .colab-df-quickchart-complete:disabled,\n",
              "  .colab-df-quickchart-complete:disabled:hover {\n",
              "    background-color: var(--disabled-bg-color);\n",
              "    fill: var(--disabled-fill-color);\n",
              "    box-shadow: none;\n",
              "  }\n",
              "\n",
              "  .colab-df-spinner {\n",
              "    border: 2px solid var(--fill-color);\n",
              "    border-color: transparent;\n",
              "    border-bottom-color: var(--fill-color);\n",
              "    animation:\n",
              "      spin 1s steps(1) infinite;\n",
              "  }\n",
              "\n",
              "  @keyframes spin {\n",
              "    0% {\n",
              "      border-color: transparent;\n",
              "      border-bottom-color: var(--fill-color);\n",
              "      border-left-color: var(--fill-color);\n",
              "    }\n",
              "    20% {\n",
              "      border-color: transparent;\n",
              "      border-left-color: var(--fill-color);\n",
              "      border-top-color: var(--fill-color);\n",
              "    }\n",
              "    30% {\n",
              "      border-color: transparent;\n",
              "      border-left-color: var(--fill-color);\n",
              "      border-top-color: var(--fill-color);\n",
              "      border-right-color: var(--fill-color);\n",
              "    }\n",
              "    40% {\n",
              "      border-color: transparent;\n",
              "      border-right-color: var(--fill-color);\n",
              "      border-top-color: var(--fill-color);\n",
              "    }\n",
              "    60% {\n",
              "      border-color: transparent;\n",
              "      border-right-color: var(--fill-color);\n",
              "    }\n",
              "    80% {\n",
              "      border-color: transparent;\n",
              "      border-right-color: var(--fill-color);\n",
              "      border-bottom-color: var(--fill-color);\n",
              "    }\n",
              "    90% {\n",
              "      border-color: transparent;\n",
              "      border-bottom-color: var(--fill-color);\n",
              "    }\n",
              "  }\n",
              "</style>\n",
              "\n",
              "  <script>\n",
              "    async function quickchart(key) {\n",
              "      const quickchartButtonEl =\n",
              "        document.querySelector('#' + key + ' button');\n",
              "      quickchartButtonEl.disabled = true;  // To prevent multiple clicks.\n",
              "      quickchartButtonEl.classList.add('colab-df-spinner');\n",
              "      try {\n",
              "        const charts = await google.colab.kernel.invokeFunction(\n",
              "            'suggestCharts', [key], {});\n",
              "      } catch (error) {\n",
              "        console.error('Error during call to suggestCharts:', error);\n",
              "      }\n",
              "      quickchartButtonEl.classList.remove('colab-df-spinner');\n",
              "      quickchartButtonEl.classList.add('colab-df-quickchart-complete');\n",
              "    }\n",
              "    (() => {\n",
              "      let quickchartButtonEl =\n",
              "        document.querySelector('#df-2460873b-2411-42ec-b670-28e7d8ff6eca button');\n",
              "      quickchartButtonEl.style.display =\n",
              "        google.colab.kernel.accessAllowed ? 'block' : 'none';\n",
              "    })();\n",
              "  </script>\n",
              "</div>\n",
              "    </div>\n",
              "  </div>\n"
            ],
            "text/plain": [
              "           Duration      Distance     Haversine         Phour          Temp\n",
              "count  7.652385e+06  7.652385e+06  7.652385e+06  7.652385e+06  7.652385e+06\n",
              "mean   1.864165e+01  2.492397e+03  1.618902e+00  1.412584e+01  1.842107e+01\n",
              "std    1.777611e+01  1.798729e+03  1.085104e+00  6.354668e+00  9.357678e+00\n",
              "min    1.000000e+00  1.000000e+00  2.088959e-02  0.000000e+00 -8.000000e+00\n",
              "25%    7.000000e+00  1.130000e+03  7.991687e-01  9.000000e+00  1.180000e+01\n",
              "50%    1.300000e+01  1.930000e+03  1.300589e+00  1.600000e+01  1.980000e+01\n",
              "75%    2.400000e+01  3.370000e+03  2.162188e+00  1.900000e+01  2.540000e+01\n",
              "max    1.190000e+02  8.920000e+03  5.150119e+00  2.300000e+01  3.940000e+01"
            ]
          },
          "execution_count": 11,
          "metadata": {},
          "output_type": "execute_result"
        }
      ],
      "source": [
        "df = filtered_data.drop([\n",
        "    'GroundTemp',\n",
        "    'Humid',\n",
        "    'DDweek',\n",
        "    'PDweek',\n",
        "    'Wind',\n",
        "    'Solar',\n",
        "    'PLong',\n",
        "    'DLong',\n",
        "    'Pmonth',\n",
        "    'Dhour',\n",
        "    'Dmonth',\n",
        "    'Dust',\n",
        "    'Snow',\n",
        "    'Dmin',\n",
        "    'Precip',\n",
        "    'Dday',\n",
        "    'Pday',\n",
        "    'Pmin',\n",
        "    'PLatd',\n",
        "    'DLatd'\n",
        "], axis=1)\n",
        "\n",
        "df.describe()"
      ]
    },
    {
      "cell_type": "code",
      "execution_count": null,
      "metadata": {
        "id": "vVA0Yc_6ZlDG"
      },
      "outputs": [],
      "source": [
        "from sklearn.model_selection import train_test_split, cross_validate, cross_val_score, GridSearchCV\n",
        "from sklearn import preprocessing"
      ]
    },
    {
      "cell_type": "code",
      "execution_count": null,
      "metadata": {
        "colab": {
          "base_uri": "https://localhost:8080/"
        },
        "id": "i9VhxetFaw4V",
        "outputId": "7a7aca76-e5dd-4c8d-b43a-5a339c8b689d"
      },
      "outputs": [
        {
          "name": "stdout",
          "output_type": "stream",
          "text": [
            "(4591431, 4) (4591431,)\n",
            "(3060954, 4) (3060954,)\n"
          ]
        }
      ],
      "source": [
        "X_train,X_test, y_train, y_test = train_test_split(df.drop(columns=['Duration']), df['Duration'], test_size=0.4, random_state=43)\n",
        "print(X_train.shape, y_train.shape)\n",
        "print(X_test.shape, y_test.shape)"
      ]
    },
    {
      "cell_type": "code",
      "execution_count": null,
      "metadata": {
        "colab": {
          "base_uri": "https://localhost:8080/"
        },
        "id": "S7uw3-rQa6br",
        "outputId": "bee08496-a56b-4165-926e-c4d9867d80a2"
      },
      "outputs": [
        {
          "data": {
            "text/plain": [
              "((4591431, 4), (3060954, 4))"
            ]
          },
          "execution_count": 14,
          "metadata": {},
          "output_type": "execute_result"
        }
      ],
      "source": [
        "size_scaler = preprocessing.StandardScaler().fit(X_train)\n",
        "X_train_scaled = size_scaler.transform(X_train)\n",
        "X_test_scaled = size_scaler.transform(X_test)\n",
        "X_train_scaled.shape, X_test_scaled.shape"
      ]
    },
    {
      "cell_type": "code",
      "execution_count": null,
      "metadata": {
        "id": "5HeBAVuucJTZ"
      },
      "outputs": [],
      "source": [
        "from sklearn.metrics import mean_squared_error, mean_absolute_error\n",
        "\n",
        "# Models-------------------------\n",
        "from sklearn.linear_model import LinearRegression\n",
        "from sklearn.ensemble import RandomForestRegressor\n",
        "from sklearn.ensemble import GradientBoostingRegressor\n",
        "from xgboost import XGBRegressor\n",
        "from lightgbm import LGBMRegressor"
      ]
    },
    {
      "cell_type": "code",
      "execution_count": null,
      "metadata": {
        "id": "bY4L5pMHD1RZ"
      },
      "outputs": [],
      "source": [
        "from sklearn.linear_model import LinearRegression, Ridge, Lasso, ElasticNet\n",
        "\n",
        "model_dict = {\n",
        "    'LinearRegression': {\"model\": LinearRegression(), \"params\": {}},\n",
        "    'RidgeRegression': {\"model\": Ridge(), \"params\": {'alpha': [0.1, 1.0, 10.0]}},\n",
        "    'LassoRegression': {\"model\": Lasso(), \"params\": {'alpha': [0.1, 1.0, 10.0]}},\n",
        "    'ElasticNetRegression': {\"model\": ElasticNet(), \"params\": {'alpha': [0.1, 1.0, 10.0], 'l1_ratio': [0.99]}},\n",
        "}\n"
      ]
    },
    {
      "cell_type": "markdown",
      "metadata": {
        "id": "9b6EFy2eUZid"
      },
      "source": [
        "Incase of the Regression method namely Linear Regression, Ridge Regression, Lasso Regression, and ElasticNet Regression. Our analysis encompasses the entirety of the dataset, with all rows being considered for model training and evaluation. Furthermore, we have conducted feature selection by including only the top 5 correlated columns, which have been identified as pivotal factors in influencing and predicting trip duration. This approach ensures that our regression models are fine-tuned to focus on the most influential variables, enhancing their predictive accuracy and relevance in determining trip duration, a critical component of our analysis."
      ]
    },
    {
      "cell_type": "code",
      "execution_count": null,
      "metadata": {
        "id": "buIf8_xZD2C8"
      },
      "outputs": [],
      "source": [
        "def eval_models():\n",
        "    model_results = pd.DataFrame()\n",
        "    model_results['Train_RMSE'] = None\n",
        "    model_results['Test_RMSE'] = None\n",
        "    model_results['Train_MAE'] = None\n",
        "    model_results['Test_MAE'] = None\n",
        "    model_results['best_params'] = None\n",
        "\n",
        "    best_reg_model_ours = None\n",
        "    best_test_score = math.inf\n",
        "\n",
        "    for model_name, reg_model in model_dict.items():\n",
        "        classifier = GridSearchCV(reg_model['model'], reg_model['params'], n_jobs=20, verbose=0)\n",
        "\n",
        "        classifier.fit(X_train_scaled, list(y_train))\n",
        "        best_model = classifier.best_estimator_\n",
        "\n",
        "        y_train_predicted = best_model.predict(X_train_scaled)\n",
        "        train_rmse = np.sqrt(mean_squared_error(list(y_train), y_train_predicted))\n",
        "        train_mae = mean_absolute_error(list(y_train), y_train_predicted)\n",
        "\n",
        "        print(model_name, train_rmse, classifier.best_params_)\n",
        "        print(\"Score Train: \",best_model.score(X_train_scaled,y_train))\n",
        "        print(\"Score Test: \",best_model.score(X_test_scaled,y_test))\n",
        "\n",
        "        y_predicted = best_model.predict(X_test_scaled)\n",
        "        test_rmse = np.sqrt(mean_squared_error(list(y_test), y_predicted))\n",
        "        test_mae = mean_absolute_error(list(y_test), y_predicted)\n",
        "\n",
        "        if test_rmse < best_test_score:\n",
        "            best_test_score = test_rmse\n",
        "            best_reg_model_ours = best_model\n",
        "\n",
        "        model_results.loc[model_name, ['Train_RMSE', 'Test_RMSE', 'Train_MAE', 'Test_MAE', 'best_params']] = [train_rmse, test_rmse, train_mae, test_mae, classifier.best_params_]\n",
        "\n",
        "    print(\"Best model: \", best_model)\n",
        "    # plot the prediction errors using the best model\n",
        "    y_predicted = best_model.predict(X_test_scaled)\n",
        "    plt.plot(list(y_test) - y_predicted, marker='o', linestyle='')\n",
        "\n",
        "    return model_results\n"
      ]
    },
    {
      "cell_type": "code",
      "execution_count": null,
      "metadata": {
        "colab": {
          "base_uri": "https://localhost:8080/",
          "height": 656
        },
        "id": "g-ki-F5gD78x",
        "outputId": "bfbbf3c2-7182-4a82-fc2b-e3d03d34f459"
      },
      "outputs": [
        {
          "name": "stdout",
          "output_type": "stream",
          "text": [
            "LinearRegression 11.855521938168161 {}\n",
            "Score Train:  0.5390777259749155\n",
            "Score Test:  0.5452020654620975\n",
            "RidgeRegression 11.855522096389498 {'alpha': 1.0}\n",
            "Score Train:  0.5390777136721693\n",
            "Score Test:  0.5452014063107808\n",
            "LassoRegression 11.874986175353959 {'alpha': 0.1}\n",
            "Score Train:  0.5375630115393397\n",
            "Score Test:  0.5436278289139513\n",
            "ElasticNetRegression 11.87562488381221 {'alpha': 0.1, 'l1_ratio': 0.99}\n",
            "Score Train:  0.5375132648946257\n",
            "Score Test:  0.5435845928816854\n",
            "Best model:  ElasticNet(alpha=0.1, l1_ratio=0.99)\n"
          ]
        },
        {
          "data": {
            "image/png": "[encoded data removed]",
            "text/plain": [
              "<Figure size 640x480 with 1 Axes>"
            ]
          },
          "metadata": {},
          "output_type": "display_data"
        }
      ],
      "source": [
        "model_results = eval_models()"
      ]
    },
    {
      "cell_type": "code",
      "execution_count": null,
      "metadata": {
        "id": "Kmj1kgRRImNu"
      },
      "outputs": [],
      "source": [
        "model_results"
      ]
    },
    {
      "cell_type": "markdown",
      "metadata": {
        "id": "Ql9zdKgVWMR6"
      },
      "source": [
        "After a thorough evaluation of the performance of the four distinct regression models employed in our analysis, we have determined that the ElasticNet Regression model demonstrates the most favorable fit for our dataset. This model exhibits a notable level of accuracy, approximately ranging between 52% and 53%. This conclusion underscores the robustness and suitability of the ElasticNet Regression approach in capturing the underlying relationships within our dataset, affirming its efficacy."
      ]
    },
    {
      "cell_type": "code",
      "execution_count": null,
      "metadata": {
        "id": "_6JCckyIoRTK"
      },
      "outputs": [],
      "source": [
        "feature_columns = ['Distance','Duration', 'PLong', 'DLong', 'Haversine', 'Pmonth', 'Phour', 'PDweek', 'Dmonth', 'Dhour', 'DDweek', 'Temp', 'Wind', 'Humid', 'Solar', 'GroundTemp']\n",
        "df = filtered_data[feature_columns]\n",
        "df.describe()"
      ]
    },
    {
      "cell_type": "code",
      "execution_count": null,
      "metadata": {
        "id": "6ZTKPfwXpY4a"
      },
      "outputs": [],
      "source": [
        "df = df.iloc[0:1000000]\n",
        "df.shape"
      ]
    },
    {
      "cell_type": "markdown",
      "metadata": {
        "id": "w69G-FXFuVTq"
      },
      "source": [
        "Reduced the data objects to 10 lac as there are 16 features that will be used for training models other than the LinearRegression."
      ]
    },
    {
      "cell_type": "code",
      "execution_count": null,
      "metadata": {
        "id": "iYwzi3HhpbXI"
      },
      "outputs": [],
      "source": [
        "X_train,X_test, y_train, y_test = train_test_split(df.drop(columns=['Duration']), df['Duration'], test_size=0.3, random_state=43)\n",
        "print(X_train.shape, y_train.shape)\n",
        "print(X_test.shape, y_test.shape)"
      ]
    },
    {
      "cell_type": "markdown",
      "metadata": {
        "id": "r2-G_6fIYrUF"
      },
      "source": [
        "In our pursuit of enhancing the model's efficiency, we have undertaken an exploration of alternative regression models, specifically the Random Forest Regressor, XGBoost Regressor, and LightGBM Regressor. The objective is to mitigate the risk of overfitting, a crucial concern in predictive modeling. To achieve this, we have partitioned our dataset into two distinct subsets: the training dataset, encompassing 70% of the data, and the test dataset, which accounts for the remaining 30%. This partitioning strategy preserves the integrity of our dataset's features. This rigorous division not only allows us to train our models effectively but also serves as a robust mechanism to evaluate their performance and generalization capabilities."
      ]
    },
    {
      "cell_type": "code",
      "execution_count": null,
      "metadata": {
        "id": "Z7vl5KGhCSQl"
      },
      "outputs": [],
      "source": [
        "size_scaler = preprocessing.StandardScaler().fit(X_train)\n",
        "X_train_scaled = size_scaler.transform(X_train)\n",
        "X_test_scaled = size_scaler.transform(X_test)\n",
        "X_train_scaled.shape, X_test_scaled.shape\n"
      ]
    },
    {
      "cell_type": "code",
      "execution_count": null,
      "metadata": {
        "colab": {
          "base_uri": "https://localhost:8080/",
          "height": 74
        },
        "id": "muZN22c6pjhx",
        "outputId": "fe54986b-8587-4905-f51f-eef403d08479"
      },
      "outputs": [
        {
          "data": {
            "text/html": [
              "<style>#sk-container-id-2 {color: black;background-color: white;}#sk-container-id-2 pre{padding: 0;}#sk-container-id-2 div.sk-toggleable {background-color: white;}#sk-container-id-2 label.sk-toggleable__label {cursor: pointer;display: block;width: 100%;margin-bottom: 0;padding: 0.3em;box-sizing: border-box;text-align: center;}#sk-container-id-2 label.sk-toggleable__label-arrow:before {content: \"▸\";float: left;margin-right: 0.25em;color: #696969;}#sk-container-id-2 label.sk-toggleable__label-arrow:hover:before {color: black;}#sk-container-id-2 div.sk-estimator:hover label.sk-toggleable__label-arrow:before {color: black;}#sk-container-id-2 div.sk-toggleable__content {max-height: 0;max-width: 0;overflow: hidden;text-align: left;background-color: #f0f8ff;}#sk-container-id-2 div.sk-toggleable__content pre {margin: 0.2em;color: black;border-radius: 0.25em;background-color: #f0f8ff;}#sk-container-id-2 input.sk-toggleable__control:checked~div.sk-toggleable__content {max-height: 200px;max-width: 100%;overflow: auto;}#sk-container-id-2 input.sk-toggleable__control:checked~label.sk-toggleable__label-arrow:before {content: \"▾\";}#sk-container-id-2 div.sk-estimator input.sk-toggleable__control:checked~label.sk-toggleable__label {background-color: #d4ebff;}#sk-container-id-2 div.sk-label input.sk-toggleable__control:checked~label.sk-toggleable__label {background-color: #d4ebff;}#sk-container-id-2 input.sk-hidden--visually {border: 0;clip: rect(1px 1px 1px 1px);clip: rect(1px, 1px, 1px, 1px);height: 1px;margin: -1px;overflow: hidden;padding: 0;position: absolute;width: 1px;}#sk-container-id-2 div.sk-estimator {font-family: monospace;background-color: #f0f8ff;border: 1px dotted black;border-radius: 0.25em;box-sizing: border-box;margin-bottom: 0.5em;}#sk-container-id-2 div.sk-estimator:hover {background-color: #d4ebff;}#sk-container-id-2 div.sk-parallel-item::after {content: \"\";width: 100%;border-bottom: 1px solid gray;flex-grow: 1;}#sk-container-id-2 div.sk-label:hover label.sk-toggleable__label {background-color: #d4ebff;}#sk-container-id-2 div.sk-serial::before {content: \"\";position: absolute;border-left: 1px solid gray;box-sizing: border-box;top: 0;bottom: 0;left: 50%;z-index: 0;}#sk-container-id-2 div.sk-serial {display: flex;flex-direction: column;align-items: center;background-color: white;padding-right: 0.2em;padding-left: 0.2em;position: relative;}#sk-container-id-2 div.sk-item {position: relative;z-index: 1;}#sk-container-id-2 div.sk-parallel {display: flex;align-items: stretch;justify-content: center;background-color: white;position: relative;}#sk-container-id-2 div.sk-item::before, #sk-container-id-2 div.sk-parallel-item::before {content: \"\";position: absolute;border-left: 1px solid gray;box-sizing: border-box;top: 0;bottom: 0;left: 50%;z-index: -1;}#sk-container-id-2 div.sk-parallel-item {display: flex;flex-direction: column;z-index: 1;position: relative;background-color: white;}#sk-container-id-2 div.sk-parallel-item:first-child::after {align-self: flex-end;width: 50%;}#sk-container-id-2 div.sk-parallel-item:last-child::after {align-self: flex-start;width: 50%;}#sk-container-id-2 div.sk-parallel-item:only-child::after {width: 0;}#sk-container-id-2 div.sk-dashed-wrapped {border: 1px dashed gray;margin: 0 0.4em 0.5em 0.4em;box-sizing: border-box;padding-bottom: 0.4em;background-color: white;}#sk-container-id-2 div.sk-label label {font-family: monospace;font-weight: bold;display: inline-block;line-height: 1.2em;}#sk-container-id-2 div.sk-label-container {text-align: center;}#sk-container-id-2 div.sk-container {/* jupyter's `normalize.less` sets `[hidden] { display: none; }` but bootstrap.min.css set `[hidden] { display: none !important; }` so we also need the `!important` here to be able to override the default hidden behavior on the sphinx rendered scikit-learn.org. See: https://github.com/scikit-learn/scikit-learn/issues/21755 */display: inline-block !important;position: relative;}#sk-container-id-2 div.sk-text-repr-fallback {display: none;}</style><div id=\"sk-container-id-2\" class=\"sk-top-container\"><div class=\"sk-text-repr-fallback\"><pre>RandomForestRegressor()</pre><b>In a Jupyter environment, please rerun this cell to show the HTML representation or trust the notebook. <br />On GitHub, the HTML representation is unable to render, please try loading this page with nbviewer.org.</b></div><div class=\"sk-container\" hidden><div class=\"sk-item\"><div class=\"sk-estimator sk-toggleable\"><input class=\"sk-toggleable__control sk-hidden--visually\" id=\"sk-estimator-id-2\" type=\"checkbox\" checked><label for=\"sk-estimator-id-2\" class=\"sk-toggleable__label sk-toggleable__label-arrow\">RandomForestRegressor</label><div class=\"sk-toggleable__content\"><pre>RandomForestRegressor()</pre></div></div></div></div></div>"
            ],
            "text/plain": [
              "RandomForestRegressor()"
            ]
          },
          "execution_count": 22,
          "metadata": {},
          "output_type": "execute_result"
        }
      ],
      "source": [
        "rfc = RandomForestRegressor()\n",
        "rfc.fit(X_train_scaled, y_train)"
      ]
    },
    {
      "cell_type": "code",
      "execution_count": null,
      "metadata": {
        "id": "cssruS3wIM_w"
      },
      "outputs": [],
      "source": [
        "y_pred_rfc = rfc.predict(X_test_scaled)"
      ]
    },
    {
      "cell_type": "code",
      "execution_count": null,
      "metadata": {
        "colab": {
          "base_uri": "https://localhost:8080/"
        },
        "id": "FwXIFA-FIKY3",
        "outputId": "8d52f659-2658-4727-cc4d-410185ccc9e2"
      },
      "outputs": [
        {
          "name": "stdout",
          "output_type": "stream",
          "text": [
            "Random Forest : Train Score 0.96 & Test Score 0.70\n"
          ]
        }
      ],
      "source": [
        "print(\"Random Forest : Train Score {:.2f} & Test Score {:.2f}\".format(rfc.score(X_train_scaled, y_train), rfc.score(X_test_scaled, y_test)))"
      ]
    },
    {
      "cell_type": "markdown",
      "metadata": {
        "id": "ExFtJkfXbCEa"
      },
      "source": [
        "The Random Forest model exhibits a commendable training score of 0.96, indicating its capacity to effectively capture patterns within the training dataset. However, this exceptionally high training score raises concerns regarding potential overfitting, where the model might excessively tailor itself to the training data, potentially leading to diminished generalization on unseen data. This concern is substantiated by the comparatively lower test score of 0.70, signifying the model's reduced ability to perform on new, previously unseen data. The disparity between the training and test scores underscores the need for further evaluation and possibly model refinement to strike a better balance between fitting the training data and ensuring robust generalization capabilities for predictive tasks."
      ]
    },
    {
      "cell_type": "code",
      "execution_count": null,
      "metadata": {
        "colab": {
          "base_uri": "https://localhost:8080/",
          "height": 178
        },
        "id": "Qqn5ygnljqB3",
        "outputId": "eb4a7c40-e3ea-400d-f0b4-7af5ee3362ce"
      },
      "outputs": [
        {
          "name": "stdout",
          "output_type": "stream",
          "text": [
            "[LightGBM] [Warning] Auto-choosing row-wise multi-threading, the overhead of testing was 0.021904 seconds.\n",
            "You can set `force_row_wise=true` to remove the overhead.\n",
            "And if memory is not enough, you can set `force_col_wise=true`.\n",
            "[LightGBM] [Info] Total Bins 2002\n",
            "[LightGBM] [Info] Number of data points in the train set: 700000, number of used features: 15\n",
            "[LightGBM] [Info] Start training from score 18.303200\n"
          ]
        },
        {
          "data": {
            "text/html": [
              "<style>#sk-container-id-3 {color: black;background-color: white;}#sk-container-id-3 pre{padding: 0;}#sk-container-id-3 div.sk-toggleable {background-color: white;}#sk-container-id-3 label.sk-toggleable__label {cursor: pointer;display: block;width: 100%;margin-bottom: 0;padding: 0.3em;box-sizing: border-box;text-align: center;}#sk-container-id-3 label.sk-toggleable__label-arrow:before {content: \"▸\";float: left;margin-right: 0.25em;color: #696969;}#sk-container-id-3 label.sk-toggleable__label-arrow:hover:before {color: black;}#sk-container-id-3 div.sk-estimator:hover label.sk-toggleable__label-arrow:before {color: black;}#sk-container-id-3 div.sk-toggleable__content {max-height: 0;max-width: 0;overflow: hidden;text-align: left;background-color: #f0f8ff;}#sk-container-id-3 div.sk-toggleable__content pre {margin: 0.2em;color: black;border-radius: 0.25em;background-color: #f0f8ff;}#sk-container-id-3 input.sk-toggleable__control:checked~div.sk-toggleable__content {max-height: 200px;max-width: 100%;overflow: auto;}#sk-container-id-3 input.sk-toggleable__control:checked~label.sk-toggleable__label-arrow:before {content: \"▾\";}#sk-container-id-3 div.sk-estimator input.sk-toggleable__control:checked~label.sk-toggleable__label {background-color: #d4ebff;}#sk-container-id-3 div.sk-label input.sk-toggleable__control:checked~label.sk-toggleable__label {background-color: #d4ebff;}#sk-container-id-3 input.sk-hidden--visually {border: 0;clip: rect(1px 1px 1px 1px);clip: rect(1px, 1px, 1px, 1px);height: 1px;margin: -1px;overflow: hidden;padding: 0;position: absolute;width: 1px;}#sk-container-id-3 div.sk-estimator {font-family: monospace;background-color: #f0f8ff;border: 1px dotted black;border-radius: 0.25em;box-sizing: border-box;margin-bottom: 0.5em;}#sk-container-id-3 div.sk-estimator:hover {background-color: #d4ebff;}#sk-container-id-3 div.sk-parallel-item::after {content: \"\";width: 100%;border-bottom: 1px solid gray;flex-grow: 1;}#sk-container-id-3 div.sk-label:hover label.sk-toggleable__label {background-color: #d4ebff;}#sk-container-id-3 div.sk-serial::before {content: \"\";position: absolute;border-left: 1px solid gray;box-sizing: border-box;top: 0;bottom: 0;left: 50%;z-index: 0;}#sk-container-id-3 div.sk-serial {display: flex;flex-direction: column;align-items: center;background-color: white;padding-right: 0.2em;padding-left: 0.2em;position: relative;}#sk-container-id-3 div.sk-item {position: relative;z-index: 1;}#sk-container-id-3 div.sk-parallel {display: flex;align-items: stretch;justify-content: center;background-color: white;position: relative;}#sk-container-id-3 div.sk-item::before, #sk-container-id-3 div.sk-parallel-item::before {content: \"\";position: absolute;border-left: 1px solid gray;box-sizing: border-box;top: 0;bottom: 0;left: 50%;z-index: -1;}#sk-container-id-3 div.sk-parallel-item {display: flex;flex-direction: column;z-index: 1;position: relative;background-color: white;}#sk-container-id-3 div.sk-parallel-item:first-child::after {align-self: flex-end;width: 50%;}#sk-container-id-3 div.sk-parallel-item:last-child::after {align-self: flex-start;width: 50%;}#sk-container-id-3 div.sk-parallel-item:only-child::after {width: 0;}#sk-container-id-3 div.sk-dashed-wrapped {border: 1px dashed gray;margin: 0 0.4em 0.5em 0.4em;box-sizing: border-box;padding-bottom: 0.4em;background-color: white;}#sk-container-id-3 div.sk-label label {font-family: monospace;font-weight: bold;display: inline-block;line-height: 1.2em;}#sk-container-id-3 div.sk-label-container {text-align: center;}#sk-container-id-3 div.sk-container {/* jupyter's `normalize.less` sets `[hidden] { display: none; }` but bootstrap.min.css set `[hidden] { display: none !important; }` so we also need the `!important` here to be able to override the default hidden behavior on the sphinx rendered scikit-learn.org. See: https://github.com/scikit-learn/scikit-learn/issues/21755 */display: inline-block !important;position: relative;}#sk-container-id-3 div.sk-text-repr-fallback {display: none;}</style><div id=\"sk-container-id-3\" class=\"sk-top-container\"><div class=\"sk-text-repr-fallback\"><pre>LGBMRegressor()</pre><b>In a Jupyter environment, please rerun this cell to show the HTML representation or trust the notebook. <br />On GitHub, the HTML representation is unable to render, please try loading this page with nbviewer.org.</b></div><div class=\"sk-container\" hidden><div class=\"sk-item\"><div class=\"sk-estimator sk-toggleable\"><input class=\"sk-toggleable__control sk-hidden--visually\" id=\"sk-estimator-id-3\" type=\"checkbox\" checked><label for=\"sk-estimator-id-3\" class=\"sk-toggleable__label sk-toggleable__label-arrow\">LGBMRegressor</label><div class=\"sk-toggleable__content\"><pre>LGBMRegressor()</pre></div></div></div></div></div>"
            ],
            "text/plain": [
              "LGBMRegressor()"
            ]
          },
          "execution_count": 25,
          "metadata": {},
          "output_type": "execute_result"
        }
      ],
      "source": [
        "LGB = LGBMRegressor()\n",
        "LGB.fit(X_train_scaled, y_train)"
      ]
    },
    {
      "cell_type": "code",
      "execution_count": null,
      "metadata": {
        "id": "vAJ5KAnzJ5_H"
      },
      "outputs": [],
      "source": [
        "y_pred_LGB = LGB.predict(X_test_scaled)"
      ]
    },
    {
      "cell_type": "code",
      "execution_count": null,
      "metadata": {
        "colab": {
          "base_uri": "https://localhost:8080/"
        },
        "id": "2khG5od7jwwV",
        "outputId": "6d414bd4-5db5-4d16-b7b4-d47e94d7c1ba"
      },
      "outputs": [
        {
          "name": "stdout",
          "output_type": "stream",
          "text": [
            "LGBMRegressor : Train Score 0.75 & Test Score 0.75\n"
          ]
        }
      ],
      "source": [
        "print(\"LGBMRegressor : Train Score {:.2f} & Test Score {:.2f}\".format(LGB.score(X_train_scaled, y_train), LGB.score(X_test_scaled, y_test)))"
      ]
    },
    {
      "cell_type": "markdown",
      "metadata": {
        "id": "TJOdYPIWbcTW"
      },
      "source": [
        "The LGBMRegressor demonstrates a well-balanced performance, with both the training and test scores registering at 0.75. Although the training score is slightly lower compared to the Random Forest model, the narrower performance gap observed between the training and test scores indicates superior generalization capabilities. This aspect positions the LGBMRegressor as a robust and promising candidate for fulfilling the objectives of data prediction on our dataset."
      ]
    },
    {
      "cell_type": "code",
      "execution_count": null,
      "metadata": {
        "colab": {
          "base_uri": "https://localhost:8080/",
          "height": 248
        },
        "id": "gUNSgr-uIAFw",
        "outputId": "6c0340f5-d354-451d-f314-db6ad243172a"
      },
      "outputs": [
        {
          "data": {
            "text/html": [
              "<style>#sk-container-id-1 {color: black;background-color: white;}#sk-container-id-1 pre{padding: 0;}#sk-container-id-1 div.sk-toggleable {background-color: white;}#sk-container-id-1 label.sk-toggleable__label {cursor: pointer;display: block;width: 100%;margin-bottom: 0;padding: 0.3em;box-sizing: border-box;text-align: center;}#sk-container-id-1 label.sk-toggleable__label-arrow:before {content: \"▸\";float: left;margin-right: 0.25em;color: #696969;}#sk-container-id-1 label.sk-toggleable__label-arrow:hover:before {color: black;}#sk-container-id-1 div.sk-estimator:hover label.sk-toggleable__label-arrow:before {color: black;}#sk-container-id-1 div.sk-toggleable__content {max-height: 0;max-width: 0;overflow: hidden;text-align: left;background-color: #f0f8ff;}#sk-container-id-1 div.sk-toggleable__content pre {margin: 0.2em;color: black;border-radius: 0.25em;background-color: #f0f8ff;}#sk-container-id-1 input.sk-toggleable__control:checked~div.sk-toggleable__content {max-height: 200px;max-width: 100%;overflow: auto;}#sk-container-id-1 input.sk-toggleable__control:checked~label.sk-toggleable__label-arrow:before {content: \"▾\";}#sk-container-id-1 div.sk-estimator input.sk-toggleable__control:checked~label.sk-toggleable__label {background-color: #d4ebff;}#sk-container-id-1 div.sk-label input.sk-toggleable__control:checked~label.sk-toggleable__label {background-color: #d4ebff;}#sk-container-id-1 input.sk-hidden--visually {border: 0;clip: rect(1px 1px 1px 1px);clip: rect(1px, 1px, 1px, 1px);height: 1px;margin: -1px;overflow: hidden;padding: 0;position: absolute;width: 1px;}#sk-container-id-1 div.sk-estimator {font-family: monospace;background-color: #f0f8ff;border: 1px dotted black;border-radius: 0.25em;box-sizing: border-box;margin-bottom: 0.5em;}#sk-container-id-1 div.sk-estimator:hover {background-color: #d4ebff;}#sk-container-id-1 div.sk-parallel-item::after {content: \"\";width: 100%;border-bottom: 1px solid gray;flex-grow: 1;}#sk-container-id-1 div.sk-label:hover label.sk-toggleable__label {background-color: #d4ebff;}#sk-container-id-1 div.sk-serial::before {content: \"\";position: absolute;border-left: 1px solid gray;box-sizing: border-box;top: 0;bottom: 0;left: 50%;z-index: 0;}#sk-container-id-1 div.sk-serial {display: flex;flex-direction: column;align-items: center;background-color: white;padding-right: 0.2em;padding-left: 0.2em;position: relative;}#sk-container-id-1 div.sk-item {position: relative;z-index: 1;}#sk-container-id-1 div.sk-parallel {display: flex;align-items: stretch;justify-content: center;background-color: white;position: relative;}#sk-container-id-1 div.sk-item::before, #sk-container-id-1 div.sk-parallel-item::before {content: \"\";position: absolute;border-left: 1px solid gray;box-sizing: border-box;top: 0;bottom: 0;left: 50%;z-index: -1;}#sk-container-id-1 div.sk-parallel-item {display: flex;flex-direction: column;z-index: 1;position: relative;background-color: white;}#sk-container-id-1 div.sk-parallel-item:first-child::after {align-self: flex-end;width: 50%;}#sk-container-id-1 div.sk-parallel-item:last-child::after {align-self: flex-start;width: 50%;}#sk-container-id-1 div.sk-parallel-item:only-child::after {width: 0;}#sk-container-id-1 div.sk-dashed-wrapped {border: 1px dashed gray;margin: 0 0.4em 0.5em 0.4em;box-sizing: border-box;padding-bottom: 0.4em;background-color: white;}#sk-container-id-1 div.sk-label label {font-family: monospace;font-weight: bold;display: inline-block;line-height: 1.2em;}#sk-container-id-1 div.sk-label-container {text-align: center;}#sk-container-id-1 div.sk-container {/* jupyter's `normalize.less` sets `[hidden] { display: none; }` but bootstrap.min.css set `[hidden] { display: none !important; }` so we also need the `!important` here to be able to override the default hidden behavior on the sphinx rendered scikit-learn.org. See: https://github.com/scikit-learn/scikit-learn/issues/21755 */display: inline-block !important;position: relative;}#sk-container-id-1 div.sk-text-repr-fallback {display: none;}</style><div id=\"sk-container-id-1\" class=\"sk-top-container\"><div class=\"sk-text-repr-fallback\"><pre>XGBRegressor(base_score=None, booster=None, callbacks=None,\n",
              "             colsample_bylevel=None, colsample_bynode=None,\n",
              "             colsample_bytree=None, early_stopping_rounds=None,\n",
              "             enable_categorical=False, eval_metric=None, feature_types=None,\n",
              "             gamma=None, gpu_id=None, grow_policy=None, importance_type=None,\n",
              "             interaction_constraints=None, learning_rate=None, max_bin=None,\n",
              "             max_cat_threshold=None, max_cat_to_onehot=None,\n",
              "             max_delta_step=None, max_depth=None, max_leaves=None,\n",
              "             min_child_weight=None, missing=nan, monotone_constraints=None,\n",
              "             n_estimators=100, n_jobs=None, num_parallel_tree=None,\n",
              "             predictor=None, random_state=None, ...)</pre><b>In a Jupyter environment, please rerun this cell to show the HTML representation or trust the notebook. <br />On GitHub, the HTML representation is unable to render, please try loading this page with nbviewer.org.</b></div><div class=\"sk-container\" hidden><div class=\"sk-item\"><div class=\"sk-estimator sk-toggleable\"><input class=\"sk-toggleable__control sk-hidden--visually\" id=\"sk-estimator-id-1\" type=\"checkbox\" checked><label for=\"sk-estimator-id-1\" class=\"sk-toggleable__label sk-toggleable__label-arrow\">XGBRegressor</label><div class=\"sk-toggleable__content\"><pre>XGBRegressor(base_score=None, booster=None, callbacks=None,\n",
              "             colsample_bylevel=None, colsample_bynode=None,\n",
              "             colsample_bytree=None, early_stopping_rounds=None,\n",
              "             enable_categorical=False, eval_metric=None, feature_types=None,\n",
              "             gamma=None, gpu_id=None, grow_policy=None, importance_type=None,\n",
              "             interaction_constraints=None, learning_rate=None, max_bin=None,\n",
              "             max_cat_threshold=None, max_cat_to_onehot=None,\n",
              "             max_delta_step=None, max_depth=None, max_leaves=None,\n",
              "             min_child_weight=None, missing=nan, monotone_constraints=None,\n",
              "             n_estimators=100, n_jobs=None, num_parallel_tree=None,\n",
              "             predictor=None, random_state=None, ...)</pre></div></div></div></div></div>"
            ],
            "text/plain": [
              "XGBRegressor(base_score=None, booster=None, callbacks=None,\n",
              "             colsample_bylevel=None, colsample_bynode=None,\n",
              "             colsample_bytree=None, early_stopping_rounds=None,\n",
              "             enable_categorical=False, eval_metric=None, feature_types=None,\n",
              "             gamma=None, gpu_id=None, grow_policy=None, importance_type=None,\n",
              "             interaction_constraints=None, learning_rate=None, max_bin=None,\n",
              "             max_cat_threshold=None, max_cat_to_onehot=None,\n",
              "             max_delta_step=None, max_depth=None, max_leaves=None,\n",
              "             min_child_weight=None, missing=nan, monotone_constraints=None,\n",
              "             n_estimators=100, n_jobs=None, num_parallel_tree=None,\n",
              "             predictor=None, random_state=None, ...)"
            ]
          },
          "execution_count": 17,
          "metadata": {},
          "output_type": "execute_result"
        }
      ],
      "source": [
        "xgb1 = XGBRegressor()\n",
        "xgb1.fit(X_train_scaled, y_train)"
      ]
    },
    {
      "cell_type": "code",
      "execution_count": null,
      "metadata": {
        "id": "CSAd31JU2fvS"
      },
      "outputs": [],
      "source": [
        "y_pred_xgb = xgb.predict(X_test_scaled)\n",
        "predictions = [round(value) for value in y_pred_xgb]"
      ]
    },
    {
      "cell_type": "code",
      "execution_count": null,
      "metadata": {
        "colab": {
          "base_uri": "https://localhost:8080/"
        },
        "id": "tZQDsbmrH7ZK",
        "outputId": "20d64970-d4e2-4167-dc03-f63cda58ba0a"
      },
      "outputs": [
        {
          "name": "stdout",
          "output_type": "stream",
          "text": [
            "XGBoost : Train Score 0.78 & Test Score 0.77\n"
          ]
        }
      ],
      "source": [
        "print(\"XGBoost : Train Score {:.2f} & Test Score {:.2f}\".format(xgb1.score(X_train_scaled, y_train), xgb1.score(X_test_scaled, y_test)))"
      ]
    },
    {
      "cell_type": "markdown",
      "metadata": {
        "id": "TiCUqLNTb2Fu"
      },
      "source": [
        "The XGBoost model exhibits a well-balanced performance profile, achieving a training score of 0.78 and a test score of 0.77. Although the training score falls slightly below that of the Random Forest model, what stands out is the comparatively narrower performance differential between the training and test scores. This phenomenon indicates superior generalization capability, implying that the XGBoost model is a robust contender for the task at hand. This narrower performance gap suggests that the model is less prone to overfitting and is better suited for making accurate predictions on unseen data, reinforcing its suitability for our dataset."
      ]
    },
    {
      "cell_type": "markdown",
      "metadata": {
        "id": "IDfgE9LbcKnT"
      },
      "source": [
        "In the context of predicting duration of the trip, a thorough evaluation of machine learning models reveals that the XGBoost Regressor stands out as the most favorable option among the three candidates. It demonstrates an adept ability to strike an appropriate equilibrium between effectively capturing the nuances of the training data while also exhibiting robust generalization to the test data, resulting in a commendable overall predictive performance. Nevertheless, it is imperative to emphasize that the selection of the final model should not be solely predicated on performance metrics alone. Instead, it should be a judiciously informed decision, taking into consideration other pivotal factors such as model interpretability and computational efficiency."
      ]
    },
    {
      "cell_type": "markdown",
      "metadata": {
        "id": "CGvZgKFbg0xj"
      },
      "source": [
        "### Problem Solved : Predicting Temperature"
      ]
    },
    {
      "cell_type": "code",
      "execution_count": null,
      "metadata": {
        "colab": {
          "base_uri": "https://localhost:8080/",
          "height": 300
        },
        "id": "9W7P77mFhDAo",
        "outputId": "6b604b10-b1ba-435a-cb08-070fa54815d7"
      },
      "outputs": [
        {
          "data": {
            "text/html": [
              "\n",
              "  <div id=\"df-97e2a316-b29b-421a-80f9-4e40618a30e7\" class=\"colab-df-container\">\n",
              "    <div>\n",
              "<style scoped>\n",
              "    .dataframe tbody tr th:only-of-type {\n",
              "        vertical-align: middle;\n",
              "    }\n",
              "\n",
              "    .dataframe tbody tr th {\n",
              "        vertical-align: top;\n",
              "    }\n",
              "\n",
              "    .dataframe thead th {\n",
              "        text-align: right;\n",
              "    }\n",
              "</style>\n",
              "<table border=\"1\" class=\"dataframe\">\n",
              "  <thead>\n",
              "    <tr style=\"text-align: right;\">\n",
              "      <th></th>\n",
              "      <th>Phour</th>\n",
              "      <th>Temp</th>\n",
              "      <th>Solar</th>\n",
              "      <th>GroundTemp</th>\n",
              "      <th>Dust</th>\n",
              "    </tr>\n",
              "  </thead>\n",
              "  <tbody>\n",
              "    <tr>\n",
              "      <th>count</th>\n",
              "      <td>7.652385e+06</td>\n",
              "      <td>7.652385e+06</td>\n",
              "      <td>7.652385e+06</td>\n",
              "      <td>7.652385e+06</td>\n",
              "      <td>7.652385e+06</td>\n",
              "    </tr>\n",
              "    <tr>\n",
              "      <th>mean</th>\n",
              "      <td>1.412584e+01</td>\n",
              "      <td>1.842107e+01</td>\n",
              "      <td>7.166463e-01</td>\n",
              "      <td>2.048892e+01</td>\n",
              "      <td>3.270104e+01</td>\n",
              "    </tr>\n",
              "    <tr>\n",
              "      <th>std</th>\n",
              "      <td>6.354668e+00</td>\n",
              "      <td>9.357678e+00</td>\n",
              "      <td>9.102009e-01</td>\n",
              "      <td>1.265351e+01</td>\n",
              "      <td>2.440210e+01</td>\n",
              "    </tr>\n",
              "    <tr>\n",
              "      <th>min</th>\n",
              "      <td>0.000000e+00</td>\n",
              "      <td>-8.000000e+00</td>\n",
              "      <td>0.000000e+00</td>\n",
              "      <td>-8.600000e+00</td>\n",
              "      <td>0.000000e+00</td>\n",
              "    </tr>\n",
              "    <tr>\n",
              "      <th>25%</th>\n",
              "      <td>9.000000e+00</td>\n",
              "      <td>1.180000e+01</td>\n",
              "      <td>0.000000e+00</td>\n",
              "      <td>1.110000e+01</td>\n",
              "      <td>1.600000e+01</td>\n",
              "    </tr>\n",
              "    <tr>\n",
              "      <th>50%</th>\n",
              "      <td>1.600000e+01</td>\n",
              "      <td>1.980000e+01</td>\n",
              "      <td>2.600000e-01</td>\n",
              "      <td>2.080000e+01</td>\n",
              "      <td>2.700000e+01</td>\n",
              "    </tr>\n",
              "    <tr>\n",
              "      <th>75%</th>\n",
              "      <td>1.900000e+01</td>\n",
              "      <td>2.540000e+01</td>\n",
              "      <td>1.230000e+00</td>\n",
              "      <td>2.840000e+01</td>\n",
              "      <td>4.300000e+01</td>\n",
              "    </tr>\n",
              "    <tr>\n",
              "      <th>max</th>\n",
              "      <td>2.300000e+01</td>\n",
              "      <td>3.940000e+01</td>\n",
              "      <td>3.520000e+00</td>\n",
              "      <td>6.220000e+01</td>\n",
              "      <td>3.040000e+02</td>\n",
              "    </tr>\n",
              "  </tbody>\n",
              "</table>\n",
              "</div>\n",
              "    <div class=\"colab-df-buttons\">\n",
              "\n",
              "  <div class=\"colab-df-container\">\n",
              "    <button class=\"colab-df-convert\" onclick=\"convertToInteractive('df-97e2a316-b29b-421a-80f9-4e40618a30e7')\"\n",
              "            title=\"Convert this dataframe to an interactive table.\"\n",
              "            style=\"display:none;\">\n",
              "\n",
              "  <svg xmlns=\"http://www.w3.org/2000/svg\" height=\"24px\" viewBox=\"0 -960 960 960\">\n",
              "    <path d=\"M120-120v-720h720v720H120Zm60-500h600v-160H180v160Zm220 220h160v-160H400v160Zm0 220h160v-160H400v160ZM180-400h160v-160H180v160Zm440 0h160v-160H620v160ZM180-180h160v-160H180v160Zm440 0h160v-160H620v160Z\"/>\n",
              "  </svg>\n",
              "    </button>\n",
              "\n",
              "  <style>\n",
              "    .colab-df-container {\n",
              "      display:flex;\n",
              "      gap: 12px;\n",
              "    }\n",
              "\n",
              "    .colab-df-convert {\n",
              "      background-color: #E8F0FE;\n",
              "      border: none;\n",
              "      border-radius: 50%;\n",
              "      cursor: pointer;\n",
              "      display: none;\n",
              "      fill: #1967D2;\n",
              "      height: 32px;\n",
              "      padding: 0 0 0 0;\n",
              "      width: 32px;\n",
              "    }\n",
              "\n",
              "    .colab-df-convert:hover {\n",
              "      background-color: #E2EBFA;\n",
              "      box-shadow: 0px 1px 2px rgba(60, 64, 67, 0.3), 0px 1px 3px 1px rgba(60, 64, 67, 0.15);\n",
              "      fill: #174EA6;\n",
              "    }\n",
              "\n",
              "    .colab-df-buttons div {\n",
              "      margin-bottom: 4px;\n",
              "    }\n",
              "\n",
              "    [theme=dark] .colab-df-convert {\n",
              "      background-color: #3B4455;\n",
              "      fill: #D2E3FC;\n",
              "    }\n",
              "\n",
              "    [theme=dark] .colab-df-convert:hover {\n",
              "      background-color: #434B5C;\n",
              "      box-shadow: 0px 1px 3px 1px rgba(0, 0, 0, 0.15);\n",
              "      filter: drop-shadow(0px 1px 2px rgba(0, 0, 0, 0.3));\n",
              "      fill: #FFFFFF;\n",
              "    }\n",
              "  </style>\n",
              "\n",
              "    <script>\n",
              "      const buttonEl =\n",
              "        document.querySelector('#df-97e2a316-b29b-421a-80f9-4e40618a30e7 button.colab-df-convert');\n",
              "      buttonEl.style.display =\n",
              "        google.colab.kernel.accessAllowed ? 'block' : 'none';\n",
              "\n",
              "      async function convertToInteractive(key) {\n",
              "        const element = document.querySelector('#df-97e2a316-b29b-421a-80f9-4e40618a30e7');\n",
              "        const dataTable =\n",
              "          await google.colab.kernel.invokeFunction('convertToInteractive',\n",
              "                                                    [key], {});\n",
              "        if (!dataTable) return;\n",
              "\n",
              "        const docLinkHtml = 'Like what you see? Visit the ' +\n",
              "          '<a target=\"_blank\" href=https://colab.research.google.com/notebooks/data_table.ipynb>data table notebook</a>'\n",
              "          + ' to learn more about interactive tables.';\n",
              "        element.innerHTML = '';\n",
              "        dataTable['output_type'] = 'display_data';\n",
              "        await google.colab.output.renderOutput(dataTable, element);\n",
              "        const docLink = document.createElement('div');\n",
              "        docLink.innerHTML = docLinkHtml;\n",
              "        element.appendChild(docLink);\n",
              "      }\n",
              "    </script>\n",
              "  </div>\n",
              "\n",
              "\n",
              "<div id=\"df-3c58a427-0c18-412b-9ae3-b3ed5f9f52fc\">\n",
              "  <button class=\"colab-df-quickchart\" onclick=\"quickchart('df-3c58a427-0c18-412b-9ae3-b3ed5f9f52fc')\"\n",
              "            title=\"Suggest charts.\"\n",
              "            style=\"display:none;\">\n",
              "\n",
              "<svg xmlns=\"http://www.w3.org/2000/svg\" height=\"24px\"viewBox=\"0 0 24 24\"\n",
              "     width=\"24px\">\n",
              "    <g>\n",
              "        <path d=\"M19 3H5c-1.1 0-2 .9-2 2v14c0 1.1.9 2 2 2h14c1.1 0 2-.9 2-2V5c0-1.1-.9-2-2-2zM9 17H7v-7h2v7zm4 0h-2V7h2v10zm4 0h-2v-4h2v4z\"/>\n",
              "    </g>\n",
              "</svg>\n",
              "  </button>\n",
              "\n",
              "<style>\n",
              "  .colab-df-quickchart {\n",
              "      --bg-color: #E8F0FE;\n",
              "      --fill-color: #1967D2;\n",
              "      --hover-bg-color: #E2EBFA;\n",
              "      --hover-fill-color: #174EA6;\n",
              "      --disabled-fill-color: #AAA;\n",
              "      --disabled-bg-color: #DDD;\n",
              "  }\n",
              "\n",
              "  [theme=dark] .colab-df-quickchart {\n",
              "      --bg-color: #3B4455;\n",
              "      --fill-color: #D2E3FC;\n",
              "      --hover-bg-color: #434B5C;\n",
              "      --hover-fill-color: #FFFFFF;\n",
              "      --disabled-bg-color: #3B4455;\n",
              "      --disabled-fill-color: #666;\n",
              "  }\n",
              "\n",
              "  .colab-df-quickchart {\n",
              "    background-color: var(--bg-color);\n",
              "    border: none;\n",
              "    border-radius: 50%;\n",
              "    cursor: pointer;\n",
              "    display: none;\n",
              "    fill: var(--fill-color);\n",
              "    height: 32px;\n",
              "    padding: 0;\n",
              "    width: 32px;\n",
              "  }\n",
              "\n",
              "  .colab-df-quickchart:hover {\n",
              "    background-color: var(--hover-bg-color);\n",
              "    box-shadow: 0 1px 2px rgba(60, 64, 67, 0.3), 0 1px 3px 1px rgba(60, 64, 67, 0.15);\n",
              "    fill: var(--button-hover-fill-color);\n",
              "  }\n",
              "\n",
              "  .colab-df-quickchart-complete:disabled,\n",
              "  .colab-df-quickchart-complete:disabled:hover {\n",
              "    background-color: var(--disabled-bg-color);\n",
              "    fill: var(--disabled-fill-color);\n",
              "    box-shadow: none;\n",
              "  }\n",
              "\n",
              "  .colab-df-spinner {\n",
              "    border: 2px solid var(--fill-color);\n",
              "    border-color: transparent;\n",
              "    border-bottom-color: var(--fill-color);\n",
              "    animation:\n",
              "      spin 1s steps(1) infinite;\n",
              "  }\n",
              "\n",
              "  @keyframes spin {\n",
              "    0% {\n",
              "      border-color: transparent;\n",
              "      border-bottom-color: var(--fill-color);\n",
              "      border-left-color: var(--fill-color);\n",
              "    }\n",
              "    20% {\n",
              "      border-color: transparent;\n",
              "      border-left-color: var(--fill-color);\n",
              "      border-top-color: var(--fill-color);\n",
              "    }\n",
              "    30% {\n",
              "      border-color: transparent;\n",
              "      border-left-color: var(--fill-color);\n",
              "      border-top-color: var(--fill-color);\n",
              "      border-right-color: var(--fill-color);\n",
              "    }\n",
              "    40% {\n",
              "      border-color: transparent;\n",
              "      border-right-color: var(--fill-color);\n",
              "      border-top-color: var(--fill-color);\n",
              "    }\n",
              "    60% {\n",
              "      border-color: transparent;\n",
              "      border-right-color: var(--fill-color);\n",
              "    }\n",
              "    80% {\n",
              "      border-color: transparent;\n",
              "      border-right-color: var(--fill-color);\n",
              "      border-bottom-color: var(--fill-color);\n",
              "    }\n",
              "    90% {\n",
              "      border-color: transparent;\n",
              "      border-bottom-color: var(--fill-color);\n",
              "    }\n",
              "  }\n",
              "</style>\n",
              "\n",
              "  <script>\n",
              "    async function quickchart(key) {\n",
              "      const quickchartButtonEl =\n",
              "        document.querySelector('#' + key + ' button');\n",
              "      quickchartButtonEl.disabled = true;  // To prevent multiple clicks.\n",
              "      quickchartButtonEl.classList.add('colab-df-spinner');\n",
              "      try {\n",
              "        const charts = await google.colab.kernel.invokeFunction(\n",
              "            'suggestCharts', [key], {});\n",
              "      } catch (error) {\n",
              "        console.error('Error during call to suggestCharts:', error);\n",
              "      }\n",
              "      quickchartButtonEl.classList.remove('colab-df-spinner');\n",
              "      quickchartButtonEl.classList.add('colab-df-quickchart-complete');\n",
              "    }\n",
              "    (() => {\n",
              "      let quickchartButtonEl =\n",
              "        document.querySelector('#df-3c58a427-0c18-412b-9ae3-b3ed5f9f52fc button');\n",
              "      quickchartButtonEl.style.display =\n",
              "        google.colab.kernel.accessAllowed ? 'block' : 'none';\n",
              "    })();\n",
              "  </script>\n",
              "</div>\n",
              "    </div>\n",
              "  </div>\n"
            ],
            "text/plain": [
              "              Phour          Temp         Solar    GroundTemp          Dust\n",
              "count  7.652385e+06  7.652385e+06  7.652385e+06  7.652385e+06  7.652385e+06\n",
              "mean   1.412584e+01  1.842107e+01  7.166463e-01  2.048892e+01  3.270104e+01\n",
              "std    6.354668e+00  9.357678e+00  9.102009e-01  1.265351e+01  2.440210e+01\n",
              "min    0.000000e+00 -8.000000e+00  0.000000e+00 -8.600000e+00  0.000000e+00\n",
              "25%    9.000000e+00  1.180000e+01  0.000000e+00  1.110000e+01  1.600000e+01\n",
              "50%    1.600000e+01  1.980000e+01  2.600000e-01  2.080000e+01  2.700000e+01\n",
              "75%    1.900000e+01  2.540000e+01  1.230000e+00  2.840000e+01  4.300000e+01\n",
              "max    2.300000e+01  3.940000e+01  3.520000e+00  6.220000e+01  3.040000e+02"
            ]
          },
          "execution_count": 9,
          "metadata": {},
          "output_type": "execute_result"
        }
      ],
      "source": [
        "df = filtered_data.drop([\n",
        "    'Duration',\n",
        "    'Distance',\n",
        "    'PLong',\n",
        "    'DLong',\n",
        "    'DLatd',\n",
        "    'Haversine',\n",
        "    'Pmonth',\n",
        "    'Pday',\n",
        "    'Dday',\n",
        "    'Dmin',\n",
        "    'Pmin',\n",
        "    'Dhour',\n",
        "    'Dmonth',\n",
        "    'DDweek',\n",
        "    'PDweek',\n",
        "    'Dhour',\n",
        "    'Dmonth',\n",
        "    'Precip',\n",
        "    'Snow',\n",
        "    'Wind',\n",
        "    'Humid',\n",
        "    'PLatd'\n",
        "], axis=1)\n",
        "\n",
        "df.describe()"
      ]
    },
    {
      "cell_type": "code",
      "execution_count": null,
      "metadata": {
        "colab": {
          "base_uri": "https://localhost:8080/"
        },
        "id": "xma6jgP0jvGs",
        "outputId": "441205ed-ffd2-43e6-ed50-7133a4cf59ba"
      },
      "outputs": [
        {
          "data": {
            "text/plain": [
              "(7652385, 5)"
            ]
          },
          "execution_count": 18,
          "metadata": {},
          "output_type": "execute_result"
        }
      ],
      "source": [
        "df.shape"
      ]
    },
    {
      "cell_type": "code",
      "execution_count": null,
      "metadata": {
        "id": "g8FG7O-zj82I"
      },
      "outputs": [],
      "source": [
        "from sklearn.model_selection import train_test_split, cross_validate, cross_val_score, GridSearchCV\n",
        "from sklearn import preprocessing"
      ]
    },
    {
      "cell_type": "code",
      "execution_count": null,
      "metadata": {
        "colab": {
          "base_uri": "https://localhost:8080/"
        },
        "id": "O9-EVLvOj_OI",
        "outputId": "82100bfc-4aa9-451a-f44f-85e514049957"
      },
      "outputs": [
        {
          "name": "stdout",
          "output_type": "stream",
          "text": [
            "(4591431, 4) (4591431,)\n",
            "(3060954, 4) (3060954,)\n"
          ]
        }
      ],
      "source": [
        "X_train,X_test, y_train, y_test = train_test_split(df.drop(columns=['Temp']), df['Temp'], test_size=0.4, random_state=43)\n",
        "print(X_train.shape, y_train.shape)\n",
        "print(X_test.shape, y_test.shape)"
      ]
    },
    {
      "cell_type": "code",
      "execution_count": null,
      "metadata": {
        "colab": {
          "base_uri": "https://localhost:8080/"
        },
        "id": "yGMsm6-NkByj",
        "outputId": "ef3146ad-e1c7-4669-e0f5-997e674b4cda"
      },
      "outputs": [
        {
          "data": {
            "text/plain": [
              "((4591431, 4), (3060954, 4))"
            ]
          },
          "execution_count": 13,
          "metadata": {},
          "output_type": "execute_result"
        }
      ],
      "source": [
        "size_scaler = preprocessing.StandardScaler().fit(X_train)\n",
        "X_train_scaled = size_scaler.transform(X_train)\n",
        "X_test_scaled = size_scaler.transform(X_test)\n",
        "X_train_scaled.shape, X_test_scaled.shape"
      ]
    },
    {
      "cell_type": "code",
      "execution_count": null,
      "metadata": {
        "id": "DoXPvT3WkHHs"
      },
      "outputs": [],
      "source": [
        "from sklearn.linear_model import LinearRegression, Ridge, Lasso, ElasticNet\n",
        "\n",
        "model_dict = {\n",
        "    'LinearRegression': {\"model\": LinearRegression(), \"params\": {}},\n",
        "    'RidgeRegression': {\"model\": Ridge(), \"params\": {'alpha': [1.0]}},\n",
        "    'LassoRegression': {\"model\": Lasso(), \"params\": {'alpha': [0.1]}},\n",
        "    'ElasticNetRegression': {\"model\": ElasticNet(), \"params\": {'alpha': [0.1], 'l1_ratio': [0.99]}},\n",
        "\n",
        "}"
      ]
    },
    {
      "cell_type": "markdown",
      "metadata": {
        "id": "rp-dy8fuBfcA"
      },
      "source": [
        "Incase of the Regression method namely Linear Regression, Ridge Regression, Lasso Regression, and ElasticNet Regression. Our analysis encompasses the entirety of the dataset, with all rows being considered for model training and evaluation. Furthermore, we have conducted feature selection by including only the top 4 correlated columns, which have been identified as pivotal factors in influencing and predicting trip duration. This approach ensures that our regression models are fine-tuned to focus on the most influential variables, enhancing their predictive accuracy and relevance in determining trip duration, a critical component of our analysis."
      ]
    },
    {
      "cell_type": "code",
      "execution_count": null,
      "metadata": {
        "id": "MJJy9i5mkKrm"
      },
      "outputs": [],
      "source": [
        "def eval_models():\n",
        "    model_results = pd.DataFrame()\n",
        "    model_results['Train_RMSE'] = None\n",
        "    model_results['Test_RMSE'] = None\n",
        "    model_results['Train_MAE'] = None\n",
        "    model_results['Test_MAE'] = None\n",
        "    model_results['best_params'] = None\n",
        "\n",
        "    best_reg_model_ours = None\n",
        "    best_test_score = math.inf\n",
        "\n",
        "    for model_name, reg_model in model_dict.items():\n",
        "        classifier = GridSearchCV(reg_model['model'], reg_model['params'], n_jobs=20, verbose=0)\n",
        "        classifier.fit(X_train_scaled, list(y_train))\n",
        "        best_model = classifier.best_estimator_\n",
        "\n",
        "        y_train_predicted = best_model.predict(X_train_scaled)\n",
        "        train_rmse = np.sqrt(mean_squared_error(list(y_train), y_train_predicted))\n",
        "        train_mae = mean_absolute_error(list(y_train), y_train_predicted)\n",
        "\n",
        "        print(model_name, train_rmse, classifier.best_params_)\n",
        "        print(\"Score Train: \",best_model.score(X_train_scaled,y_train))\n",
        "        print(\"Score Test: \",best_model.score(X_test_scaled,y_test))\n",
        "\n",
        "        y_predicted = best_model.predict(X_test_scaled)\n",
        "        test_rmse = np.sqrt(mean_squared_error(list(y_test), y_predicted))\n",
        "        test_mae = mean_absolute_error(list(y_test), y_predicted)\n",
        "\n",
        "        if test_rmse < best_test_score:\n",
        "            best_test_score = test_rmse\n",
        "            best_reg_model_ours = best_model\n",
        "\n",
        "        model_results.loc[model_name, ['Train_RMSE', 'Test_RMSE', 'Train_MAE', 'Test_MAE', 'best_params']] = [train_rmse, test_rmse, train_mae, test_mae, classifier.best_params_]\n",
        "\n",
        "    print(\"Best model: \", best_model)\n",
        "    # plot the prediction errors using the best model\n",
        "    y_predicted = best_model.predict(X_test_scaled)\n",
        "    plt.plot(list(y_test) - y_predicted, marker='o', linestyle='')\n",
        "\n",
        "    return model_results"
      ]
    },
    {
      "cell_type": "code",
      "execution_count": null,
      "metadata": {
        "colab": {
          "base_uri": "https://localhost:8080/",
          "height": 680
        },
        "id": "lc4-QBN9cXHC",
        "outputId": "7c192238-54b4-4428-e95f-a48b77c0cef6"
      },
      "outputs": [
        {
          "name": "stdout",
          "output_type": "stream",
          "text": [
            "LinearRegression 2.3091560715052992 {}\n",
            "Score Train:  0.942042631856242\n",
            "Score Test:  0.9422274836083074\n",
            "RidgeRegression 2.3091560918575604 {'alpha': 1.0}\n",
            "Score Train:  0.9420426308879142\n",
            "Score Test:  0.9422274831558948\n",
            "LassoRegression 2.320298184718877 {'alpha': 0.1}\n",
            "Score Train:  0.9414819720570509\n",
            "Score Test:  0.9416674563726871\n",
            "ElasticNetRegression 2.321383771769065 {'alpha': 0.1, 'l1_ratio': 0.99}\n",
            "Score Train:  0.9414272020822477\n",
            "Score Test:  0.9416123203555045\n",
            "Best model:  ElasticNet(alpha=0.1, l1_ratio=0.99)\n"
          ]
        },
        {
          "data": {
            "image/png": "[encoded data removed]",
            "text/plain": [
              "<Figure size 640x480 with 1 Axes>"
            ]
          },
          "metadata": {},
          "output_type": "display_data"
        }
      ],
      "source": [
        "model_results = eval_models()"
      ]
    },
    {
      "cell_type": "code",
      "execution_count": null,
      "metadata": {
        "colab": {
          "base_uri": "https://localhost:8080/",
          "height": 175
        },
        "id": "suQWle4_AF7Y",
        "outputId": "e002dc65-dcd3-4c79-86b7-f5b5d7e6bbb0"
      },
      "outputs": [
        {
          "data": {
            "text/html": [
              "\n",
              "  <div id=\"df-ffe1a0ab-d7dd-4bbf-a9fd-4ca4b5527562\" class=\"colab-df-container\">\n",
              "    <div>\n",
              "<style scoped>\n",
              "    .dataframe tbody tr th:only-of-type {\n",
              "        vertical-align: middle;\n",
              "    }\n",
              "\n",
              "    .dataframe tbody tr th {\n",
              "        vertical-align: top;\n",
              "    }\n",
              "\n",
              "    .dataframe thead th {\n",
              "        text-align: right;\n",
              "    }\n",
              "</style>\n",
              "<table border=\"1\" class=\"dataframe\">\n",
              "  <thead>\n",
              "    <tr style=\"text-align: right;\">\n",
              "      <th></th>\n",
              "      <th>Train_RMSE</th>\n",
              "      <th>Test_RMSE</th>\n",
              "      <th>Train_MAE</th>\n",
              "      <th>Test_MAE</th>\n",
              "      <th>best_params</th>\n",
              "    </tr>\n",
              "  </thead>\n",
              "  <tbody>\n",
              "    <tr>\n",
              "      <th>LinearRegression</th>\n",
              "      <td>2.309156</td>\n",
              "      <td>2.306826</td>\n",
              "      <td>1.655776</td>\n",
              "      <td>1.653662</td>\n",
              "      <td>{}</td>\n",
              "    </tr>\n",
              "    <tr>\n",
              "      <th>RidgeRegression</th>\n",
              "      <td>2.309156</td>\n",
              "      <td>2.306826</td>\n",
              "      <td>1.655777</td>\n",
              "      <td>1.653662</td>\n",
              "      <td>{'alpha': 1.0}</td>\n",
              "    </tr>\n",
              "    <tr>\n",
              "      <th>LassoRegression</th>\n",
              "      <td>2.320298</td>\n",
              "      <td>2.31798</td>\n",
              "      <td>1.673376</td>\n",
              "      <td>1.671328</td>\n",
              "      <td>{'alpha': 0.1}</td>\n",
              "    </tr>\n",
              "    <tr>\n",
              "      <th>ElasticNetRegression</th>\n",
              "      <td>2.321384</td>\n",
              "      <td>2.319075</td>\n",
              "      <td>1.675159</td>\n",
              "      <td>1.673119</td>\n",
              "      <td>{'alpha': 0.1, 'l1_ratio': 0.99}</td>\n",
              "    </tr>\n",
              "  </tbody>\n",
              "</table>\n",
              "</div>\n",
              "    <div class=\"colab-df-buttons\">\n",
              "\n",
              "  <div class=\"colab-df-container\">\n",
              "    <button class=\"colab-df-convert\" onclick=\"convertToInteractive('df-ffe1a0ab-d7dd-4bbf-a9fd-4ca4b5527562')\"\n",
              "            title=\"Convert this dataframe to an interactive table.\"\n",
              "            style=\"display:none;\">\n",
              "\n",
              "  <svg xmlns=\"http://www.w3.org/2000/svg\" height=\"24px\" viewBox=\"0 -960 960 960\">\n",
              "    <path d=\"M120-120v-720h720v720H120Zm60-500h600v-160H180v160Zm220 220h160v-160H400v160Zm0 220h160v-160H400v160ZM180-400h160v-160H180v160Zm440 0h160v-160H620v160ZM180-180h160v-160H180v160Zm440 0h160v-160H620v160Z\"/>\n",
              "  </svg>\n",
              "    </button>\n",
              "\n",
              "  <style>\n",
              "    .colab-df-container {\n",
              "      display:flex;\n",
              "      gap: 12px;\n",
              "    }\n",
              "\n",
              "    .colab-df-convert {\n",
              "      background-color: #E8F0FE;\n",
              "      border: none;\n",
              "      border-radius: 50%;\n",
              "      cursor: pointer;\n",
              "      display: none;\n",
              "      fill: #1967D2;\n",
              "      height: 32px;\n",
              "      padding: 0 0 0 0;\n",
              "      width: 32px;\n",
              "    }\n",
              "\n",
              "    .colab-df-convert:hover {\n",
              "      background-color: #E2EBFA;\n",
              "      box-shadow: 0px 1px 2px rgba(60, 64, 67, 0.3), 0px 1px 3px 1px rgba(60, 64, 67, 0.15);\n",
              "      fill: #174EA6;\n",
              "    }\n",
              "\n",
              "    .colab-df-buttons div {\n",
              "      margin-bottom: 4px;\n",
              "    }\n",
              "\n",
              "    [theme=dark] .colab-df-convert {\n",
              "      background-color: #3B4455;\n",
              "      fill: #D2E3FC;\n",
              "    }\n",
              "\n",
              "    [theme=dark] .colab-df-convert:hover {\n",
              "      background-color: #434B5C;\n",
              "      box-shadow: 0px 1px 3px 1px rgba(0, 0, 0, 0.15);\n",
              "      filter: drop-shadow(0px 1px 2px rgba(0, 0, 0, 0.3));\n",
              "      fill: #FFFFFF;\n",
              "    }\n",
              "  </style>\n",
              "\n",
              "    <script>\n",
              "      const buttonEl =\n",
              "        document.querySelector('#df-ffe1a0ab-d7dd-4bbf-a9fd-4ca4b5527562 button.colab-df-convert');\n",
              "      buttonEl.style.display =\n",
              "        google.colab.kernel.accessAllowed ? 'block' : 'none';\n",
              "\n",
              "      async function convertToInteractive(key) {\n",
              "        const element = document.querySelector('#df-ffe1a0ab-d7dd-4bbf-a9fd-4ca4b5527562');\n",
              "        const dataTable =\n",
              "          await google.colab.kernel.invokeFunction('convertToInteractive',\n",
              "                                                    [key], {});\n",
              "        if (!dataTable) return;\n",
              "\n",
              "        const docLinkHtml = 'Like what you see? Visit the ' +\n",
              "          '<a target=\"_blank\" href=https://colab.research.google.com/notebooks/data_table.ipynb>data table notebook</a>'\n",
              "          + ' to learn more about interactive tables.';\n",
              "        element.innerHTML = '';\n",
              "        dataTable['output_type'] = 'display_data';\n",
              "        await google.colab.output.renderOutput(dataTable, element);\n",
              "        const docLink = document.createElement('div');\n",
              "        docLink.innerHTML = docLinkHtml;\n",
              "        element.appendChild(docLink);\n",
              "      }\n",
              "    </script>\n",
              "  </div>\n",
              "\n",
              "\n",
              "<div id=\"df-e8f6804e-2e6d-42d8-9254-7db03efc4eaa\">\n",
              "  <button class=\"colab-df-quickchart\" onclick=\"quickchart('df-e8f6804e-2e6d-42d8-9254-7db03efc4eaa')\"\n",
              "            title=\"Suggest charts.\"\n",
              "            style=\"display:none;\">\n",
              "\n",
              "<svg xmlns=\"http://www.w3.org/2000/svg\" height=\"24px\"viewBox=\"0 0 24 24\"\n",
              "     width=\"24px\">\n",
              "    <g>\n",
              "        <path d=\"M19 3H5c-1.1 0-2 .9-2 2v14c0 1.1.9 2 2 2h14c1.1 0 2-.9 2-2V5c0-1.1-.9-2-2-2zM9 17H7v-7h2v7zm4 0h-2V7h2v10zm4 0h-2v-4h2v4z\"/>\n",
              "    </g>\n",
              "</svg>\n",
              "  </button>\n",
              "\n",
              "<style>\n",
              "  .colab-df-quickchart {\n",
              "      --bg-color: #E8F0FE;\n",
              "      --fill-color: #1967D2;\n",
              "      --hover-bg-color: #E2EBFA;\n",
              "      --hover-fill-color: #174EA6;\n",
              "      --disabled-fill-color: #AAA;\n",
              "      --disabled-bg-color: #DDD;\n",
              "  }\n",
              "\n",
              "  [theme=dark] .colab-df-quickchart {\n",
              "      --bg-color: #3B4455;\n",
              "      --fill-color: #D2E3FC;\n",
              "      --hover-bg-color: #434B5C;\n",
              "      --hover-fill-color: #FFFFFF;\n",
              "      --disabled-bg-color: #3B4455;\n",
              "      --disabled-fill-color: #666;\n",
              "  }\n",
              "\n",
              "  .colab-df-quickchart {\n",
              "    background-color: var(--bg-color);\n",
              "    border: none;\n",
              "    border-radius: 50%;\n",
              "    cursor: pointer;\n",
              "    display: none;\n",
              "    fill: var(--fill-color);\n",
              "    height: 32px;\n",
              "    padding: 0;\n",
              "    width: 32px;\n",
              "  }\n",
              "\n",
              "  .colab-df-quickchart:hover {\n",
              "    background-color: var(--hover-bg-color);\n",
              "    box-shadow: 0 1px 2px rgba(60, 64, 67, 0.3), 0 1px 3px 1px rgba(60, 64, 67, 0.15);\n",
              "    fill: var(--button-hover-fill-color);\n",
              "  }\n",
              "\n",
              "  .colab-df-quickchart-complete:disabled,\n",
              "  .colab-df-quickchart-complete:disabled:hover {\n",
              "    background-color: var(--disabled-bg-color);\n",
              "    fill: var(--disabled-fill-color);\n",
              "    box-shadow: none;\n",
              "  }\n",
              "\n",
              "  .colab-df-spinner {\n",
              "    border: 2px solid var(--fill-color);\n",
              "    border-color: transparent;\n",
              "    border-bottom-color: var(--fill-color);\n",
              "    animation:\n",
              "      spin 1s steps(1) infinite;\n",
              "  }\n",
              "\n",
              "  @keyframes spin {\n",
              "    0% {\n",
              "      border-color: transparent;\n",
              "      border-bottom-color: var(--fill-color);\n",
              "      border-left-color: var(--fill-color);\n",
              "    }\n",
              "    20% {\n",
              "      border-color: transparent;\n",
              "      border-left-color: var(--fill-color);\n",
              "      border-top-color: var(--fill-color);\n",
              "    }\n",
              "    30% {\n",
              "      border-color: transparent;\n",
              "      border-left-color: var(--fill-color);\n",
              "      border-top-color: var(--fill-color);\n",
              "      border-right-color: var(--fill-color);\n",
              "    }\n",
              "    40% {\n",
              "      border-color: transparent;\n",
              "      border-right-color: var(--fill-color);\n",
              "      border-top-color: var(--fill-color);\n",
              "    }\n",
              "    60% {\n",
              "      border-color: transparent;\n",
              "      border-right-color: var(--fill-color);\n",
              "    }\n",
              "    80% {\n",
              "      border-color: transparent;\n",
              "      border-right-color: var(--fill-color);\n",
              "      border-bottom-color: var(--fill-color);\n",
              "    }\n",
              "    90% {\n",
              "      border-color: transparent;\n",
              "      border-bottom-color: var(--fill-color);\n",
              "    }\n",
              "  }\n",
              "</style>\n",
              "\n",
              "  <script>\n",
              "    async function quickchart(key) {\n",
              "      const quickchartButtonEl =\n",
              "        document.querySelector('#' + key + ' button');\n",
              "      quickchartButtonEl.disabled = true;  // To prevent multiple clicks.\n",
              "      quickchartButtonEl.classList.add('colab-df-spinner');\n",
              "      try {\n",
              "        const charts = await google.colab.kernel.invokeFunction(\n",
              "            'suggestCharts', [key], {});\n",
              "      } catch (error) {\n",
              "        console.error('Error during call to suggestCharts:', error);\n",
              "      }\n",
              "      quickchartButtonEl.classList.remove('colab-df-spinner');\n",
              "      quickchartButtonEl.classList.add('colab-df-quickchart-complete');\n",
              "    }\n",
              "    (() => {\n",
              "      let quickchartButtonEl =\n",
              "        document.querySelector('#df-e8f6804e-2e6d-42d8-9254-7db03efc4eaa button');\n",
              "      quickchartButtonEl.style.display =\n",
              "        google.colab.kernel.accessAllowed ? 'block' : 'none';\n",
              "    })();\n",
              "  </script>\n",
              "</div>\n",
              "    </div>\n",
              "  </div>\n"
            ],
            "text/plain": [
              "                     Train_RMSE Test_RMSE Train_MAE  Test_MAE  \\\n",
              "LinearRegression       2.309156  2.306826  1.655776  1.653662   \n",
              "RidgeRegression        2.309156  2.306826  1.655777  1.653662   \n",
              "LassoRegression        2.320298   2.31798  1.673376  1.671328   \n",
              "ElasticNetRegression   2.321384  2.319075  1.675159  1.673119   \n",
              "\n",
              "                                           best_params  \n",
              "LinearRegression                                    {}  \n",
              "RidgeRegression                         {'alpha': 1.0}  \n",
              "LassoRegression                         {'alpha': 0.1}  \n",
              "ElasticNetRegression  {'alpha': 0.1, 'l1_ratio': 0.99}  "
            ]
          },
          "execution_count": 17,
          "metadata": {},
          "output_type": "execute_result"
        }
      ],
      "source": [
        "model_results"
      ]
    },
    {
      "cell_type": "markdown",
      "metadata": {
        "id": "UXlCPNngBqwJ"
      },
      "source": [
        "After a thorough evaluation of the performance of the four distinct regression models employed in our analysis, we have determined that the ElasticNet Regression model demonstrates the most favorable fit for our dataset. This model exhibits a notable level of accuracy, approximately 94%. The hyperparameter values for the same are alpha: 0.1 and l1 ratio: 0.99. This conclusion underscores the robustness and suitability of the ElasticNet Regression approach in capturing the underlying relationships within our dataset, affirming its efficacy."
      ]
    },
    {
      "cell_type": "code",
      "execution_count": null,
      "metadata": {
        "colab": {
          "base_uri": "https://localhost:8080/",
          "height": 75
        },
        "id": "RgsyV7JbYx_T",
        "outputId": "88b77b61-c4bd-43ff-8683-efff11c27689"
      },
      "outputs": [
        {
          "data": {
            "text/html": [
              "<style>#sk-container-id-1 {color: black;background-color: white;}#sk-container-id-1 pre{padding: 0;}#sk-container-id-1 div.sk-toggleable {background-color: white;}#sk-container-id-1 label.sk-toggleable__label {cursor: pointer;display: block;width: 100%;margin-bottom: 0;padding: 0.3em;box-sizing: border-box;text-align: center;}#sk-container-id-1 label.sk-toggleable__label-arrow:before {content: \"▸\";float: left;margin-right: 0.25em;color: #696969;}#sk-container-id-1 label.sk-toggleable__label-arrow:hover:before {color: black;}#sk-container-id-1 div.sk-estimator:hover label.sk-toggleable__label-arrow:before {color: black;}#sk-container-id-1 div.sk-toggleable__content {max-height: 0;max-width: 0;overflow: hidden;text-align: left;background-color: #f0f8ff;}#sk-container-id-1 div.sk-toggleable__content pre {margin: 0.2em;color: black;border-radius: 0.25em;background-color: #f0f8ff;}#sk-container-id-1 input.sk-toggleable__control:checked~div.sk-toggleable__content {max-height: 200px;max-width: 100%;overflow: auto;}#sk-container-id-1 input.sk-toggleable__control:checked~label.sk-toggleable__label-arrow:before {content: \"▾\";}#sk-container-id-1 div.sk-estimator input.sk-toggleable__control:checked~label.sk-toggleable__label {background-color: #d4ebff;}#sk-container-id-1 div.sk-label input.sk-toggleable__control:checked~label.sk-toggleable__label {background-color: #d4ebff;}#sk-container-id-1 input.sk-hidden--visually {border: 0;clip: rect(1px 1px 1px 1px);clip: rect(1px, 1px, 1px, 1px);height: 1px;margin: -1px;overflow: hidden;padding: 0;position: absolute;width: 1px;}#sk-container-id-1 div.sk-estimator {font-family: monospace;background-color: #f0f8ff;border: 1px dotted black;border-radius: 0.25em;box-sizing: border-box;margin-bottom: 0.5em;}#sk-container-id-1 div.sk-estimator:hover {background-color: #d4ebff;}#sk-container-id-1 div.sk-parallel-item::after {content: \"\";width: 100%;border-bottom: 1px solid gray;flex-grow: 1;}#sk-container-id-1 div.sk-label:hover label.sk-toggleable__label {background-color: #d4ebff;}#sk-container-id-1 div.sk-serial::before {content: \"\";position: absolute;border-left: 1px solid gray;box-sizing: border-box;top: 0;bottom: 0;left: 50%;z-index: 0;}#sk-container-id-1 div.sk-serial {display: flex;flex-direction: column;align-items: center;background-color: white;padding-right: 0.2em;padding-left: 0.2em;position: relative;}#sk-container-id-1 div.sk-item {position: relative;z-index: 1;}#sk-container-id-1 div.sk-parallel {display: flex;align-items: stretch;justify-content: center;background-color: white;position: relative;}#sk-container-id-1 div.sk-item::before, #sk-container-id-1 div.sk-parallel-item::before {content: \"\";position: absolute;border-left: 1px solid gray;box-sizing: border-box;top: 0;bottom: 0;left: 50%;z-index: -1;}#sk-container-id-1 div.sk-parallel-item {display: flex;flex-direction: column;z-index: 1;position: relative;background-color: white;}#sk-container-id-1 div.sk-parallel-item:first-child::after {align-self: flex-end;width: 50%;}#sk-container-id-1 div.sk-parallel-item:last-child::after {align-self: flex-start;width: 50%;}#sk-container-id-1 div.sk-parallel-item:only-child::after {width: 0;}#sk-container-id-1 div.sk-dashed-wrapped {border: 1px dashed gray;margin: 0 0.4em 0.5em 0.4em;box-sizing: border-box;padding-bottom: 0.4em;background-color: white;}#sk-container-id-1 div.sk-label label {font-family: monospace;font-weight: bold;display: inline-block;line-height: 1.2em;}#sk-container-id-1 div.sk-label-container {text-align: center;}#sk-container-id-1 div.sk-container {/* jupyter's `normalize.less` sets `[hidden] { display: none; }` but bootstrap.min.css set `[hidden] { display: none !important; }` so we also need the `!important` here to be able to override the default hidden behavior on the sphinx rendered scikit-learn.org. See: https://github.com/scikit-learn/scikit-learn/issues/21755 */display: inline-block !important;position: relative;}#sk-container-id-1 div.sk-text-repr-fallback {display: none;}</style><div id=\"sk-container-id-1\" class=\"sk-top-container\"><div class=\"sk-text-repr-fallback\"><pre>RandomForestRegressor()</pre><b>In a Jupyter environment, please rerun this cell to show the HTML representation or trust the notebook. <br />On GitHub, the HTML representation is unable to render, please try loading this page with nbviewer.org.</b></div><div class=\"sk-container\" hidden><div class=\"sk-item\"><div class=\"sk-estimator sk-toggleable\"><input class=\"sk-toggleable__control sk-hidden--visually\" id=\"sk-estimator-id-1\" type=\"checkbox\" checked><label for=\"sk-estimator-id-1\" class=\"sk-toggleable__label sk-toggleable__label-arrow\">RandomForestRegressor</label><div class=\"sk-toggleable__content\"><pre>RandomForestRegressor()</pre></div></div></div></div></div>"
            ],
            "text/plain": [
              "RandomForestRegressor()"
            ]
          },
          "execution_count": 18,
          "metadata": {},
          "output_type": "execute_result"
        }
      ],
      "source": [
        "rfc = RandomForestRegressor()\n",
        "rfc.fit(X_train_scaled, y_train)"
      ]
    },
    {
      "cell_type": "code",
      "execution_count": null,
      "metadata": {
        "id": "_iNr3ZuCY01U"
      },
      "outputs": [],
      "source": [
        "y_pred_rfc = rfc.predict(X_test_scaled)"
      ]
    },
    {
      "cell_type": "code",
      "execution_count": null,
      "metadata": {
        "colab": {
          "base_uri": "https://localhost:8080/"
        },
        "id": "Jfif-XG1Y25b",
        "outputId": "7f9692c1-a013-42a3-efc4-25b0ddb98629"
      },
      "outputs": [
        {
          "name": "stdout",
          "output_type": "stream",
          "text": [
            "Random Forest : Train Score 1.00 & Test Score 1.00\n"
          ]
        }
      ],
      "source": [
        "print(\"Random Forest : Train Score {:.2f} & Test Score {:.2f}\".format(rfc.score(X_train_scaled, y_train), rfc.score(X_test_scaled, y_test)))"
      ]
    },
    {
      "cell_type": "markdown",
      "metadata": {
        "id": "6b_IsOenCkm2"
      },
      "source": [
        "\n",
        "\n",
        "*   Random Forest has achieved a perfect score on both the training and testing datasets, which suggests that it has learned the training data very well. However, a perfect score on the test set can sometimes be a sign of overfitting, where the model may not generalize well to unseen data.\n",
        "*   This model might be a good choice if computational efficiency and interpretability are important factors, but further evaluation is needed to assess generalization.\n",
        "\n"
      ]
    },
    {
      "cell_type": "code",
      "execution_count": null,
      "metadata": {
        "colab": {
          "base_uri": "https://localhost:8080/",
          "height": 248
        },
        "id": "00jDkjhObtqX",
        "outputId": "37c085b8-51bd-4685-f232-1f9d0dfced7d"
      },
      "outputs": [
        {
          "data": {
            "text/html": [
              "<style>#sk-container-id-2 {color: black;background-color: white;}#sk-container-id-2 pre{padding: 0;}#sk-container-id-2 div.sk-toggleable {background-color: white;}#sk-container-id-2 label.sk-toggleable__label {cursor: pointer;display: block;width: 100%;margin-bottom: 0;padding: 0.3em;box-sizing: border-box;text-align: center;}#sk-container-id-2 label.sk-toggleable__label-arrow:before {content: \"▸\";float: left;margin-right: 0.25em;color: #696969;}#sk-container-id-2 label.sk-toggleable__label-arrow:hover:before {color: black;}#sk-container-id-2 div.sk-estimator:hover label.sk-toggleable__label-arrow:before {color: black;}#sk-container-id-2 div.sk-toggleable__content {max-height: 0;max-width: 0;overflow: hidden;text-align: left;background-color: #f0f8ff;}#sk-container-id-2 div.sk-toggleable__content pre {margin: 0.2em;color: black;border-radius: 0.25em;background-color: #f0f8ff;}#sk-container-id-2 input.sk-toggleable__control:checked~div.sk-toggleable__content {max-height: 200px;max-width: 100%;overflow: auto;}#sk-container-id-2 input.sk-toggleable__control:checked~label.sk-toggleable__label-arrow:before {content: \"▾\";}#sk-container-id-2 div.sk-estimator input.sk-toggleable__control:checked~label.sk-toggleable__label {background-color: #d4ebff;}#sk-container-id-2 div.sk-label input.sk-toggleable__control:checked~label.sk-toggleable__label {background-color: #d4ebff;}#sk-container-id-2 input.sk-hidden--visually {border: 0;clip: rect(1px 1px 1px 1px);clip: rect(1px, 1px, 1px, 1px);height: 1px;margin: -1px;overflow: hidden;padding: 0;position: absolute;width: 1px;}#sk-container-id-2 div.sk-estimator {font-family: monospace;background-color: #f0f8ff;border: 1px dotted black;border-radius: 0.25em;box-sizing: border-box;margin-bottom: 0.5em;}#sk-container-id-2 div.sk-estimator:hover {background-color: #d4ebff;}#sk-container-id-2 div.sk-parallel-item::after {content: \"\";width: 100%;border-bottom: 1px solid gray;flex-grow: 1;}#sk-container-id-2 div.sk-label:hover label.sk-toggleable__label {background-color: #d4ebff;}#sk-container-id-2 div.sk-serial::before {content: \"\";position: absolute;border-left: 1px solid gray;box-sizing: border-box;top: 0;bottom: 0;left: 50%;z-index: 0;}#sk-container-id-2 div.sk-serial {display: flex;flex-direction: column;align-items: center;background-color: white;padding-right: 0.2em;padding-left: 0.2em;position: relative;}#sk-container-id-2 div.sk-item {position: relative;z-index: 1;}#sk-container-id-2 div.sk-parallel {display: flex;align-items: stretch;justify-content: center;background-color: white;position: relative;}#sk-container-id-2 div.sk-item::before, #sk-container-id-2 div.sk-parallel-item::before {content: \"\";position: absolute;border-left: 1px solid gray;box-sizing: border-box;top: 0;bottom: 0;left: 50%;z-index: -1;}#sk-container-id-2 div.sk-parallel-item {display: flex;flex-direction: column;z-index: 1;position: relative;background-color: white;}#sk-container-id-2 div.sk-parallel-item:first-child::after {align-self: flex-end;width: 50%;}#sk-container-id-2 div.sk-parallel-item:last-child::after {align-self: flex-start;width: 50%;}#sk-container-id-2 div.sk-parallel-item:only-child::after {width: 0;}#sk-container-id-2 div.sk-dashed-wrapped {border: 1px dashed gray;margin: 0 0.4em 0.5em 0.4em;box-sizing: border-box;padding-bottom: 0.4em;background-color: white;}#sk-container-id-2 div.sk-label label {font-family: monospace;font-weight: bold;display: inline-block;line-height: 1.2em;}#sk-container-id-2 div.sk-label-container {text-align: center;}#sk-container-id-2 div.sk-container {/* jupyter's `normalize.less` sets `[hidden] { display: none; }` but bootstrap.min.css set `[hidden] { display: none !important; }` so we also need the `!important` here to be able to override the default hidden behavior on the sphinx rendered scikit-learn.org. See: https://github.com/scikit-learn/scikit-learn/issues/21755 */display: inline-block !important;position: relative;}#sk-container-id-2 div.sk-text-repr-fallback {display: none;}</style><div id=\"sk-container-id-2\" class=\"sk-top-container\"><div class=\"sk-text-repr-fallback\"><pre>XGBRegressor(base_score=None, booster=None, callbacks=None,\n",
              "             colsample_bylevel=None, colsample_bynode=None,\n",
              "             colsample_bytree=None, early_stopping_rounds=None,\n",
              "             enable_categorical=False, eval_metric=None, feature_types=None,\n",
              "             gamma=None, gpu_id=None, grow_policy=None, importance_type=None,\n",
              "             interaction_constraints=None, learning_rate=None, max_bin=None,\n",
              "             max_cat_threshold=None, max_cat_to_onehot=None,\n",
              "             max_delta_step=None, max_depth=None, max_leaves=None,\n",
              "             min_child_weight=None, missing=nan, monotone_constraints=None,\n",
              "             n_estimators=100, n_jobs=None, num_parallel_tree=None,\n",
              "             predictor=None, random_state=None, ...)</pre><b>In a Jupyter environment, please rerun this cell to show the HTML representation or trust the notebook. <br />On GitHub, the HTML representation is unable to render, please try loading this page with nbviewer.org.</b></div><div class=\"sk-container\" hidden><div class=\"sk-item\"><div class=\"sk-estimator sk-toggleable\"><input class=\"sk-toggleable__control sk-hidden--visually\" id=\"sk-estimator-id-2\" type=\"checkbox\" checked><label for=\"sk-estimator-id-2\" class=\"sk-toggleable__label sk-toggleable__label-arrow\">XGBRegressor</label><div class=\"sk-toggleable__content\"><pre>XGBRegressor(base_score=None, booster=None, callbacks=None,\n",
              "             colsample_bylevel=None, colsample_bynode=None,\n",
              "             colsample_bytree=None, early_stopping_rounds=None,\n",
              "             enable_categorical=False, eval_metric=None, feature_types=None,\n",
              "             gamma=None, gpu_id=None, grow_policy=None, importance_type=None,\n",
              "             interaction_constraints=None, learning_rate=None, max_bin=None,\n",
              "             max_cat_threshold=None, max_cat_to_onehot=None,\n",
              "             max_delta_step=None, max_depth=None, max_leaves=None,\n",
              "             min_child_weight=None, missing=nan, monotone_constraints=None,\n",
              "             n_estimators=100, n_jobs=None, num_parallel_tree=None,\n",
              "             predictor=None, random_state=None, ...)</pre></div></div></div></div></div>"
            ],
            "text/plain": [
              "XGBRegressor(base_score=None, booster=None, callbacks=None,\n",
              "             colsample_bylevel=None, colsample_bynode=None,\n",
              "             colsample_bytree=None, early_stopping_rounds=None,\n",
              "             enable_categorical=False, eval_metric=None, feature_types=None,\n",
              "             gamma=None, gpu_id=None, grow_policy=None, importance_type=None,\n",
              "             interaction_constraints=None, learning_rate=None, max_bin=None,\n",
              "             max_cat_threshold=None, max_cat_to_onehot=None,\n",
              "             max_delta_step=None, max_depth=None, max_leaves=None,\n",
              "             min_child_weight=None, missing=nan, monotone_constraints=None,\n",
              "             n_estimators=100, n_jobs=None, num_parallel_tree=None,\n",
              "             predictor=None, random_state=None, ...)"
            ]
          },
          "execution_count": 22,
          "metadata": {},
          "output_type": "execute_result"
        }
      ],
      "source": [
        "xgb1 = XGBRegressor()\n",
        "xgb1.fit(X_train_scaled, y_train)"
      ]
    },
    {
      "cell_type": "code",
      "execution_count": null,
      "metadata": {
        "id": "XiGNJ-4nbvwe"
      },
      "outputs": [],
      "source": [
        "y_pred_xgb1 = xgb1.predict(X_test_scaled)\n",
        "predictions = [round(value) for value in y_pred_xgb1]"
      ]
    },
    {
      "cell_type": "code",
      "execution_count": null,
      "metadata": {
        "colab": {
          "base_uri": "https://localhost:8080/"
        },
        "id": "xWF0C009bxzS",
        "outputId": "84d38dc9-8140-4aa0-a255-f05782dad15a"
      },
      "outputs": [
        {
          "name": "stdout",
          "output_type": "stream",
          "text": [
            "XGBoost : Train Score 0.99 & Test Score 0.99\n"
          ]
        }
      ],
      "source": [
        "print(\"XGBoost : Train Score {:.2f} & Test Score {:.2f}\".format(xgb1.score(X_train_scaled, y_train), xgb1.score(X_test_scaled, y_test)))\n"
      ]
    },
    {
      "cell_type": "markdown",
      "metadata": {
        "id": "1v7DMhvMCzzN"
      },
      "source": [
        "\n",
        "\n",
        "  XGBoost has achieved high scores on both the training and testing datasets, indicating that it has learned the training data well while still generalizing reasonably to the test data. The scores are slightly lower than Random Forest, which may indicate that XGBoost is less prone to overfitting.\n",
        "\n",
        "\n"
      ]
    },
    {
      "cell_type": "code",
      "execution_count": null,
      "metadata": {
        "colab": {
          "base_uri": "https://localhost:8080/",
          "height": 164
        },
        "id": "2XnL9zinb0L2",
        "outputId": "b0d57809-8f0b-4045-b470-48e572c90518"
      },
      "outputs": [
        {
          "name": "stdout",
          "output_type": "stream",
          "text": [
            "[LightGBM] [Warning] Auto-choosing col-wise multi-threading, the overhead of testing was 0.146286 seconds.\n",
            "You can set `force_col_wise=true` to remove the overhead.\n",
            "[LightGBM] [Info] Total Bins 616\n",
            "[LightGBM] [Info] Number of data points in the train set: 4872236, number of used features: 4\n",
            "[LightGBM] [Info] Start training from score 18.369387\n"
          ]
        },
        {
          "data": {
            "text/html": [
              "<style>#sk-container-id-3 {color: black;background-color: white;}#sk-container-id-3 pre{padding: 0;}#sk-container-id-3 div.sk-toggleable {background-color: white;}#sk-container-id-3 label.sk-toggleable__label {cursor: pointer;display: block;width: 100%;margin-bottom: 0;padding: 0.3em;box-sizing: border-box;text-align: center;}#sk-container-id-3 label.sk-toggleable__label-arrow:before {content: \"▸\";float: left;margin-right: 0.25em;color: #696969;}#sk-container-id-3 label.sk-toggleable__label-arrow:hover:before {color: black;}#sk-container-id-3 div.sk-estimator:hover label.sk-toggleable__label-arrow:before {color: black;}#sk-container-id-3 div.sk-toggleable__content {max-height: 0;max-width: 0;overflow: hidden;text-align: left;background-color: #f0f8ff;}#sk-container-id-3 div.sk-toggleable__content pre {margin: 0.2em;color: black;border-radius: 0.25em;background-color: #f0f8ff;}#sk-container-id-3 input.sk-toggleable__control:checked~div.sk-toggleable__content {max-height: 200px;max-width: 100%;overflow: auto;}#sk-container-id-3 input.sk-toggleable__control:checked~label.sk-toggleable__label-arrow:before {content: \"▾\";}#sk-container-id-3 div.sk-estimator input.sk-toggleable__control:checked~label.sk-toggleable__label {background-color: #d4ebff;}#sk-container-id-3 div.sk-label input.sk-toggleable__control:checked~label.sk-toggleable__label {background-color: #d4ebff;}#sk-container-id-3 input.sk-hidden--visually {border: 0;clip: rect(1px 1px 1px 1px);clip: rect(1px, 1px, 1px, 1px);height: 1px;margin: -1px;overflow: hidden;padding: 0;position: absolute;width: 1px;}#sk-container-id-3 div.sk-estimator {font-family: monospace;background-color: #f0f8ff;border: 1px dotted black;border-radius: 0.25em;box-sizing: border-box;margin-bottom: 0.5em;}#sk-container-id-3 div.sk-estimator:hover {background-color: #d4ebff;}#sk-container-id-3 div.sk-parallel-item::after {content: \"\";width: 100%;border-bottom: 1px solid gray;flex-grow: 1;}#sk-container-id-3 div.sk-label:hover label.sk-toggleable__label {background-color: #d4ebff;}#sk-container-id-3 div.sk-serial::before {content: \"\";position: absolute;border-left: 1px solid gray;box-sizing: border-box;top: 0;bottom: 0;left: 50%;z-index: 0;}#sk-container-id-3 div.sk-serial {display: flex;flex-direction: column;align-items: center;background-color: white;padding-right: 0.2em;padding-left: 0.2em;position: relative;}#sk-container-id-3 div.sk-item {position: relative;z-index: 1;}#sk-container-id-3 div.sk-parallel {display: flex;align-items: stretch;justify-content: center;background-color: white;position: relative;}#sk-container-id-3 div.sk-item::before, #sk-container-id-3 div.sk-parallel-item::before {content: \"\";position: absolute;border-left: 1px solid gray;box-sizing: border-box;top: 0;bottom: 0;left: 50%;z-index: -1;}#sk-container-id-3 div.sk-parallel-item {display: flex;flex-direction: column;z-index: 1;position: relative;background-color: white;}#sk-container-id-3 div.sk-parallel-item:first-child::after {align-self: flex-end;width: 50%;}#sk-container-id-3 div.sk-parallel-item:last-child::after {align-self: flex-start;width: 50%;}#sk-container-id-3 div.sk-parallel-item:only-child::after {width: 0;}#sk-container-id-3 div.sk-dashed-wrapped {border: 1px dashed gray;margin: 0 0.4em 0.5em 0.4em;box-sizing: border-box;padding-bottom: 0.4em;background-color: white;}#sk-container-id-3 div.sk-label label {font-family: monospace;font-weight: bold;display: inline-block;line-height: 1.2em;}#sk-container-id-3 div.sk-label-container {text-align: center;}#sk-container-id-3 div.sk-container {/* jupyter's `normalize.less` sets `[hidden] { display: none; }` but bootstrap.min.css set `[hidden] { display: none !important; }` so we also need the `!important` here to be able to override the default hidden behavior on the sphinx rendered scikit-learn.org. See: https://github.com/scikit-learn/scikit-learn/issues/21755 */display: inline-block !important;position: relative;}#sk-container-id-3 div.sk-text-repr-fallback {display: none;}</style><div id=\"sk-container-id-3\" class=\"sk-top-container\"><div class=\"sk-text-repr-fallback\"><pre>LGBMRegressor()</pre><b>In a Jupyter environment, please rerun this cell to show the HTML representation or trust the notebook. <br />On GitHub, the HTML representation is unable to render, please try loading this page with nbviewer.org.</b></div><div class=\"sk-container\" hidden><div class=\"sk-item\"><div class=\"sk-estimator sk-toggleable\"><input class=\"sk-toggleable__control sk-hidden--visually\" id=\"sk-estimator-id-3\" type=\"checkbox\" checked><label for=\"sk-estimator-id-3\" class=\"sk-toggleable__label sk-toggleable__label-arrow\">LGBMRegressor</label><div class=\"sk-toggleable__content\"><pre>LGBMRegressor()</pre></div></div></div></div></div>"
            ],
            "text/plain": [
              "LGBMRegressor()"
            ]
          },
          "execution_count": 25,
          "metadata": {},
          "output_type": "execute_result"
        }
      ],
      "source": [
        "LGB = LGBMRegressor()\n",
        "LGB.fit(X_train_scaled, y_train)"
      ]
    },
    {
      "cell_type": "code",
      "execution_count": null,
      "metadata": {
        "id": "LbF8z66Db2V0"
      },
      "outputs": [],
      "source": [
        "y_pred_LGB = LGB.predict(X_test_scaled)\n"
      ]
    },
    {
      "cell_type": "code",
      "execution_count": null,
      "metadata": {
        "colab": {
          "base_uri": "https://localhost:8080/"
        },
        "id": "3i0UmKtib3-a",
        "outputId": "f90a31ff-59a7-480a-ef20-9383ff0ca29c"
      },
      "outputs": [
        {
          "name": "stdout",
          "output_type": "stream",
          "text": [
            "LGBMRegressor : Train Score 0.98 & Test Score 0.98\n"
          ]
        }
      ],
      "source": [
        "print(\"LGBMRegressor : Train Score {:.2f} & Test Score {:.2f}\".format(LGB.score(X_train_scaled, y_train), LGB.score(X_test_scaled, y_test)))\n"
      ]
    },
    {
      "cell_type": "markdown",
      "metadata": {
        "id": "ZWNqQcQnDC0s"
      },
      "source": [
        "\n",
        "\n",
        "*   LGBMRegressor has achieved high scores on both the training and testing datasets, which indicates that it has learned the training data well and generalizes reasonably to unseen data.\n",
        "*   Similar to XGBoost, LGBMRegressor is a gradient boosting algorithm known for its speed and efficiency, making it suitable for large datasets.\n",
        "*   While the scores are slightly lower than those of Random Forest, this could be due to its more complex nature, which may require better hyperparameter tuning.\n",
        "*   LGBMRegressor is often a good choice when computational efficiency is a concern and when dealing with large datasets.\n",
        "\n",
        "\n",
        "\n"
      ]
    },
    {
      "cell_type": "markdown",
      "metadata": {
        "id": "1RtR9VrODVvn"
      },
      "source": [
        "We conclude from the provided scores that it might seem like Random Forest has the best performance because it has perfect scores of 1.00 for both the training and test sets. However, achieving perfect scores on both training and test data is usually a sign of overfitting. Overfitting means that the model has learned the training data too well and might not generalize well to new, unseen data.\n",
        "\n",
        "Based on the provided scores, it's challenging to conclude which model is the best without additional information or a more comprehensive evaluation.\n",
        "\n",
        " Models like XGBoost, LGBMRegressor, and ElasticNet, which have high scores but not perfect, may be better choices as they are less likely to overfit and may have better generalization to unseen data.\n",
        "\n",
        " However, the choice between these models depends on various factors, including the specific problem you are trying to solve, the size and quality of your dataset, and computational resources."
      ]
    }
  ],
  "metadata": {
    "colab": {
      "collapsed_sections": [
        "7Xs6MCmqglF1"
      ],
      "provenance": [],
      "include_colab_link": true
    },
    "kernelspec": {
      "display_name": "Python 3",
      "name": "python3"
    },
    "language_info": {
      "name": "python"
    }
  },
  "nbformat": 4,
  "nbformat_minor": 0
}